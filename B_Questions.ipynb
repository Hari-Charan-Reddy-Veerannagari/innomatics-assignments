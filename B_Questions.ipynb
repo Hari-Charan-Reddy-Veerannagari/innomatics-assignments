{
 "cells": [
  {
   "cell_type": "markdown",
   "metadata": {},
   "source": [
    "### Question.1"
   ]
  },
  {
   "cell_type": "markdown",
   "metadata": {},
   "source": [
    "__a) List the products sold__"
   ]
  },
  {
   "cell_type": "markdown",
   "metadata": {},
   "source": [
    "__b).List of quantity sold against each product.__"
   ]
  },
  {
   "cell_type": "markdown",
   "metadata": {},
   "source": [
    "__c).List of quantity and total sales against each product.__"
   ]
  },
  {
   "cell_type": "markdown",
   "metadata": {},
   "source": [
    "__d).List of quantity sold against each product and against each store.__"
   ]
  },
  {
   "cell_type": "markdown",
   "metadata": {},
   "source": [
    "__e).List of quantity sold against each Store with total turnover of the store.__"
   ]
  },
  {
   "cell_type": "markdown",
   "metadata": {},
   "source": [
    "__f)List of products which are not sold.__"
   ]
  },
  {
   "cell_type": "markdown",
   "metadata": {},
   "source": [
    "__g)List of customers who have not purchased any product.__"
   ]
  },
  {
   "cell_type": "markdown",
   "metadata": {},
   "source": [
    "### 2nd Question. From cars data "
   ]
  },
  {
   "cell_type": "markdown",
   "metadata": {},
   "source": [
    "a. From a dataframe show first and last five rows?\n",
    "b. Find which car brand price is maximum?  \n",
    "c. Find All \"Nissan\" Cars information’s?  \n",
    "d. Let calculate total no. of cars per firm?\n",
    "e. Find each brand’s highest price car?  \n",
    "f. Find the average mileage of each car brand? \n",
    "g. Sort all cars by Price?  \n"
   ]
  }
 ],
 "metadata": {
  "kernelspec": {
   "display_name": "Python 3",
   "language": "python",
   "name": "python3"
  },
  "language_info": {
   "codemirror_mode": {
    "name": "ipython",
    "version": 3
   },
   "file_extension": ".py",
   "mimetype": "text/x-python",
   "name": "python",
   "nbconvert_exporter": "python",
   "pygments_lexer": "ipython3",
   "version": "3.8.5"
  }
 },
 "nbformat": 4,
 "nbformat_minor": 2
}
