{
  "cells": [
    {
      "cell_type": "markdown",
      "source": [
        "# Mahindra Club Resort Spending Prediction\n"
      ],
      "metadata": {
        "id": "KYXGMZNTij-v"
      }
    },
    {
      "cell_type": "code",
      "execution_count": 149,
      "metadata": {
        "id": "lIYdn1woOS1n"
      },
      "outputs": [],
      "source": [
        "import numpy as np \n",
        "import pandas as pd\n",
        "\n",
        "import matplotlib.pyplot as plt\n",
        "import seaborn as sns\n",
        "\n",
        "from tqdm import tqdm\n",
        "\n",
        "import warnings\n",
        "warnings.simplefilter(\"ignore\")\n"
      ]
    },
    {
      "cell_type": "markdown",
      "source": [
        "### Loading data and High level info of data\n"
      ],
      "metadata": {
        "id": "CD2TRZKwiiN6"
      }
    },
    {
      "cell_type": "code",
      "source": [
        "data = pd.read_csv('./train_clubmahindra.csv')\n",
        "data"
      ],
      "metadata": {
        "id": "YESyuwIObWeG",
        "outputId": "6766ee6d-9df4-4696-f3d4-f5ae4c5a8df0",
        "colab": {
          "base_uri": "https://localhost:8080/",
          "height": 487
        }
      },
      "execution_count": 150,
      "outputs": [
        {
          "output_type": "execute_result",
          "data": {
            "text/plain": [
              "                                           reservation_id booking_date  \\\n",
              "0       07659f3758d8aee27f5a7e2887adeacb67021cb95ada1b...     05/04/18   \n",
              "1       03930f033646d073462b35d411616323597715ac4fc398...     23/01/15   \n",
              "2       d145a32920e6587ad95bfe299d80c0affa268220535aaf...     28/01/15   \n",
              "3       cfd77f44811ed62f25a220b53324cdbafc662a4c9e5f04...     02/05/15   \n",
              "4       937cff9e4dcfc2459620153dfc8b9962ac22bea67dfb29...     02/09/15   \n",
              "...                                                   ...          ...   \n",
              "341419  a804d59b74b1d532a90740ded80dd05873bbef125bc349...     11/02/19   \n",
              "341420  7062c92a631731e7189cf3dddb20aceeae91a883e14229...     27/02/19   \n",
              "341421  18a5668c302c321dc2d42a48923ceff97af633c66d72ee...     27/02/19   \n",
              "341422  1cbe1611a122023d7e994b4cf51fcf28ce44acdbcabbfb...     27/02/19   \n",
              "341423  8712dd3ce2e36f2fbcd16b24aa3b89bd1c5203a39e578b...     28/02/19   \n",
              "\n",
              "       checkin_date checkout_date  channel_code  main_product_code  \\\n",
              "0          05/04/18      06/04/18             3                  1   \n",
              "1          11/04/15      16/04/15             1                  1   \n",
              "2          01/02/15      05/02/15             1                  1   \n",
              "3          11/06/15      16/06/15             1                  1   \n",
              "4          14/12/15      19/12/15             1                  1   \n",
              "...             ...           ...           ...                ...   \n",
              "341419     27/02/19      01/03/19             2                  2   \n",
              "341420     28/02/19      01/03/19             2                  4   \n",
              "341421     27/02/19      28/02/19             3                  3   \n",
              "341422     28/02/19      01/03/19             1                  3   \n",
              "341423     01/03/19      02/03/19             3                  3   \n",
              "\n",
              "        numberofadults  numberofchildren  persontravellingid  \\\n",
              "0                    2                 0                  46   \n",
              "1                    2                 0                  46   \n",
              "2                    2                 0                  47   \n",
              "3                    2                 2                  46   \n",
              "4                    2                 0                  46   \n",
              "...                ...               ...                 ...   \n",
              "341419               4                 0                  47   \n",
              "341420               2                 0                  45   \n",
              "341421               3                 0                  45   \n",
              "341422               5                 0                  47   \n",
              "341423               2                 0                  45   \n",
              "\n",
              "        resort_region_code  ...  state_code_residence  state_code_resort  \\\n",
              "0                        3  ...                   7.0                  3   \n",
              "1                        3  ...                   7.0                  5   \n",
              "2                        1  ...                   7.0                  1   \n",
              "3                        2  ...                   7.0                  2   \n",
              "4                        2  ...                   7.0                  2   \n",
              "...                    ...  ...                   ...                ...   \n",
              "341419                   1  ...                   8.0                  1   \n",
              "341420                   1  ...                  10.0                  1   \n",
              "341421                   1  ...                  10.0                  4   \n",
              "341422                   2  ...                   8.0                  2   \n",
              "341423                   2  ...                   8.0                  7   \n",
              "\n",
              "        total_pax  member_age_buckets  booking_type_code  \\\n",
              "0               3                   F                  1   \n",
              "1               2                   F                  1   \n",
              "2               2                   F                  1   \n",
              "3               2                   F                  1   \n",
              "4               2                   F                  1   \n",
              "...           ...                 ...                ...   \n",
              "341419          2                   I                  1   \n",
              "341420          2                   D                  1   \n",
              "341421          3                   H                  1   \n",
              "341422          3                   B                  1   \n",
              "341423          5                   B                  2   \n",
              "\n",
              "                                                 memberid  cluster_code  \\\n",
              "0       3d1539e56495b6991f0a3ef5a61ca3d03ce4fff7380e9a...             F   \n",
              "1       3d1539e56495b6991f0a3ef5a61ca3d03ce4fff7380e9a...             F   \n",
              "2       3d1539e56495b6991f0a3ef5a61ca3d03ce4fff7380e9a...             E   \n",
              "3       3d1539e56495b6991f0a3ef5a61ca3d03ce4fff7380e9a...             D   \n",
              "4       3d1539e56495b6991f0a3ef5a61ca3d03ce4fff7380e9a...             D   \n",
              "...                                                   ...           ...   \n",
              "341419  0095e00c6dae789d37628bd85697e53c423231337994c4...             E   \n",
              "341420  42d7b97ad0d345da57a4010157729286418481f3d7ad24...             E   \n",
              "341421  f393011a27daf3d1676417f48f44ad9ed3541285e71209...             F   \n",
              "341422  b14649c29eb050f4e9b69c7a3afb5dfa00d12dabfd2e40...             D   \n",
              "341423  2a3936f649eb6af2167f41fb6f0cc9f352d142125f402f...             C   \n",
              "\n",
              "       reservationstatusid_code  \\\n",
              "0                             C   \n",
              "1                             A   \n",
              "2                             A   \n",
              "3                             A   \n",
              "4                             A   \n",
              "...                         ...   \n",
              "341419                        A   \n",
              "341420                        A   \n",
              "341421                        A   \n",
              "341422                        A   \n",
              "341423                        A   \n",
              "\n",
              "                                                resort_id  \\\n",
              "0       4e07408562bedb8b60ce05c1decfe3ad16b72230967de0...   \n",
              "1       39fa9ec190eee7b6f4dff1100d6343e10918d044c75eac...   \n",
              "2       535fa30d7e25dd8a49f1536779734ec8286108d115da50...   \n",
              "3       d4735e3a265e16eee03f59718b9b5d03019c07d8b6c51f...   \n",
              "4       d4735e3a265e16eee03f59718b9b5d03019c07d8b6c51f...   \n",
              "...                                                   ...   \n",
              "341419  c6f3ac57944a531490cd39902d0f777715fd005efac9a3...   \n",
              "341420  c75cb66ae28d8ebc6eded002c28a8ba0d06d3a78c6b5cb...   \n",
              "341421  4b227777d4dd1fc61c6f884f48641d02b4d121d3fd328c...   \n",
              "341422  6208ef0f7750c111548cf90b6ea1d0d0a66f6bff40dbef...   \n",
              "341423  9400f1b21cb527d7fa3d3eabba93557a18ebe7a2ca4e47...   \n",
              "\n",
              "       amount_spent_per_room_night_scaled  \n",
              "0                                7.706428  \n",
              "1                                6.662563  \n",
              "2                                7.871602  \n",
              "3                                5.344943  \n",
              "4                                7.059346  \n",
              "...                                   ...  \n",
              "341419                           5.918087  \n",
              "341420                           8.186771  \n",
              "341421                           8.381939  \n",
              "341422                           8.856035  \n",
              "341423                           7.864627  \n",
              "\n",
              "[341424 rows x 24 columns]"
            ],
            "text/html": [
              "\n",
              "  <div id=\"df-a77a6dbf-5faa-4722-a65d-166c3b6f2126\">\n",
              "    <div class=\"colab-df-container\">\n",
              "      <div>\n",
              "<style scoped>\n",
              "    .dataframe tbody tr th:only-of-type {\n",
              "        vertical-align: middle;\n",
              "    }\n",
              "\n",
              "    .dataframe tbody tr th {\n",
              "        vertical-align: top;\n",
              "    }\n",
              "\n",
              "    .dataframe thead th {\n",
              "        text-align: right;\n",
              "    }\n",
              "</style>\n",
              "<table border=\"1\" class=\"dataframe\">\n",
              "  <thead>\n",
              "    <tr style=\"text-align: right;\">\n",
              "      <th></th>\n",
              "      <th>reservation_id</th>\n",
              "      <th>booking_date</th>\n",
              "      <th>checkin_date</th>\n",
              "      <th>checkout_date</th>\n",
              "      <th>channel_code</th>\n",
              "      <th>main_product_code</th>\n",
              "      <th>numberofadults</th>\n",
              "      <th>numberofchildren</th>\n",
              "      <th>persontravellingid</th>\n",
              "      <th>resort_region_code</th>\n",
              "      <th>...</th>\n",
              "      <th>state_code_residence</th>\n",
              "      <th>state_code_resort</th>\n",
              "      <th>total_pax</th>\n",
              "      <th>member_age_buckets</th>\n",
              "      <th>booking_type_code</th>\n",
              "      <th>memberid</th>\n",
              "      <th>cluster_code</th>\n",
              "      <th>reservationstatusid_code</th>\n",
              "      <th>resort_id</th>\n",
              "      <th>amount_spent_per_room_night_scaled</th>\n",
              "    </tr>\n",
              "  </thead>\n",
              "  <tbody>\n",
              "    <tr>\n",
              "      <th>0</th>\n",
              "      <td>07659f3758d8aee27f5a7e2887adeacb67021cb95ada1b...</td>\n",
              "      <td>05/04/18</td>\n",
              "      <td>05/04/18</td>\n",
              "      <td>06/04/18</td>\n",
              "      <td>3</td>\n",
              "      <td>1</td>\n",
              "      <td>2</td>\n",
              "      <td>0</td>\n",
              "      <td>46</td>\n",
              "      <td>3</td>\n",
              "      <td>...</td>\n",
              "      <td>7.0</td>\n",
              "      <td>3</td>\n",
              "      <td>3</td>\n",
              "      <td>F</td>\n",
              "      <td>1</td>\n",
              "      <td>3d1539e56495b6991f0a3ef5a61ca3d03ce4fff7380e9a...</td>\n",
              "      <td>F</td>\n",
              "      <td>C</td>\n",
              "      <td>4e07408562bedb8b60ce05c1decfe3ad16b72230967de0...</td>\n",
              "      <td>7.706428</td>\n",
              "    </tr>\n",
              "    <tr>\n",
              "      <th>1</th>\n",
              "      <td>03930f033646d073462b35d411616323597715ac4fc398...</td>\n",
              "      <td>23/01/15</td>\n",
              "      <td>11/04/15</td>\n",
              "      <td>16/04/15</td>\n",
              "      <td>1</td>\n",
              "      <td>1</td>\n",
              "      <td>2</td>\n",
              "      <td>0</td>\n",
              "      <td>46</td>\n",
              "      <td>3</td>\n",
              "      <td>...</td>\n",
              "      <td>7.0</td>\n",
              "      <td>5</td>\n",
              "      <td>2</td>\n",
              "      <td>F</td>\n",
              "      <td>1</td>\n",
              "      <td>3d1539e56495b6991f0a3ef5a61ca3d03ce4fff7380e9a...</td>\n",
              "      <td>F</td>\n",
              "      <td>A</td>\n",
              "      <td>39fa9ec190eee7b6f4dff1100d6343e10918d044c75eac...</td>\n",
              "      <td>6.662563</td>\n",
              "    </tr>\n",
              "    <tr>\n",
              "      <th>2</th>\n",
              "      <td>d145a32920e6587ad95bfe299d80c0affa268220535aaf...</td>\n",
              "      <td>28/01/15</td>\n",
              "      <td>01/02/15</td>\n",
              "      <td>05/02/15</td>\n",
              "      <td>1</td>\n",
              "      <td>1</td>\n",
              "      <td>2</td>\n",
              "      <td>0</td>\n",
              "      <td>47</td>\n",
              "      <td>1</td>\n",
              "      <td>...</td>\n",
              "      <td>7.0</td>\n",
              "      <td>1</td>\n",
              "      <td>2</td>\n",
              "      <td>F</td>\n",
              "      <td>1</td>\n",
              "      <td>3d1539e56495b6991f0a3ef5a61ca3d03ce4fff7380e9a...</td>\n",
              "      <td>E</td>\n",
              "      <td>A</td>\n",
              "      <td>535fa30d7e25dd8a49f1536779734ec8286108d115da50...</td>\n",
              "      <td>7.871602</td>\n",
              "    </tr>\n",
              "    <tr>\n",
              "      <th>3</th>\n",
              "      <td>cfd77f44811ed62f25a220b53324cdbafc662a4c9e5f04...</td>\n",
              "      <td>02/05/15</td>\n",
              "      <td>11/06/15</td>\n",
              "      <td>16/06/15</td>\n",
              "      <td>1</td>\n",
              "      <td>1</td>\n",
              "      <td>2</td>\n",
              "      <td>2</td>\n",
              "      <td>46</td>\n",
              "      <td>2</td>\n",
              "      <td>...</td>\n",
              "      <td>7.0</td>\n",
              "      <td>2</td>\n",
              "      <td>2</td>\n",
              "      <td>F</td>\n",
              "      <td>1</td>\n",
              "      <td>3d1539e56495b6991f0a3ef5a61ca3d03ce4fff7380e9a...</td>\n",
              "      <td>D</td>\n",
              "      <td>A</td>\n",
              "      <td>d4735e3a265e16eee03f59718b9b5d03019c07d8b6c51f...</td>\n",
              "      <td>5.344943</td>\n",
              "    </tr>\n",
              "    <tr>\n",
              "      <th>4</th>\n",
              "      <td>937cff9e4dcfc2459620153dfc8b9962ac22bea67dfb29...</td>\n",
              "      <td>02/09/15</td>\n",
              "      <td>14/12/15</td>\n",
              "      <td>19/12/15</td>\n",
              "      <td>1</td>\n",
              "      <td>1</td>\n",
              "      <td>2</td>\n",
              "      <td>0</td>\n",
              "      <td>46</td>\n",
              "      <td>2</td>\n",
              "      <td>...</td>\n",
              "      <td>7.0</td>\n",
              "      <td>2</td>\n",
              "      <td>2</td>\n",
              "      <td>F</td>\n",
              "      <td>1</td>\n",
              "      <td>3d1539e56495b6991f0a3ef5a61ca3d03ce4fff7380e9a...</td>\n",
              "      <td>D</td>\n",
              "      <td>A</td>\n",
              "      <td>d4735e3a265e16eee03f59718b9b5d03019c07d8b6c51f...</td>\n",
              "      <td>7.059346</td>\n",
              "    </tr>\n",
              "    <tr>\n",
              "      <th>...</th>\n",
              "      <td>...</td>\n",
              "      <td>...</td>\n",
              "      <td>...</td>\n",
              "      <td>...</td>\n",
              "      <td>...</td>\n",
              "      <td>...</td>\n",
              "      <td>...</td>\n",
              "      <td>...</td>\n",
              "      <td>...</td>\n",
              "      <td>...</td>\n",
              "      <td>...</td>\n",
              "      <td>...</td>\n",
              "      <td>...</td>\n",
              "      <td>...</td>\n",
              "      <td>...</td>\n",
              "      <td>...</td>\n",
              "      <td>...</td>\n",
              "      <td>...</td>\n",
              "      <td>...</td>\n",
              "      <td>...</td>\n",
              "      <td>...</td>\n",
              "    </tr>\n",
              "    <tr>\n",
              "      <th>341419</th>\n",
              "      <td>a804d59b74b1d532a90740ded80dd05873bbef125bc349...</td>\n",
              "      <td>11/02/19</td>\n",
              "      <td>27/02/19</td>\n",
              "      <td>01/03/19</td>\n",
              "      <td>2</td>\n",
              "      <td>2</td>\n",
              "      <td>4</td>\n",
              "      <td>0</td>\n",
              "      <td>47</td>\n",
              "      <td>1</td>\n",
              "      <td>...</td>\n",
              "      <td>8.0</td>\n",
              "      <td>1</td>\n",
              "      <td>2</td>\n",
              "      <td>I</td>\n",
              "      <td>1</td>\n",
              "      <td>0095e00c6dae789d37628bd85697e53c423231337994c4...</td>\n",
              "      <td>E</td>\n",
              "      <td>A</td>\n",
              "      <td>c6f3ac57944a531490cd39902d0f777715fd005efac9a3...</td>\n",
              "      <td>5.918087</td>\n",
              "    </tr>\n",
              "    <tr>\n",
              "      <th>341420</th>\n",
              "      <td>7062c92a631731e7189cf3dddb20aceeae91a883e14229...</td>\n",
              "      <td>27/02/19</td>\n",
              "      <td>28/02/19</td>\n",
              "      <td>01/03/19</td>\n",
              "      <td>2</td>\n",
              "      <td>4</td>\n",
              "      <td>2</td>\n",
              "      <td>0</td>\n",
              "      <td>45</td>\n",
              "      <td>1</td>\n",
              "      <td>...</td>\n",
              "      <td>10.0</td>\n",
              "      <td>1</td>\n",
              "      <td>2</td>\n",
              "      <td>D</td>\n",
              "      <td>1</td>\n",
              "      <td>42d7b97ad0d345da57a4010157729286418481f3d7ad24...</td>\n",
              "      <td>E</td>\n",
              "      <td>A</td>\n",
              "      <td>c75cb66ae28d8ebc6eded002c28a8ba0d06d3a78c6b5cb...</td>\n",
              "      <td>8.186771</td>\n",
              "    </tr>\n",
              "    <tr>\n",
              "      <th>341421</th>\n",
              "      <td>18a5668c302c321dc2d42a48923ceff97af633c66d72ee...</td>\n",
              "      <td>27/02/19</td>\n",
              "      <td>27/02/19</td>\n",
              "      <td>28/02/19</td>\n",
              "      <td>3</td>\n",
              "      <td>3</td>\n",
              "      <td>3</td>\n",
              "      <td>0</td>\n",
              "      <td>45</td>\n",
              "      <td>1</td>\n",
              "      <td>...</td>\n",
              "      <td>10.0</td>\n",
              "      <td>4</td>\n",
              "      <td>3</td>\n",
              "      <td>H</td>\n",
              "      <td>1</td>\n",
              "      <td>f393011a27daf3d1676417f48f44ad9ed3541285e71209...</td>\n",
              "      <td>F</td>\n",
              "      <td>A</td>\n",
              "      <td>4b227777d4dd1fc61c6f884f48641d02b4d121d3fd328c...</td>\n",
              "      <td>8.381939</td>\n",
              "    </tr>\n",
              "    <tr>\n",
              "      <th>341422</th>\n",
              "      <td>1cbe1611a122023d7e994b4cf51fcf28ce44acdbcabbfb...</td>\n",
              "      <td>27/02/19</td>\n",
              "      <td>28/02/19</td>\n",
              "      <td>01/03/19</td>\n",
              "      <td>1</td>\n",
              "      <td>3</td>\n",
              "      <td>5</td>\n",
              "      <td>0</td>\n",
              "      <td>47</td>\n",
              "      <td>2</td>\n",
              "      <td>...</td>\n",
              "      <td>8.0</td>\n",
              "      <td>2</td>\n",
              "      <td>3</td>\n",
              "      <td>B</td>\n",
              "      <td>1</td>\n",
              "      <td>b14649c29eb050f4e9b69c7a3afb5dfa00d12dabfd2e40...</td>\n",
              "      <td>D</td>\n",
              "      <td>A</td>\n",
              "      <td>6208ef0f7750c111548cf90b6ea1d0d0a66f6bff40dbef...</td>\n",
              "      <td>8.856035</td>\n",
              "    </tr>\n",
              "    <tr>\n",
              "      <th>341423</th>\n",
              "      <td>8712dd3ce2e36f2fbcd16b24aa3b89bd1c5203a39e578b...</td>\n",
              "      <td>28/02/19</td>\n",
              "      <td>01/03/19</td>\n",
              "      <td>02/03/19</td>\n",
              "      <td>3</td>\n",
              "      <td>3</td>\n",
              "      <td>2</td>\n",
              "      <td>0</td>\n",
              "      <td>45</td>\n",
              "      <td>2</td>\n",
              "      <td>...</td>\n",
              "      <td>8.0</td>\n",
              "      <td>7</td>\n",
              "      <td>5</td>\n",
              "      <td>B</td>\n",
              "      <td>2</td>\n",
              "      <td>2a3936f649eb6af2167f41fb6f0cc9f352d142125f402f...</td>\n",
              "      <td>C</td>\n",
              "      <td>A</td>\n",
              "      <td>9400f1b21cb527d7fa3d3eabba93557a18ebe7a2ca4e47...</td>\n",
              "      <td>7.864627</td>\n",
              "    </tr>\n",
              "  </tbody>\n",
              "</table>\n",
              "<p>341424 rows × 24 columns</p>\n",
              "</div>\n",
              "      <button class=\"colab-df-convert\" onclick=\"convertToInteractive('df-a77a6dbf-5faa-4722-a65d-166c3b6f2126')\"\n",
              "              title=\"Convert this dataframe to an interactive table.\"\n",
              "              style=\"display:none;\">\n",
              "        \n",
              "  <svg xmlns=\"http://www.w3.org/2000/svg\" height=\"24px\"viewBox=\"0 0 24 24\"\n",
              "       width=\"24px\">\n",
              "    <path d=\"M0 0h24v24H0V0z\" fill=\"none\"/>\n",
              "    <path d=\"M18.56 5.44l.94 2.06.94-2.06 2.06-.94-2.06-.94-.94-2.06-.94 2.06-2.06.94zm-11 1L8.5 8.5l.94-2.06 2.06-.94-2.06-.94L8.5 2.5l-.94 2.06-2.06.94zm10 10l.94 2.06.94-2.06 2.06-.94-2.06-.94-.94-2.06-.94 2.06-2.06.94z\"/><path d=\"M17.41 7.96l-1.37-1.37c-.4-.4-.92-.59-1.43-.59-.52 0-1.04.2-1.43.59L10.3 9.45l-7.72 7.72c-.78.78-.78 2.05 0 2.83L4 21.41c.39.39.9.59 1.41.59.51 0 1.02-.2 1.41-.59l7.78-7.78 2.81-2.81c.8-.78.8-2.07 0-2.86zM5.41 20L4 18.59l7.72-7.72 1.47 1.35L5.41 20z\"/>\n",
              "  </svg>\n",
              "      </button>\n",
              "      \n",
              "  <style>\n",
              "    .colab-df-container {\n",
              "      display:flex;\n",
              "      flex-wrap:wrap;\n",
              "      gap: 12px;\n",
              "    }\n",
              "\n",
              "    .colab-df-convert {\n",
              "      background-color: #E8F0FE;\n",
              "      border: none;\n",
              "      border-radius: 50%;\n",
              "      cursor: pointer;\n",
              "      display: none;\n",
              "      fill: #1967D2;\n",
              "      height: 32px;\n",
              "      padding: 0 0 0 0;\n",
              "      width: 32px;\n",
              "    }\n",
              "\n",
              "    .colab-df-convert:hover {\n",
              "      background-color: #E2EBFA;\n",
              "      box-shadow: 0px 1px 2px rgba(60, 64, 67, 0.3), 0px 1px 3px 1px rgba(60, 64, 67, 0.15);\n",
              "      fill: #174EA6;\n",
              "    }\n",
              "\n",
              "    [theme=dark] .colab-df-convert {\n",
              "      background-color: #3B4455;\n",
              "      fill: #D2E3FC;\n",
              "    }\n",
              "\n",
              "    [theme=dark] .colab-df-convert:hover {\n",
              "      background-color: #434B5C;\n",
              "      box-shadow: 0px 1px 3px 1px rgba(0, 0, 0, 0.15);\n",
              "      filter: drop-shadow(0px 1px 2px rgba(0, 0, 0, 0.3));\n",
              "      fill: #FFFFFF;\n",
              "    }\n",
              "  </style>\n",
              "\n",
              "      <script>\n",
              "        const buttonEl =\n",
              "          document.querySelector('#df-a77a6dbf-5faa-4722-a65d-166c3b6f2126 button.colab-df-convert');\n",
              "        buttonEl.style.display =\n",
              "          google.colab.kernel.accessAllowed ? 'block' : 'none';\n",
              "\n",
              "        async function convertToInteractive(key) {\n",
              "          const element = document.querySelector('#df-a77a6dbf-5faa-4722-a65d-166c3b6f2126');\n",
              "          const dataTable =\n",
              "            await google.colab.kernel.invokeFunction('convertToInteractive',\n",
              "                                                     [key], {});\n",
              "          if (!dataTable) return;\n",
              "\n",
              "          const docLinkHtml = 'Like what you see? Visit the ' +\n",
              "            '<a target=\"_blank\" href=https://colab.research.google.com/notebooks/data_table.ipynb>data table notebook</a>'\n",
              "            + ' to learn more about interactive tables.';\n",
              "          element.innerHTML = '';\n",
              "          dataTable['output_type'] = 'display_data';\n",
              "          await google.colab.output.renderOutput(dataTable, element);\n",
              "          const docLink = document.createElement('div');\n",
              "          docLink.innerHTML = docLinkHtml;\n",
              "          element.appendChild(docLink);\n",
              "        }\n",
              "      </script>\n",
              "    </div>\n",
              "  </div>\n",
              "  "
            ]
          },
          "metadata": {},
          "execution_count": 150
        }
      ]
    },
    {
      "cell_type": "code",
      "source": [
        "data.describe()"
      ],
      "metadata": {
        "colab": {
          "base_uri": "https://localhost:8080/",
          "height": 364
        },
        "id": "67iwY6aejLvu",
        "outputId": "bbb023c6-e6e9-455c-94c0-0091284a17e4"
      },
      "execution_count": 151,
      "outputs": [
        {
          "output_type": "execute_result",
          "data": {
            "text/plain": [
              "        channel_code  main_product_code  numberofadults  numberofchildren  \\\n",
              "count  341424.000000      341424.000000   341424.000000     341424.000000   \n",
              "mean        1.902810           2.208738        3.275361          0.362696   \n",
              "std         0.915311           0.823779        1.756062          0.758019   \n",
              "min         1.000000           1.000000        0.000000          0.000000   \n",
              "25%         1.000000           2.000000        2.000000          0.000000   \n",
              "50%         2.000000           2.000000        3.000000          0.000000   \n",
              "75%         3.000000           3.000000        4.000000          0.000000   \n",
              "max         3.000000           7.000000       32.000000         13.000000   \n",
              "\n",
              "       persontravellingid  resort_region_code  resort_type_code  \\\n",
              "count       341424.000000       341424.000000     341424.000000   \n",
              "mean           210.288905            1.772960          2.193832   \n",
              "std            865.735577            0.750806          1.551451   \n",
              "min             45.000000            1.000000          0.000000   \n",
              "25%             45.000000            1.000000          1.000000   \n",
              "50%             45.000000            2.000000          2.000000   \n",
              "75%             45.000000            2.000000          3.000000   \n",
              "max           4995.000000            3.000000          7.000000   \n",
              "\n",
              "       room_type_booked_code     roomnights  season_holidayed_code  \\\n",
              "count          341424.000000  341424.000000          341310.000000   \n",
              "mean                2.890321       3.738346               2.673862   \n",
              "std                 0.804260       2.479054               0.885650   \n",
              "min                 1.000000     -45.000000               1.000000   \n",
              "25%                 2.000000       2.000000               2.000000   \n",
              "50%                 3.000000       3.000000               3.000000   \n",
              "75%                 3.000000       4.000000               3.000000   \n",
              "max                 6.000000      60.000000               4.000000   \n",
              "\n",
              "       state_code_residence  state_code_resort      total_pax  \\\n",
              "count         336660.000000      341424.000000  341424.000000   \n",
              "mean               7.260708           4.763303       3.193390   \n",
              "std                4.701283           3.103909       1.167824   \n",
              "min                1.000000           1.000000       0.000000   \n",
              "25%                4.000000           2.000000       2.000000   \n",
              "50%                8.000000           5.000000       3.000000   \n",
              "75%                8.000000           7.000000       4.000000   \n",
              "max               38.000000          13.000000      24.000000   \n",
              "\n",
              "       booking_type_code  amount_spent_per_room_night_scaled  \n",
              "count      341424.000000                       341424.000000  \n",
              "mean            1.124209                            7.720801  \n",
              "std             0.329821                            1.090109  \n",
              "min             1.000000                            1.600397  \n",
              "25%             1.000000                            7.187260  \n",
              "50%             1.000000                            7.860814  \n",
              "75%             1.000000                            8.419144  \n",
              "max             2.000000                           10.816652  "
            ],
            "text/html": [
              "\n",
              "  <div id=\"df-e1df8b50-c079-48a6-b2cd-ff57a684798e\">\n",
              "    <div class=\"colab-df-container\">\n",
              "      <div>\n",
              "<style scoped>\n",
              "    .dataframe tbody tr th:only-of-type {\n",
              "        vertical-align: middle;\n",
              "    }\n",
              "\n",
              "    .dataframe tbody tr th {\n",
              "        vertical-align: top;\n",
              "    }\n",
              "\n",
              "    .dataframe thead th {\n",
              "        text-align: right;\n",
              "    }\n",
              "</style>\n",
              "<table border=\"1\" class=\"dataframe\">\n",
              "  <thead>\n",
              "    <tr style=\"text-align: right;\">\n",
              "      <th></th>\n",
              "      <th>channel_code</th>\n",
              "      <th>main_product_code</th>\n",
              "      <th>numberofadults</th>\n",
              "      <th>numberofchildren</th>\n",
              "      <th>persontravellingid</th>\n",
              "      <th>resort_region_code</th>\n",
              "      <th>resort_type_code</th>\n",
              "      <th>room_type_booked_code</th>\n",
              "      <th>roomnights</th>\n",
              "      <th>season_holidayed_code</th>\n",
              "      <th>state_code_residence</th>\n",
              "      <th>state_code_resort</th>\n",
              "      <th>total_pax</th>\n",
              "      <th>booking_type_code</th>\n",
              "      <th>amount_spent_per_room_night_scaled</th>\n",
              "    </tr>\n",
              "  </thead>\n",
              "  <tbody>\n",
              "    <tr>\n",
              "      <th>count</th>\n",
              "      <td>341424.000000</td>\n",
              "      <td>341424.000000</td>\n",
              "      <td>341424.000000</td>\n",
              "      <td>341424.000000</td>\n",
              "      <td>341424.000000</td>\n",
              "      <td>341424.000000</td>\n",
              "      <td>341424.000000</td>\n",
              "      <td>341424.000000</td>\n",
              "      <td>341424.000000</td>\n",
              "      <td>341310.000000</td>\n",
              "      <td>336660.000000</td>\n",
              "      <td>341424.000000</td>\n",
              "      <td>341424.000000</td>\n",
              "      <td>341424.000000</td>\n",
              "      <td>341424.000000</td>\n",
              "    </tr>\n",
              "    <tr>\n",
              "      <th>mean</th>\n",
              "      <td>1.902810</td>\n",
              "      <td>2.208738</td>\n",
              "      <td>3.275361</td>\n",
              "      <td>0.362696</td>\n",
              "      <td>210.288905</td>\n",
              "      <td>1.772960</td>\n",
              "      <td>2.193832</td>\n",
              "      <td>2.890321</td>\n",
              "      <td>3.738346</td>\n",
              "      <td>2.673862</td>\n",
              "      <td>7.260708</td>\n",
              "      <td>4.763303</td>\n",
              "      <td>3.193390</td>\n",
              "      <td>1.124209</td>\n",
              "      <td>7.720801</td>\n",
              "    </tr>\n",
              "    <tr>\n",
              "      <th>std</th>\n",
              "      <td>0.915311</td>\n",
              "      <td>0.823779</td>\n",
              "      <td>1.756062</td>\n",
              "      <td>0.758019</td>\n",
              "      <td>865.735577</td>\n",
              "      <td>0.750806</td>\n",
              "      <td>1.551451</td>\n",
              "      <td>0.804260</td>\n",
              "      <td>2.479054</td>\n",
              "      <td>0.885650</td>\n",
              "      <td>4.701283</td>\n",
              "      <td>3.103909</td>\n",
              "      <td>1.167824</td>\n",
              "      <td>0.329821</td>\n",
              "      <td>1.090109</td>\n",
              "    </tr>\n",
              "    <tr>\n",
              "      <th>min</th>\n",
              "      <td>1.000000</td>\n",
              "      <td>1.000000</td>\n",
              "      <td>0.000000</td>\n",
              "      <td>0.000000</td>\n",
              "      <td>45.000000</td>\n",
              "      <td>1.000000</td>\n",
              "      <td>0.000000</td>\n",
              "      <td>1.000000</td>\n",
              "      <td>-45.000000</td>\n",
              "      <td>1.000000</td>\n",
              "      <td>1.000000</td>\n",
              "      <td>1.000000</td>\n",
              "      <td>0.000000</td>\n",
              "      <td>1.000000</td>\n",
              "      <td>1.600397</td>\n",
              "    </tr>\n",
              "    <tr>\n",
              "      <th>25%</th>\n",
              "      <td>1.000000</td>\n",
              "      <td>2.000000</td>\n",
              "      <td>2.000000</td>\n",
              "      <td>0.000000</td>\n",
              "      <td>45.000000</td>\n",
              "      <td>1.000000</td>\n",
              "      <td>1.000000</td>\n",
              "      <td>2.000000</td>\n",
              "      <td>2.000000</td>\n",
              "      <td>2.000000</td>\n",
              "      <td>4.000000</td>\n",
              "      <td>2.000000</td>\n",
              "      <td>2.000000</td>\n",
              "      <td>1.000000</td>\n",
              "      <td>7.187260</td>\n",
              "    </tr>\n",
              "    <tr>\n",
              "      <th>50%</th>\n",
              "      <td>2.000000</td>\n",
              "      <td>2.000000</td>\n",
              "      <td>3.000000</td>\n",
              "      <td>0.000000</td>\n",
              "      <td>45.000000</td>\n",
              "      <td>2.000000</td>\n",
              "      <td>2.000000</td>\n",
              "      <td>3.000000</td>\n",
              "      <td>3.000000</td>\n",
              "      <td>3.000000</td>\n",
              "      <td>8.000000</td>\n",
              "      <td>5.000000</td>\n",
              "      <td>3.000000</td>\n",
              "      <td>1.000000</td>\n",
              "      <td>7.860814</td>\n",
              "    </tr>\n",
              "    <tr>\n",
              "      <th>75%</th>\n",
              "      <td>3.000000</td>\n",
              "      <td>3.000000</td>\n",
              "      <td>4.000000</td>\n",
              "      <td>0.000000</td>\n",
              "      <td>45.000000</td>\n",
              "      <td>2.000000</td>\n",
              "      <td>3.000000</td>\n",
              "      <td>3.000000</td>\n",
              "      <td>4.000000</td>\n",
              "      <td>3.000000</td>\n",
              "      <td>8.000000</td>\n",
              "      <td>7.000000</td>\n",
              "      <td>4.000000</td>\n",
              "      <td>1.000000</td>\n",
              "      <td>8.419144</td>\n",
              "    </tr>\n",
              "    <tr>\n",
              "      <th>max</th>\n",
              "      <td>3.000000</td>\n",
              "      <td>7.000000</td>\n",
              "      <td>32.000000</td>\n",
              "      <td>13.000000</td>\n",
              "      <td>4995.000000</td>\n",
              "      <td>3.000000</td>\n",
              "      <td>7.000000</td>\n",
              "      <td>6.000000</td>\n",
              "      <td>60.000000</td>\n",
              "      <td>4.000000</td>\n",
              "      <td>38.000000</td>\n",
              "      <td>13.000000</td>\n",
              "      <td>24.000000</td>\n",
              "      <td>2.000000</td>\n",
              "      <td>10.816652</td>\n",
              "    </tr>\n",
              "  </tbody>\n",
              "</table>\n",
              "</div>\n",
              "      <button class=\"colab-df-convert\" onclick=\"convertToInteractive('df-e1df8b50-c079-48a6-b2cd-ff57a684798e')\"\n",
              "              title=\"Convert this dataframe to an interactive table.\"\n",
              "              style=\"display:none;\">\n",
              "        \n",
              "  <svg xmlns=\"http://www.w3.org/2000/svg\" height=\"24px\"viewBox=\"0 0 24 24\"\n",
              "       width=\"24px\">\n",
              "    <path d=\"M0 0h24v24H0V0z\" fill=\"none\"/>\n",
              "    <path d=\"M18.56 5.44l.94 2.06.94-2.06 2.06-.94-2.06-.94-.94-2.06-.94 2.06-2.06.94zm-11 1L8.5 8.5l.94-2.06 2.06-.94-2.06-.94L8.5 2.5l-.94 2.06-2.06.94zm10 10l.94 2.06.94-2.06 2.06-.94-2.06-.94-.94-2.06-.94 2.06-2.06.94z\"/><path d=\"M17.41 7.96l-1.37-1.37c-.4-.4-.92-.59-1.43-.59-.52 0-1.04.2-1.43.59L10.3 9.45l-7.72 7.72c-.78.78-.78 2.05 0 2.83L4 21.41c.39.39.9.59 1.41.59.51 0 1.02-.2 1.41-.59l7.78-7.78 2.81-2.81c.8-.78.8-2.07 0-2.86zM5.41 20L4 18.59l7.72-7.72 1.47 1.35L5.41 20z\"/>\n",
              "  </svg>\n",
              "      </button>\n",
              "      \n",
              "  <style>\n",
              "    .colab-df-container {\n",
              "      display:flex;\n",
              "      flex-wrap:wrap;\n",
              "      gap: 12px;\n",
              "    }\n",
              "\n",
              "    .colab-df-convert {\n",
              "      background-color: #E8F0FE;\n",
              "      border: none;\n",
              "      border-radius: 50%;\n",
              "      cursor: pointer;\n",
              "      display: none;\n",
              "      fill: #1967D2;\n",
              "      height: 32px;\n",
              "      padding: 0 0 0 0;\n",
              "      width: 32px;\n",
              "    }\n",
              "\n",
              "    .colab-df-convert:hover {\n",
              "      background-color: #E2EBFA;\n",
              "      box-shadow: 0px 1px 2px rgba(60, 64, 67, 0.3), 0px 1px 3px 1px rgba(60, 64, 67, 0.15);\n",
              "      fill: #174EA6;\n",
              "    }\n",
              "\n",
              "    [theme=dark] .colab-df-convert {\n",
              "      background-color: #3B4455;\n",
              "      fill: #D2E3FC;\n",
              "    }\n",
              "\n",
              "    [theme=dark] .colab-df-convert:hover {\n",
              "      background-color: #434B5C;\n",
              "      box-shadow: 0px 1px 3px 1px rgba(0, 0, 0, 0.15);\n",
              "      filter: drop-shadow(0px 1px 2px rgba(0, 0, 0, 0.3));\n",
              "      fill: #FFFFFF;\n",
              "    }\n",
              "  </style>\n",
              "\n",
              "      <script>\n",
              "        const buttonEl =\n",
              "          document.querySelector('#df-e1df8b50-c079-48a6-b2cd-ff57a684798e button.colab-df-convert');\n",
              "        buttonEl.style.display =\n",
              "          google.colab.kernel.accessAllowed ? 'block' : 'none';\n",
              "\n",
              "        async function convertToInteractive(key) {\n",
              "          const element = document.querySelector('#df-e1df8b50-c079-48a6-b2cd-ff57a684798e');\n",
              "          const dataTable =\n",
              "            await google.colab.kernel.invokeFunction('convertToInteractive',\n",
              "                                                     [key], {});\n",
              "          if (!dataTable) return;\n",
              "\n",
              "          const docLinkHtml = 'Like what you see? Visit the ' +\n",
              "            '<a target=\"_blank\" href=https://colab.research.google.com/notebooks/data_table.ipynb>data table notebook</a>'\n",
              "            + ' to learn more about interactive tables.';\n",
              "          element.innerHTML = '';\n",
              "          dataTable['output_type'] = 'display_data';\n",
              "          await google.colab.output.renderOutput(dataTable, element);\n",
              "          const docLink = document.createElement('div');\n",
              "          docLink.innerHTML = docLinkHtml;\n",
              "          element.appendChild(docLink);\n",
              "        }\n",
              "      </script>\n",
              "    </div>\n",
              "  </div>\n",
              "  "
            ]
          },
          "metadata": {},
          "execution_count": 151
        }
      ]
    },
    {
      "cell_type": "code",
      "source": [
        "data.info()"
      ],
      "metadata": {
        "colab": {
          "base_uri": "https://localhost:8080/"
        },
        "id": "PSHWAtGhjQcC",
        "outputId": "a005006e-ba8b-4983-cbb6-ecb4cf34c28b"
      },
      "execution_count": 152,
      "outputs": [
        {
          "output_type": "stream",
          "name": "stdout",
          "text": [
            "<class 'pandas.core.frame.DataFrame'>\n",
            "RangeIndex: 341424 entries, 0 to 341423\n",
            "Data columns (total 24 columns):\n",
            " #   Column                              Non-Null Count   Dtype  \n",
            "---  ------                              --------------   -----  \n",
            " 0   reservation_id                      341424 non-null  object \n",
            " 1   booking_date                        341424 non-null  object \n",
            " 2   checkin_date                        341424 non-null  object \n",
            " 3   checkout_date                       341424 non-null  object \n",
            " 4   channel_code                        341424 non-null  int64  \n",
            " 5   main_product_code                   341424 non-null  int64  \n",
            " 6   numberofadults                      341424 non-null  int64  \n",
            " 7   numberofchildren                    341424 non-null  int64  \n",
            " 8   persontravellingid                  341424 non-null  int64  \n",
            " 9   resort_region_code                  341424 non-null  int64  \n",
            " 10  resort_type_code                    341424 non-null  int64  \n",
            " 11  room_type_booked_code               341424 non-null  int64  \n",
            " 12  roomnights                          341424 non-null  int64  \n",
            " 13  season_holidayed_code               341310 non-null  float64\n",
            " 14  state_code_residence                336660 non-null  float64\n",
            " 15  state_code_resort                   341424 non-null  int64  \n",
            " 16  total_pax                           341424 non-null  int64  \n",
            " 17  member_age_buckets                  341424 non-null  object \n",
            " 18  booking_type_code                   341424 non-null  int64  \n",
            " 19  memberid                            341424 non-null  object \n",
            " 20  cluster_code                        341424 non-null  object \n",
            " 21  reservationstatusid_code            341424 non-null  object \n",
            " 22  resort_id                           341424 non-null  object \n",
            " 23  amount_spent_per_room_night_scaled  341424 non-null  float64\n",
            "dtypes: float64(3), int64(12), object(9)\n",
            "memory usage: 62.5+ MB\n"
          ]
        }
      ]
    },
    {
      "cell_type": "markdown",
      "source": [
        "## Pre-processing data"
      ],
      "metadata": {
        "id": "stxGyxBc1iKo"
      }
    },
    {
      "cell_type": "markdown",
      "source": [
        "## Filling missing values"
      ],
      "metadata": {
        "id": "nAqv5MlVyORZ"
      }
    },
    {
      "cell_type": "markdown",
      "source": [
        "There are few missing values in following columns \n",
        "- season_holidayed_code               \n",
        "- state_code_residence                \n",
        "\n",
        "Even though both of them are floating data actually from the observation the are whole numbers with a finite set of unique values which seems to be representing some categorical features. So, replacing this missing values with mode."
      ],
      "metadata": {
        "id": "IbP-2ERfjUMG"
      }
    },
    {
      "cell_type": "code",
      "source": [
        "data['season_holidayed_code'].fillna(data['season_holidayed_code'].mode()[0], inplace= True)\n",
        "data['state_code_residence'].fillna(data['state_code_residence'].mode()[0], inplace= True)\n",
        "\n",
        "data.info()"
      ],
      "metadata": {
        "colab": {
          "base_uri": "https://localhost:8080/"
        },
        "id": "rO4vB6gMPj04",
        "outputId": "91c99b37-05ff-452b-a5b9-eca02ee84e80"
      },
      "execution_count": 153,
      "outputs": [
        {
          "output_type": "stream",
          "name": "stdout",
          "text": [
            "<class 'pandas.core.frame.DataFrame'>\n",
            "RangeIndex: 341424 entries, 0 to 341423\n",
            "Data columns (total 24 columns):\n",
            " #   Column                              Non-Null Count   Dtype  \n",
            "---  ------                              --------------   -----  \n",
            " 0   reservation_id                      341424 non-null  object \n",
            " 1   booking_date                        341424 non-null  object \n",
            " 2   checkin_date                        341424 non-null  object \n",
            " 3   checkout_date                       341424 non-null  object \n",
            " 4   channel_code                        341424 non-null  int64  \n",
            " 5   main_product_code                   341424 non-null  int64  \n",
            " 6   numberofadults                      341424 non-null  int64  \n",
            " 7   numberofchildren                    341424 non-null  int64  \n",
            " 8   persontravellingid                  341424 non-null  int64  \n",
            " 9   resort_region_code                  341424 non-null  int64  \n",
            " 10  resort_type_code                    341424 non-null  int64  \n",
            " 11  room_type_booked_code               341424 non-null  int64  \n",
            " 12  roomnights                          341424 non-null  int64  \n",
            " 13  season_holidayed_code               341424 non-null  float64\n",
            " 14  state_code_residence                341424 non-null  float64\n",
            " 15  state_code_resort                   341424 non-null  int64  \n",
            " 16  total_pax                           341424 non-null  int64  \n",
            " 17  member_age_buckets                  341424 non-null  object \n",
            " 18  booking_type_code                   341424 non-null  int64  \n",
            " 19  memberid                            341424 non-null  object \n",
            " 20  cluster_code                        341424 non-null  object \n",
            " 21  reservationstatusid_code            341424 non-null  object \n",
            " 22  resort_id                           341424 non-null  object \n",
            " 23  amount_spent_per_room_night_scaled  341424 non-null  float64\n",
            "dtypes: float64(3), int64(12), object(9)\n",
            "memory usage: 62.5+ MB\n"
          ]
        }
      ]
    },
    {
      "cell_type": "markdown",
      "source": [
        "Now there are no null values in the data set."
      ],
      "metadata": {
        "id": "PeCcuL8GP34U"
      }
    },
    {
      "cell_type": "markdown",
      "source": [
        "### Removing id information"
      ],
      "metadata": {
        "id": "cOW-42Em03o8"
      }
    },
    {
      "cell_type": "markdown",
      "source": [
        "Dropping columns related to id such as reservation_id, persontravellingid and memeberid, because there is a high possibility getting new id data in the real time for new dataset"
      ],
      "metadata": {
        "id": "DMzqAXHE4Py4"
      }
    },
    {
      "cell_type": "code",
      "source": [
        "data.drop(columns= ['reservation_id', 'persontravellingid', 'memberid', 'resort_id'], inplace= True)"
      ],
      "metadata": {
        "id": "mt7SqUGGRNXh"
      },
      "execution_count": 154,
      "outputs": []
    },
    {
      "cell_type": "markdown",
      "source": [
        "### Pre-processing on date columns"
      ],
      "metadata": {
        "id": "fBpEMncs4-_2"
      }
    },
    {
      "cell_type": "code",
      "source": [
        "date_columns = data.filter(regex = '.*date$').copy()\n",
        "\n",
        "for column in date_columns.columns:\n",
        "    date_columns[column] = pd.to_datetime(date_columns[column])"
      ],
      "metadata": {
        "id": "0PKz-378qJD9"
      },
      "execution_count": 155,
      "outputs": []
    },
    {
      "cell_type": "code",
      "source": [
        "date_columns.loc[date_columns['checkin_date'] > date_columns['checkout_date']]"
      ],
      "metadata": {
        "id": "kodbLzcZqR5B",
        "outputId": "e1cda4b8-57c9-4278-89d9-04ac07445259",
        "colab": {
          "base_uri": "https://localhost:8080/",
          "height": 423
        }
      },
      "execution_count": 156,
      "outputs": [
        {
          "output_type": "execute_result",
          "data": {
            "text/plain": [
              "       booking_date checkin_date checkout_date\n",
              "1        2015-01-23   2015-11-04    2015-04-16\n",
              "3        2015-02-05   2015-11-06    2015-06-16\n",
              "5        2015-01-12   2016-12-01    2016-01-13\n",
              "10       2017-03-02   2017-02-28    2017-01-03\n",
              "34       2018-03-31   2012-12-03    2012-03-18\n",
              "...             ...          ...           ...\n",
              "341406   2019-02-20   2019-02-27    2019-02-03\n",
              "341417   2019-02-22   2019-02-27    2019-02-03\n",
              "341419   2019-11-02   2019-02-27    2019-01-03\n",
              "341420   2019-02-27   2019-02-28    2019-01-03\n",
              "341422   2019-02-27   2019-02-28    2019-01-03\n",
              "\n",
              "[46126 rows x 3 columns]"
            ],
            "text/html": [
              "\n",
              "  <div id=\"df-8e848b3d-c48a-4286-94d9-97917917b1ce\">\n",
              "    <div class=\"colab-df-container\">\n",
              "      <div>\n",
              "<style scoped>\n",
              "    .dataframe tbody tr th:only-of-type {\n",
              "        vertical-align: middle;\n",
              "    }\n",
              "\n",
              "    .dataframe tbody tr th {\n",
              "        vertical-align: top;\n",
              "    }\n",
              "\n",
              "    .dataframe thead th {\n",
              "        text-align: right;\n",
              "    }\n",
              "</style>\n",
              "<table border=\"1\" class=\"dataframe\">\n",
              "  <thead>\n",
              "    <tr style=\"text-align: right;\">\n",
              "      <th></th>\n",
              "      <th>booking_date</th>\n",
              "      <th>checkin_date</th>\n",
              "      <th>checkout_date</th>\n",
              "    </tr>\n",
              "  </thead>\n",
              "  <tbody>\n",
              "    <tr>\n",
              "      <th>1</th>\n",
              "      <td>2015-01-23</td>\n",
              "      <td>2015-11-04</td>\n",
              "      <td>2015-04-16</td>\n",
              "    </tr>\n",
              "    <tr>\n",
              "      <th>3</th>\n",
              "      <td>2015-02-05</td>\n",
              "      <td>2015-11-06</td>\n",
              "      <td>2015-06-16</td>\n",
              "    </tr>\n",
              "    <tr>\n",
              "      <th>5</th>\n",
              "      <td>2015-01-12</td>\n",
              "      <td>2016-12-01</td>\n",
              "      <td>2016-01-13</td>\n",
              "    </tr>\n",
              "    <tr>\n",
              "      <th>10</th>\n",
              "      <td>2017-03-02</td>\n",
              "      <td>2017-02-28</td>\n",
              "      <td>2017-01-03</td>\n",
              "    </tr>\n",
              "    <tr>\n",
              "      <th>34</th>\n",
              "      <td>2018-03-31</td>\n",
              "      <td>2012-12-03</td>\n",
              "      <td>2012-03-18</td>\n",
              "    </tr>\n",
              "    <tr>\n",
              "      <th>...</th>\n",
              "      <td>...</td>\n",
              "      <td>...</td>\n",
              "      <td>...</td>\n",
              "    </tr>\n",
              "    <tr>\n",
              "      <th>341406</th>\n",
              "      <td>2019-02-20</td>\n",
              "      <td>2019-02-27</td>\n",
              "      <td>2019-02-03</td>\n",
              "    </tr>\n",
              "    <tr>\n",
              "      <th>341417</th>\n",
              "      <td>2019-02-22</td>\n",
              "      <td>2019-02-27</td>\n",
              "      <td>2019-02-03</td>\n",
              "    </tr>\n",
              "    <tr>\n",
              "      <th>341419</th>\n",
              "      <td>2019-11-02</td>\n",
              "      <td>2019-02-27</td>\n",
              "      <td>2019-01-03</td>\n",
              "    </tr>\n",
              "    <tr>\n",
              "      <th>341420</th>\n",
              "      <td>2019-02-27</td>\n",
              "      <td>2019-02-28</td>\n",
              "      <td>2019-01-03</td>\n",
              "    </tr>\n",
              "    <tr>\n",
              "      <th>341422</th>\n",
              "      <td>2019-02-27</td>\n",
              "      <td>2019-02-28</td>\n",
              "      <td>2019-01-03</td>\n",
              "    </tr>\n",
              "  </tbody>\n",
              "</table>\n",
              "<p>46126 rows × 3 columns</p>\n",
              "</div>\n",
              "      <button class=\"colab-df-convert\" onclick=\"convertToInteractive('df-8e848b3d-c48a-4286-94d9-97917917b1ce')\"\n",
              "              title=\"Convert this dataframe to an interactive table.\"\n",
              "              style=\"display:none;\">\n",
              "        \n",
              "  <svg xmlns=\"http://www.w3.org/2000/svg\" height=\"24px\"viewBox=\"0 0 24 24\"\n",
              "       width=\"24px\">\n",
              "    <path d=\"M0 0h24v24H0V0z\" fill=\"none\"/>\n",
              "    <path d=\"M18.56 5.44l.94 2.06.94-2.06 2.06-.94-2.06-.94-.94-2.06-.94 2.06-2.06.94zm-11 1L8.5 8.5l.94-2.06 2.06-.94-2.06-.94L8.5 2.5l-.94 2.06-2.06.94zm10 10l.94 2.06.94-2.06 2.06-.94-2.06-.94-.94-2.06-.94 2.06-2.06.94z\"/><path d=\"M17.41 7.96l-1.37-1.37c-.4-.4-.92-.59-1.43-.59-.52 0-1.04.2-1.43.59L10.3 9.45l-7.72 7.72c-.78.78-.78 2.05 0 2.83L4 21.41c.39.39.9.59 1.41.59.51 0 1.02-.2 1.41-.59l7.78-7.78 2.81-2.81c.8-.78.8-2.07 0-2.86zM5.41 20L4 18.59l7.72-7.72 1.47 1.35L5.41 20z\"/>\n",
              "  </svg>\n",
              "      </button>\n",
              "      \n",
              "  <style>\n",
              "    .colab-df-container {\n",
              "      display:flex;\n",
              "      flex-wrap:wrap;\n",
              "      gap: 12px;\n",
              "    }\n",
              "\n",
              "    .colab-df-convert {\n",
              "      background-color: #E8F0FE;\n",
              "      border: none;\n",
              "      border-radius: 50%;\n",
              "      cursor: pointer;\n",
              "      display: none;\n",
              "      fill: #1967D2;\n",
              "      height: 32px;\n",
              "      padding: 0 0 0 0;\n",
              "      width: 32px;\n",
              "    }\n",
              "\n",
              "    .colab-df-convert:hover {\n",
              "      background-color: #E2EBFA;\n",
              "      box-shadow: 0px 1px 2px rgba(60, 64, 67, 0.3), 0px 1px 3px 1px rgba(60, 64, 67, 0.15);\n",
              "      fill: #174EA6;\n",
              "    }\n",
              "\n",
              "    [theme=dark] .colab-df-convert {\n",
              "      background-color: #3B4455;\n",
              "      fill: #D2E3FC;\n",
              "    }\n",
              "\n",
              "    [theme=dark] .colab-df-convert:hover {\n",
              "      background-color: #434B5C;\n",
              "      box-shadow: 0px 1px 3px 1px rgba(0, 0, 0, 0.15);\n",
              "      filter: drop-shadow(0px 1px 2px rgba(0, 0, 0, 0.3));\n",
              "      fill: #FFFFFF;\n",
              "    }\n",
              "  </style>\n",
              "\n",
              "      <script>\n",
              "        const buttonEl =\n",
              "          document.querySelector('#df-8e848b3d-c48a-4286-94d9-97917917b1ce button.colab-df-convert');\n",
              "        buttonEl.style.display =\n",
              "          google.colab.kernel.accessAllowed ? 'block' : 'none';\n",
              "\n",
              "        async function convertToInteractive(key) {\n",
              "          const element = document.querySelector('#df-8e848b3d-c48a-4286-94d9-97917917b1ce');\n",
              "          const dataTable =\n",
              "            await google.colab.kernel.invokeFunction('convertToInteractive',\n",
              "                                                     [key], {});\n",
              "          if (!dataTable) return;\n",
              "\n",
              "          const docLinkHtml = 'Like what you see? Visit the ' +\n",
              "            '<a target=\"_blank\" href=https://colab.research.google.com/notebooks/data_table.ipynb>data table notebook</a>'\n",
              "            + ' to learn more about interactive tables.';\n",
              "          element.innerHTML = '';\n",
              "          dataTable['output_type'] = 'display_data';\n",
              "          await google.colab.output.renderOutput(dataTable, element);\n",
              "          const docLink = document.createElement('div');\n",
              "          docLink.innerHTML = docLinkHtml;\n",
              "          element.appendChild(docLink);\n",
              "        }\n",
              "      </script>\n",
              "    </div>\n",
              "  </div>\n",
              "  "
            ]
          },
          "metadata": {},
          "execution_count": 156
        }
      ]
    },
    {
      "cell_type": "markdown",
      "source": [
        "Above show is data where checkin date is after checkout date and from the observation the months and dates are swapped in chekin or checkout dates which is this dataset and the same is absovrved when we see this abnormality is seen in between booking date with the other two dates. Considering this huge error in the collection of dates **its better to drop date related columns from our dataset.**"
      ],
      "metadata": {
        "id": "wUkaMuaTwQM0"
      }
    },
    {
      "cell_type": "code",
      "source": [
        "data.drop(columns=['booking_date', 'checkin_date', 'checkout_date'], inplace= True)"
      ],
      "metadata": {
        "id": "dZmqc_KTxXyE"
      },
      "execution_count": 157,
      "outputs": []
    },
    {
      "cell_type": "markdown",
      "source": [
        "### Pre-processing non-numeric data"
      ],
      "metadata": {
        "id": "0YRFiByF1tER"
      }
    },
    {
      "cell_type": "code",
      "source": [
        "categorical_data = data.select_dtypes(exclude = 'number')\n",
        "\n",
        "data.drop(columns= categorical_data.columns, inplace= True)\n",
        "categorical_data.nunique()"
      ],
      "metadata": {
        "id": "8zrBUgcM1xmC",
        "outputId": "c7cc6a07-e9c2-4bb3-99a0-5c39f21e4979",
        "colab": {
          "base_uri": "https://localhost:8080/"
        }
      },
      "execution_count": 158,
      "outputs": [
        {
          "output_type": "execute_result",
          "data": {
            "text/plain": [
              "member_age_buckets          10\n",
              "cluster_code                 6\n",
              "reservationstatusid_code     4\n",
              "dtype: int64"
            ]
          },
          "metadata": {},
          "execution_count": 158
        }
      ]
    },
    {
      "cell_type": "markdown",
      "source": [
        "There are small number of columns so using one hot encoding for transforming this categorical features into numeric ones"
      ],
      "metadata": {
        "id": "W_kV7Fgs3JFp"
      }
    },
    {
      "cell_type": "code",
      "source": [
        "encoded_categorical_data = pd.get_dummies(categorical_data)\n",
        "\n",
        "data = pd.concat([data, encoded_categorical_data], axis= 1)"
      ],
      "metadata": {
        "id": "RyO5pfrh3kCo"
      },
      "execution_count": 159,
      "outputs": []
    },
    {
      "cell_type": "code",
      "source": [
        "data.to_csv('./pre-processed-data.csv')"
      ],
      "metadata": {
        "id": "tfhmMN8w7Btg"
      },
      "execution_count": 160,
      "outputs": []
    },
    {
      "cell_type": "markdown",
      "source": [
        "now we have 341424 rows × 34 columns of pure numeric data and we can proceed to the data analysis phase."
      ],
      "metadata": {
        "id": "oc00b2ZB6t2g"
      }
    },
    {
      "cell_type": "markdown",
      "source": [
        "## Data analysis"
      ],
      "metadata": {
        "id": "sZx07aOt6_Jc"
      }
    },
    {
      "cell_type": "markdown",
      "source": [
        "## Machine Learning"
      ],
      "metadata": {
        "id": "07silK51I12j"
      }
    },
    {
      "cell_type": "code",
      "source": [
        "from sklearn.preprocessing import MinMaxScaler\n",
        "from sklearn.model_selection import train_test_split\n",
        "from sklearn.linear_model import LinearRegression, Ridge, Lasso\n",
        "from sklearn.metrics import mean_squared_error\n",
        "from sklearn.preprocessing import Normalizer"
      ],
      "metadata": {
        "id": "xdMBcPttI6eo"
      },
      "execution_count": 161,
      "outputs": []
    },
    {
      "cell_type": "code",
      "source": [
        "normalizer = Normalizer()\n"
      ],
      "metadata": {
        "id": "QLE9ct39M8Ln"
      },
      "execution_count": 162,
      "outputs": []
    },
    {
      "cell_type": "code",
      "source": [
        "y = data['amount_spent_per_room_night_scaled']\n",
        "X = normalizer.fit_transform(data.drop(columns= ['amount_spent_per_room_night_scaled']))"
      ],
      "metadata": {
        "id": "kVmrMX1gKCph"
      },
      "execution_count": 163,
      "outputs": []
    },
    {
      "cell_type": "code",
      "source": [
        "X_train, X_test, y_train, y_test = train_test_split(X, y, test_size= 0.2, random_state= 41)"
      ],
      "metadata": {
        "id": "6TJE5cGPKcsU"
      },
      "execution_count": 164,
      "outputs": []
    },
    {
      "cell_type": "code",
      "source": [
        "model = LinearRegression()\n",
        "model.fit(X_train, y_train)\n",
        "predicted = model.predict(X_test)"
      ],
      "metadata": {
        "id": "E_W2o2lfK9mI"
      },
      "execution_count": 165,
      "outputs": []
    },
    {
      "cell_type": "code",
      "source": [
        "mean_squared_error(y_test, predicted)"
      ],
      "metadata": {
        "id": "cwIC14PSOuF1",
        "outputId": "a4c9dfd1-661c-493d-b18a-11bc873bf1b5",
        "colab": {
          "base_uri": "https://localhost:8080/"
        }
      },
      "execution_count": 166,
      "outputs": [
        {
          "output_type": "execute_result",
          "data": {
            "text/plain": [
              "1.116636997528317"
            ]
          },
          "metadata": {},
          "execution_count": 166
        }
      ]
    },
    {
      "cell_type": "markdown",
      "source": [
        "### Ridge"
      ],
      "metadata": {
        "id": "OMkkV4dBPXUD"
      }
    },
    {
      "cell_type": "code",
      "source": [
        "model = Ridge(alpha=0.001)\n",
        "\n",
        "model.fit(X_train, y_train)\n",
        "\n",
        "predicted = model.predict(X_test)\n"
      ],
      "metadata": {
        "id": "GLYTg5UsPkr8"
      },
      "execution_count": 167,
      "outputs": []
    },
    {
      "cell_type": "code",
      "source": [
        "mean_squared_error(y_test, predicted)"
      ],
      "metadata": {
        "outputId": "41eadbdc-6c24-4021-80e5-c18e09421cb8",
        "colab": {
          "base_uri": "https://localhost:8080/"
        },
        "id": "yAIoNSyaPksY"
      },
      "execution_count": 168,
      "outputs": [
        {
          "output_type": "execute_result",
          "data": {
            "text/plain": [
              "1.1166367691202035"
            ]
          },
          "metadata": {},
          "execution_count": 168
        }
      ]
    },
    {
      "cell_type": "markdown",
      "source": [
        "### Lasso"
      ],
      "metadata": {
        "id": "LPOIgCpEN_tU"
      }
    },
    {
      "cell_type": "code",
      "source": [
        "model = Lasso(alpha=0.001)\n",
        "\n",
        "model.fit(X_train, y_train)\n",
        "\n",
        "predicted = model.predict(X_test)\n"
      ],
      "metadata": {
        "id": "VrY-564AOKT8"
      },
      "execution_count": 169,
      "outputs": []
    },
    {
      "cell_type": "code",
      "source": [
        "mean_squared_error(y_test, predicted)"
      ],
      "metadata": {
        "colab": {
          "base_uri": "https://localhost:8080/"
        },
        "id": "XH7UX0M2PA3S",
        "outputId": "1614eeb8-9027-4784-a721-51bb65bc4f4b"
      },
      "execution_count": 170,
      "outputs": [
        {
          "output_type": "execute_result",
          "data": {
            "text/plain": [
              "1.1253403577695504"
            ]
          },
          "metadata": {},
          "execution_count": 170
        }
      ]
    }
  ],
  "metadata": {
    "colab": {
      "name": "Mahindra club pre-processing",
      "provenance": []
    },
    "kernelspec": {
      "display_name": "Python 3",
      "name": "python3"
    }
  },
  "nbformat": 4,
  "nbformat_minor": 0
}