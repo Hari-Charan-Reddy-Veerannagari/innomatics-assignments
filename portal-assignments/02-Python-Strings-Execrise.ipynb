{
  "cells": [
    {
      "cell_type": "markdown",
      "metadata": {
        "id": "GLlKpcoeSvI4"
      },
      "source": [
        "# Assignment Instructions\n",
        "\n",
        "`Hello Innominion,`\n",
        "\n",
        "- **Try to attempt all the questions in every possible way.**\n",
        "- **Some other topics are required to solve some questions. don't panic.**\n",
        "- **Those questions can be answered after the topics are taught.**\n",
        "\n",
        "\n",
        "- `Join Mentoring Session for the Support/Doubts Resolving with Our Technical Mentors (2.00 PM - 6.00 PM  Mon-Sat)` \n",
        "\n",
        "Happy Learning !!!"
      ]
    },
    {
      "cell_type": "markdown",
      "metadata": {
        "id": "slz6wLqTSvI7"
      },
      "source": [
        "# Strings - Execrise"
      ]
    },
    {
      "cell_type": "code",
      "execution_count": 2,
      "metadata": {
        "id": "oTsBrzdaSvI8"
      },
      "outputs": [],
      "source": [
        "text = \"\"\"The University of Hawaii began using radio to send digital information as early as 1971,using ALOHAnet. \n",
        "Friedhelm Hillebrand conceptualised SMS in 1984 while working for Deutsche Telekom. Sitting at a typewriter at home, \n",
        "Hillebrand typed out random sentences and counted every letter, number, punctuation, and space. \n",
        "Almost every time, the messages contained fewer than 160 characters, thus giving the basis for the \n",
        "limit one could type via text messaging. With Bernard Ghillebaert of France Télécom, he developed \n",
        "a proposal for the GSM (Groupe Spécial Mobile) meeting in February 1985 in Oslo. \n",
        "The first technical solution evolved in a GSM subgroup under the leadership of Finn Trosby. \n",
        "It was further developed under the leadership of Kevin Holley and Ian Harris (see Short Message Service). \n",
        "SMS forms an integral part of SS7 (Signalling System No. 7). Under SS7, it is a \"state\" with a 160 character data, \n",
        "coded in the ITU-T \"T.56\" text format, that has a \"sequence lead in\" to determine different language codes, \n",
        "and may have special character codes that permits, for example, sending simple graphs as text. \n",
        "This was part of ISDN (Integrated Services Digital Network) and since GSM is based on this, \n",
        "made its way to the mobile phone. Messages could be sent and received on ISDN phones, \n",
        "and these can send SMS to any GSM phone. The possibility of doing something is one thing, \n",
        "implementing it another, but systems existed from 1988 that sent SMS messages to mobile phones (compare ND-NOTIS).\"\"\""
      ]
    },
    {
      "cell_type": "markdown",
      "metadata": {
        "id": "7AanVANZSvI-"
      },
      "source": [
        ">  `Question:` How many characters in text"
      ]
    },
    {
      "cell_type": "code",
      "execution_count": 6,
      "metadata": {
        "id": "CAbU39_qSvI_",
        "outputId": "33ae75d3-92bc-48fd-98ac-6b4658a8f426",
        "colab": {
          "base_uri": "https://localhost:8080/",
          "height": 0
        }
      },
      "outputs": [
        {
          "output_type": "execute_result",
          "data": {
            "text/plain": [
              "1507"
            ]
          },
          "metadata": {},
          "execution_count": 6
        }
      ],
      "source": [
        "len(text)"
      ]
    },
    {
      "cell_type": "markdown",
      "metadata": {
        "id": "cV-q0jB3SvJA"
      },
      "source": [
        ">  `Question:` How many words are there in the \"text\""
      ]
    },
    {
      "cell_type": "code",
      "execution_count": 7,
      "metadata": {
        "id": "Xi4ERGG8SvJB",
        "outputId": "15f28c76-a98c-4b18-967f-d87c0b4eaf69",
        "colab": {
          "base_uri": "https://localhost:8080/",
          "height": 0
        }
      },
      "outputs": [
        {
          "output_type": "execute_result",
          "data": {
            "text/plain": [
              "244"
            ]
          },
          "metadata": {},
          "execution_count": 7
        }
      ],
      "source": [
        "len(text.split())"
      ]
    },
    {
      "cell_type": "markdown",
      "metadata": {
        "id": "17Piy65sSvJC"
      },
      "source": [
        ">  `Question:` How many unique words in the \"text\""
      ]
    },
    {
      "cell_type": "code",
      "execution_count": 8,
      "metadata": {
        "id": "SKKk2PDUSvJC",
        "outputId": "dcd556e2-a57f-4881-a044-246ac24014be",
        "colab": {
          "base_uri": "https://localhost:8080/",
          "height": 0
        }
      },
      "outputs": [
        {
          "output_type": "execute_result",
          "data": {
            "text/plain": [
              "174"
            ]
          },
          "metadata": {},
          "execution_count": 8
        }
      ],
      "source": [
        "len(set(text.split()))"
      ]
    },
    {
      "cell_type": "markdown",
      "metadata": {
        "id": "C4c-ucH_SvJD"
      },
      "source": [
        ">  `Question:` Find Lexical diversity\n",
        "\n",
        "lexical_diversity = (number of words)/(number of unique words)"
      ]
    },
    {
      "cell_type": "code",
      "execution_count": 9,
      "metadata": {
        "id": "Cf4y1HhsSvJD",
        "outputId": "af22280e-83c8-4e4a-aaeb-4c42c7206ba3",
        "colab": {
          "base_uri": "https://localhost:8080/",
          "height": 0
        }
      },
      "outputs": [
        {
          "output_type": "execute_result",
          "data": {
            "text/plain": [
              "1.4022988505747127"
            ]
          },
          "metadata": {},
          "execution_count": 9
        }
      ],
      "source": [
        "len(text.split())/len(set(text.split()))"
      ]
    },
    {
      "cell_type": "markdown",
      "metadata": {
        "id": "dYjjkrkcSvJE"
      },
      "source": [
        ">  `Question:` Count how many \"the\" in text"
      ]
    },
    {
      "cell_type": "code",
      "execution_count": 13,
      "metadata": {
        "id": "LxtqHEVeSvJE",
        "outputId": "2197720b-928e-4a7d-d28a-abccc4441bf3",
        "colab": {
          "base_uri": "https://localhost:8080/",
          "height": 0
        }
      },
      "outputs": [
        {
          "output_type": "execute_result",
          "data": {
            "text/plain": [
              "14"
            ]
          },
          "metadata": {},
          "execution_count": 13
        }
      ],
      "source": [
        "text.lower().count('the')"
      ]
    },
    {
      "cell_type": "markdown",
      "metadata": {
        "id": "jg6smq3pSvJE"
      },
      "source": [
        ">  `Question:` Count how many \"a\" in text"
      ]
    },
    {
      "cell_type": "code",
      "execution_count": 15,
      "metadata": {
        "id": "lgpyg6a6SvJF",
        "outputId": "41dd3377-779b-452c-b54a-f6d4f62f015a",
        "colab": {
          "base_uri": "https://localhost:8080/",
          "height": 0
        }
      },
      "outputs": [
        {
          "output_type": "execute_result",
          "data": {
            "text/plain": [
              "92"
            ]
          },
          "metadata": {},
          "execution_count": 15
        }
      ],
      "source": [
        "text.lower().count('a')"
      ]
    },
    {
      "cell_type": "markdown",
      "metadata": {
        "id": "339HhnCRSvJF"
      },
      "source": [
        ">  `Question:` Extract First 10 words in text"
      ]
    },
    {
      "cell_type": "code",
      "source": [
        "first10Words = ' '.join(text.split()[:10])\n",
        "first10Words"
      ],
      "metadata": {
        "id": "kENat1BOSvJF",
        "outputId": "fbdeb6fb-1e8c-414b-cb46-e26e5dc3f04b",
        "colab": {
          "base_uri": "https://localhost:8080/",
          "height": 35
        }
      },
      "execution_count": 53,
      "outputs": [
        {
          "output_type": "execute_result",
          "data": {
            "text/plain": [
              "'The University of Hawaii began using radio to send digital'"
            ],
            "application/vnd.google.colaboratory.intrinsic+json": {
              "type": "string"
            }
          },
          "metadata": {},
          "execution_count": 53
        }
      ]
    },
    {
      "cell_type": "markdown",
      "metadata": {
        "id": "A4DkM1RRSvJF"
      },
      "source": [
        ">  `Question:` Append \" Innomatics Reseach Labs\" after first 10 words in the text"
      ]
    },
    {
      "cell_type": "code",
      "execution_count": 30,
      "metadata": {
        "id": "edwJmq-HSvJG",
        "outputId": "a88d7aab-9456-4d5f-ddf5-520e0007d2e4",
        "colab": {
          "base_uri": "https://localhost:8080/",
          "height": 35
        }
      },
      "outputs": [
        {
          "output_type": "execute_result",
          "data": {
            "text/plain": [
              "'The University of Hawaii began using radio to send digital Innomatics Reseach Labs'"
            ],
            "application/vnd.google.colaboratory.intrinsic+json": {
              "type": "string"
            }
          },
          "metadata": {},
          "execution_count": 30
        }
      ],
      "source": [
        "first10Words + ' Innomatics Reseach Labs'"
      ]
    },
    {
      "cell_type": "markdown",
      "metadata": {
        "id": "NXfrSZp3SvJG"
      },
      "source": [
        ">  `Question:` Extract First Fourteen (14) character in text"
      ]
    },
    {
      "cell_type": "code",
      "execution_count": 31,
      "metadata": {
        "id": "DKu0aI3mSvJG",
        "outputId": "839812f0-cf34-43f3-9301-ff62f0cd616c",
        "colab": {
          "base_uri": "https://localhost:8080/",
          "height": 35
        }
      },
      "outputs": [
        {
          "output_type": "execute_result",
          "data": {
            "text/plain": [
              "'The University'"
            ],
            "application/vnd.google.colaboratory.intrinsic+json": {
              "type": "string"
            }
          },
          "metadata": {},
          "execution_count": 31
        }
      ],
      "source": [
        "text[:14]"
      ]
    },
    {
      "cell_type": "markdown",
      "metadata": {
        "id": "t_oZ6HtlSvJH"
      },
      "source": [
        ">  `Question:` Extract first Fourteen (14) words in text"
      ]
    },
    {
      "cell_type": "code",
      "execution_count": 54,
      "metadata": {
        "id": "7XHEPu68SvJH",
        "outputId": "fa3703dc-97a9-41a2-9a37-ac89611bda26",
        "colab": {
          "base_uri": "https://localhost:8080/",
          "height": 35
        }
      },
      "outputs": [
        {
          "output_type": "execute_result",
          "data": {
            "text/plain": [
              "'The University of Hawaii began using radio to send digital information as early as'"
            ],
            "application/vnd.google.colaboratory.intrinsic+json": {
              "type": "string"
            }
          },
          "metadata": {},
          "execution_count": 54
        }
      ],
      "source": [
        "' '.join(text.split()[:14])"
      ]
    },
    {
      "cell_type": "markdown",
      "metadata": {
        "id": "nkwo-IS3SvJH"
      },
      "source": [
        ">  `Question:` Extract First 10 words in text\n",
        "- Convert every letter into ***upper*** case\n",
        "- Convert every letter into ***lower*** case"
      ]
    },
    {
      "cell_type": "code",
      "execution_count": 35,
      "metadata": {
        "id": "UfMcK_ENSvJI",
        "outputId": "68573f5c-4e37-4c23-ca8d-27a5cf65b950",
        "colab": {
          "base_uri": "https://localhost:8080/",
          "height": 35
        }
      },
      "outputs": [
        {
          "output_type": "execute_result",
          "data": {
            "text/plain": [
              "'THE UNIVERSITY OF HAWAII BEGAN USING RADIO TO SEND DIGITAL'"
            ],
            "application/vnd.google.colaboratory.intrinsic+json": {
              "type": "string"
            }
          },
          "metadata": {},
          "execution_count": 35
        }
      ],
      "source": [
        "first10Words.upper()"
      ]
    },
    {
      "cell_type": "code",
      "execution_count": 36,
      "metadata": {
        "id": "GCvFRq7OSvJJ",
        "outputId": "801f87fe-854b-420e-fc7f-d1a551da57be",
        "colab": {
          "base_uri": "https://localhost:8080/",
          "height": 35
        }
      },
      "outputs": [
        {
          "output_type": "execute_result",
          "data": {
            "text/plain": [
              "'the university of hawaii began using radio to send digital'"
            ],
            "application/vnd.google.colaboratory.intrinsic+json": {
              "type": "string"
            }
          },
          "metadata": {},
          "execution_count": 36
        }
      ],
      "source": [
        "first10Words.lower()"
      ]
    },
    {
      "cell_type": "markdown",
      "metadata": {
        "id": "W1jVfIjRSvJJ"
      },
      "source": [
        ">  `Question:`  Find the list of letter starting with \n",
        "- u\n",
        "- o\n",
        "> `hint - You need to use for loop for this`"
      ]
    },
    {
      "cell_type": "code",
      "execution_count": 51,
      "metadata": {
        "id": "6_REgfVSSvJK",
        "outputId": "42d6bb94-691d-4fa8-eca2-417296548138",
        "colab": {
          "base_uri": "https://localhost:8080/"
        }
      },
      "outputs": [
        {
          "output_type": "execute_result",
          "data": {
            "text/plain": [
              "{'under', 'university', 'using'}"
            ]
          },
          "metadata": {},
          "execution_count": 51
        }
      ],
      "source": [
        "splitByU = text.lower().split(sep=' u')\n",
        "uWordsList = set()\n",
        "for split in splitByU[1:]:\n",
        "    uWordsList.add('u'+(split.split()[0]))\n",
        "uWordsList"
      ]
    },
    {
      "cell_type": "code",
      "execution_count": 56,
      "metadata": {
        "id": "DDi6rhKxSvJK",
        "outputId": "349b60bd-1172-4bc9-d73b-b03a03b769e8",
        "colab": {
          "base_uri": "https://localhost:8080/"
        }
      },
      "outputs": [
        {
          "output_type": "execute_result",
          "data": {
            "text/plain": [
              "{'of', 'on', 'one', 'oslo.', 'out'}"
            ]
          },
          "metadata": {},
          "execution_count": 56
        }
      ],
      "source": [
        "splitByO = text.lower().split(sep=' o')\n",
        "oWords = set()\n",
        "for split in splitByO[1:]:\n",
        "    oWords.add('o'+(split.split()[0]))\n",
        "oWords"
      ]
    },
    {
      "cell_type": "markdown",
      "metadata": {
        "id": "0R0ZBPldSvJK"
      },
      "source": [
        ">  `Question:` Find the list of letter ending with \n",
        "- e\n",
        "- n\n",
        "> `hint - You need to use for loop for this`"
      ]
    },
    {
      "cell_type": "code",
      "execution_count": null,
      "metadata": {
        "id": "c3Sg99zWSvJK"
      },
      "outputs": [],
      "source": [
        "# CODE HERE"
      ]
    },
    {
      "cell_type": "code",
      "execution_count": 59,
      "metadata": {
        "id": "PvqpZA33SvJL",
        "outputId": "b8ffedc4-faea-4fff-d932-27ed2dd9f932",
        "colab": {
          "base_uri": "https://localhost:8080/"
        }
      },
      "outputs": [
        {
          "output_type": "execute_result",
          "data": {
            "text/plain": [
              "{'\"sequence',\n",
              " '(compare',\n",
              " '(groupe',\n",
              " '(see',\n",
              " 'be',\n",
              " 'determine',\n",
              " 'deutsche',\n",
              " 'france',\n",
              " 'have',\n",
              " 'he',\n",
              " 'language',\n",
              " 'made',\n",
              " 'message',\n",
              " 'mobile',\n",
              " 'one',\n",
              " 'simple',\n",
              " 'since',\n",
              " 'the',\n",
              " 'these',\n",
              " 'type',\n",
              " 'while'}"
            ]
          },
          "metadata": {},
          "execution_count": 59
        }
      ],
      "source": [
        "splitByE = text.lower().split(sep='e ')\n",
        "eEndingWords = set()\n",
        "for split in splitByE[:-1]:\n",
        "    eEndingWords.add((split.split()[-1])+'e')\n",
        "eEndingWords"
      ]
    },
    {
      "cell_type": "code",
      "execution_count": 60,
      "metadata": {
        "id": "MtDN2OkmSvJL",
        "outputId": "43384ba3-5524-4cee-a8ea-3a24433b605d",
        "colab": {
          "base_uri": "https://localhost:8080/"
        }
      },
      "outputs": [
        {
          "output_type": "execute_result",
          "data": {
            "text/plain": [
              "{'an',\n",
              " 'began',\n",
              " 'can',\n",
              " 'finn',\n",
              " 'ian',\n",
              " 'in',\n",
              " 'information',\n",
              " 'isdn',\n",
              " 'kevin',\n",
              " 'on',\n",
              " 'solution',\n",
              " 'than'}"
            ]
          },
          "metadata": {},
          "execution_count": 60
        }
      ],
      "source": [
        "splitByN = text.lower().split(sep='n ')\n",
        "nEndingWords = set()\n",
        "for split in splitByN[:-1]:\n",
        "    nEndingWords.add((split.split()[-1])+'n')\n",
        "nEndingWords"
      ]
    },
    {
      "cell_type": "markdown",
      "metadata": {
        "id": "aa401PaTSvJL"
      },
      "source": [
        ">  `Question:` Extract first 10 words of text and Capitalize first letter of each word"
      ]
    },
    {
      "cell_type": "code",
      "execution_count": 63,
      "metadata": {
        "id": "JpJzqNJpSvJL",
        "outputId": "37d35a4f-80de-40e1-d8d3-1b2c2046e8bd",
        "colab": {
          "base_uri": "https://localhost:8080/",
          "height": 35
        }
      },
      "outputs": [
        {
          "output_type": "execute_result",
          "data": {
            "text/plain": [
              "'The University Of Hawaii Began Using Radio To Send Digital'"
            ],
            "application/vnd.google.colaboratory.intrinsic+json": {
              "type": "string"
            }
          },
          "metadata": {},
          "execution_count": 63
        }
      ],
      "source": [
        "' '.join(text.split()[:10]).title()"
      ]
    },
    {
      "cell_type": "markdown",
      "metadata": {
        "id": "EUQ80ITPSvJL"
      },
      "source": [
        ">  `Question:` Replace the word \"University\" with name \"Innomatics\" in text"
      ]
    },
    {
      "cell_type": "code",
      "execution_count": 64,
      "metadata": {
        "id": "kMQdPZmsSvJM",
        "outputId": "bca71240-1cac-49b1-9221-9f6cca770dd0",
        "colab": {
          "base_uri": "https://localhost:8080/",
          "height": 139
        }
      },
      "outputs": [
        {
          "output_type": "execute_result",
          "data": {
            "text/plain": [
              "'The Innomatics of Hawaii began using radio to send digital information as early as 1971,using ALOHAnet. \\nFriedhelm Hillebrand conceptualised SMS in 1984 while working for Deutsche Telekom. Sitting at a typewriter at home, \\nHillebrand typed out random sentences and counted every letter, number, punctuation, and space. \\nAlmost every time, the messages contained fewer than 160 characters, thus giving the basis for the \\nlimit one could type via text messaging. With Bernard Ghillebaert of France Télécom, he developed \\na proposal for the GSM (Groupe Spécial Mobile) meeting in February 1985 in Oslo. \\nThe first technical solution evolved in a GSM subgroup under the leadership of Finn Trosby. \\nIt was further developed under the leadership of Kevin Holley and Ian Harris (see Short Message Service). \\nSMS forms an integral part of SS7 (Signalling System No. 7). Under SS7, it is a \"state\" with a 160 character data, \\ncoded in the ITU-T \"T.56\" text format, that has a \"sequence lead in\" to determine different language codes, \\nand may have special character codes that permits, for example, sending simple graphs as text. \\nThis was part of ISDN (Integrated Services Digital Network) and since GSM is based on this, \\nmade its way to the mobile phone. Messages could be sent and received on ISDN phones, \\nand these can send SMS to any GSM phone. The possibility of doing something is one thing, \\nimplementing it another, but systems existed from 1988 that sent SMS messages to mobile phones (compare ND-NOTIS).'"
            ],
            "application/vnd.google.colaboratory.intrinsic+json": {
              "type": "string"
            }
          },
          "metadata": {},
          "execution_count": 64
        }
      ],
      "source": [
        "text.replace('University', 'Innomatics')"
      ]
    },
    {
      "cell_type": "markdown",
      "metadata": {
        "id": "FxelXmpFSvJM"
      },
      "source": [
        "> `Question:`  Convert the \"text\" into sentances and store those into one variable called \"sentance\""
      ]
    },
    {
      "cell_type": "code",
      "execution_count": 67,
      "metadata": {
        "id": "wUJaXZDpSvJM",
        "outputId": "70825fa1-2c9d-4039-80b8-41ec7766e672",
        "colab": {
          "base_uri": "https://localhost:8080/"
        }
      },
      "outputs": [
        {
          "output_type": "execute_result",
          "data": {
            "text/plain": [
              "['The University of Hawaii began using radio to send digital information as early as 1971,using ALOHAnet',\n",
              " ' \\nFriedhelm Hillebrand conceptualised SMS in 1984 while working for Deutsche Telekom',\n",
              " ' Sitting at a typewriter at home, \\nHillebrand typed out random sentences and counted every letter, number, punctuation, and space',\n",
              " ' \\nAlmost every time, the messages contained fewer than 160 characters, thus giving the basis for the \\nlimit one could type via text messaging',\n",
              " ' With Bernard Ghillebaert of France Télécom, he developed \\na proposal for the GSM (Groupe Spécial Mobile) meeting in February 1985 in Oslo',\n",
              " ' \\nThe first technical solution evolved in a GSM subgroup under the leadership of Finn Trosby',\n",
              " ' \\nIt was further developed under the leadership of Kevin Holley and Ian Harris (see Short Message Service)',\n",
              " ' \\nSMS forms an integral part of SS7 (Signalling System No',\n",
              " ' 7)',\n",
              " ' Under SS7, it is a \"state\" with a 160 character data, \\ncoded in the ITU-T \"T',\n",
              " '56\" text format, that has a \"sequence lead in\" to determine different language codes, \\nand may have special character codes that permits, for example, sending simple graphs as text',\n",
              " ' \\nThis was part of ISDN (Integrated Services Digital Network) and since GSM is based on this, \\nmade its way to the mobile phone',\n",
              " ' Messages could be sent and received on ISDN phones, \\nand these can send SMS to any GSM phone',\n",
              " ' The possibility of doing something is one thing, \\nimplementing it another, but systems existed from 1988 that sent SMS messages to mobile phones (compare ND-NOTIS)',\n",
              " '']"
            ]
          },
          "metadata": {},
          "execution_count": 67
        }
      ],
      "source": [
        "sentance = text.split('.')\n",
        "sentance"
      ]
    },
    {
      "cell_type": "markdown",
      "metadata": {
        "id": "hATCVyu9SvJM"
      },
      "source": [
        " `Question:`\n",
        " \n",
        "> 1.From the above sentance remove '\\n'\n"
      ]
    },
    {
      "cell_type": "code",
      "execution_count": 76,
      "metadata": {
        "id": "hwQOgWzwSvJM",
        "outputId": "47466264-8fa4-4b45-e5b4-0211717d9c57",
        "colab": {
          "base_uri": "https://localhost:8080/"
        }
      },
      "outputs": [
        {
          "output_type": "execute_result",
          "data": {
            "text/plain": [
              "['The University of Hawaii began using radio to send digital information as early as 1971,using ALOHAnet',\n",
              " ' Friedhelm Hillebrand conceptualised SMS in 1984 while working for Deutsche Telekom',\n",
              " ' Sitting at a typewriter at home, Hillebrand typed out random sentences and counted every letter, number, punctuation, and space',\n",
              " ' Almost every time, the messages contained fewer than 160 characters, thus giving the basis for the limit one could type via text messaging',\n",
              " ' With Bernard Ghillebaert of France Télécom, he developed a proposal for the GSM (Groupe Spécial Mobile) meeting in February 1985 in Oslo',\n",
              " ' The first technical solution evolved in a GSM subgroup under the leadership of Finn Trosby',\n",
              " ' It was further developed under the leadership of Kevin Holley and Ian Harris (see Short Message Service)',\n",
              " ' SMS forms an integral part of SS7 (Signalling System No',\n",
              " ' 7)',\n",
              " ' Under SS7, it is a \"state\" with a 160 character data, coded in the ITU-T \"T',\n",
              " '56\" text format, that has a \"sequence lead in\" to determine different language codes, and may have special character codes that permits, for example, sending simple graphs as text',\n",
              " ' This was part of ISDN (Integrated Services Digital Network) and since GSM is based on this, made its way to the mobile phone',\n",
              " ' Messages could be sent and received on ISDN phones, and these can send SMS to any GSM phone',\n",
              " ' The possibility of doing something is one thing, implementing it another, but systems existed from 1988 that sent SMS messages to mobile phones (compare ND-NOTIS)',\n",
              " '']"
            ]
          },
          "metadata": {},
          "execution_count": 76
        }
      ],
      "source": [
        "sentWithNewLineRemoved = []\n",
        "for sent in sentance:\n",
        "    sentWithNewLineRemoved.append(sent.replace('\\n', ''))\n",
        "sentance = sentWithNewLineRemoved\n",
        "sentance"
      ]
    },
    {
      "cell_type": "markdown",
      "metadata": {
        "id": "Xqh7125eSvJN"
      },
      "source": [
        " > 2. From the above sentace print the first word from each sentance\n"
      ]
    },
    {
      "cell_type": "code",
      "execution_count": 77,
      "metadata": {
        "id": "55Y12lXrSvJN",
        "outputId": "ec7a11e4-7006-4312-f06a-0e83163c3eb7",
        "colab": {
          "base_uri": "https://localhost:8080/"
        }
      },
      "outputs": [
        {
          "output_type": "stream",
          "name": "stdout",
          "text": [
            "The\n",
            "Friedhelm\n",
            "Sitting\n",
            "Almost\n",
            "With\n",
            "The\n",
            "It\n",
            "SMS\n",
            "7)\n",
            "Under\n",
            "56\"\n",
            "This\n",
            "Messages\n",
            "The\n"
          ]
        }
      ],
      "source": [
        "for sent in sentance[:-1]:\n",
        "    print(sent.split()[0])"
      ]
    },
    {
      "cell_type": "markdown",
      "metadata": {
        "id": "WDlZY34sSvJN"
      },
      "source": [
        "> 3. From the above sentace print even posioned sentances"
      ]
    },
    {
      "cell_type": "code",
      "execution_count": 78,
      "metadata": {
        "id": "sE5WM0S_SvJN",
        "outputId": "2673b7c8-1750-4dbf-9c79-dd6f8fbe6c55",
        "colab": {
          "base_uri": "https://localhost:8080/"
        }
      },
      "outputs": [
        {
          "output_type": "execute_result",
          "data": {
            "text/plain": [
              "['The University of Hawaii began using radio to send digital information as early as 1971,using ALOHAnet',\n",
              " ' Sitting at a typewriter at home, Hillebrand typed out random sentences and counted every letter, number, punctuation, and space',\n",
              " ' With Bernard Ghillebaert of France Télécom, he developed a proposal for the GSM (Groupe Spécial Mobile) meeting in February 1985 in Oslo',\n",
              " ' It was further developed under the leadership of Kevin Holley and Ian Harris (see Short Message Service)',\n",
              " ' 7)',\n",
              " '56\" text format, that has a \"sequence lead in\" to determine different language codes, and may have special character codes that permits, for example, sending simple graphs as text',\n",
              " ' Messages could be sent and received on ISDN phones, and these can send SMS to any GSM phone',\n",
              " '']"
            ]
          },
          "metadata": {},
          "execution_count": 78
        }
      ],
      "source": [
        "sentance[::2]"
      ]
    },
    {
      "cell_type": "markdown",
      "metadata": {
        "id": "raUEMzl6SvJN"
      },
      "source": [
        ">   `Question:` If the following string is given as input to the program:\n",
        "\n",
        "- H1e2l3l4o5w6o7r8l9d\n",
        "\n",
        ">   `Output:`  Then, the output of the program should be:\n",
        "\n",
        "- Helloworld"
      ]
    },
    {
      "cell_type": "code",
      "execution_count": 81,
      "metadata": {
        "id": "sWHvZ2m7SvJN",
        "outputId": "0dbf7f14-4dd9-4873-a82d-bf521c74ab0b",
        "colab": {
          "base_uri": "https://localhost:8080/",
          "height": 52
        }
      },
      "outputs": [
        {
          "name": "stdout",
          "output_type": "stream",
          "text": [
            "H1e2l3l4o5w6o7r8l9d\n"
          ]
        },
        {
          "output_type": "execute_result",
          "data": {
            "text/plain": [
              "'Helloworld'"
            ],
            "application/vnd.google.colaboratory.intrinsic+json": {
              "type": "string"
            }
          },
          "metadata": {},
          "execution_count": 81
        }
      ],
      "source": [
        "ip = input()\n",
        "op = ''\n",
        "for i in ip:\n",
        "    if i.isnumeric():\n",
        "        continue\n",
        "    else:\n",
        "        op = op + i\n",
        "op"
      ]
    },
    {
      "cell_type": "markdown",
      "metadata": {
        "id": "bZM7V-shSvJO"
      },
      "source": [
        "# [Innomatics Research Labs](https:/innomatics.in/)\n",
        "[www.innomatics.in](https:/innomatics.in/)"
      ]
    },
    {
      "cell_type": "code",
      "execution_count": null,
      "metadata": {
        "id": "l9uW5u6mSvJO"
      },
      "outputs": [],
      "source": []
    }
  ],
  "metadata": {
    "kernelspec": {
      "display_name": "Python 3",
      "language": "python",
      "name": "python3"
    },
    "language_info": {
      "codemirror_mode": {
        "name": "ipython",
        "version": 3
      },
      "file_extension": ".py",
      "mimetype": "text/x-python",
      "name": "python",
      "nbconvert_exporter": "python",
      "pygments_lexer": "ipython3",
      "version": "3.8.5"
    },
    "colab": {
      "provenance": []
    }
  },
  "nbformat": 4,
  "nbformat_minor": 0
}