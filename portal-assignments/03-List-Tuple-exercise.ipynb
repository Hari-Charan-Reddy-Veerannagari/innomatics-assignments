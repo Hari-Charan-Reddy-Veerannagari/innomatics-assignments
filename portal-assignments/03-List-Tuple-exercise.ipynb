{
  "cells": [
    {
      "cell_type": "markdown",
      "metadata": {
        "id": "enoxFGd4ScQs"
      },
      "source": [
        "# Assignment Instructions\n",
        "\n",
        "`Hello Innominion,`\n",
        "\n",
        "- **Try to attempt all the questions in every possible way.**\n",
        "- **Some other topics are required to solve some questions. don't panic.**\n",
        "- **Those questions can be answered after the topics are taught.**\n",
        "\n",
        "\n",
        "- `Join Mentoring Session for the Support/Doubts Resolving with Our Technical Mentors (2.00 PM - 6.00 PM  Mon-Sat)` \n",
        "\n",
        "Happy Learning !!!"
      ]
    },
    {
      "cell_type": "markdown",
      "metadata": {
        "id": "R9Ng5mljScQx"
      },
      "source": [
        "###  LIST"
      ]
    },
    {
      "cell_type": "markdown",
      "metadata": {
        "id": "fsuSWWH2ScQx"
      },
      "source": [
        "`Question:`:Create a list of numbers\n",
        "> nums = [1,2,3,4] "
      ]
    },
    {
      "cell_type": "code",
      "execution_count": null,
      "metadata": {
        "id": "-beGt4sKScQy",
        "outputId": "3cb47915-0d04-45b2-c6b3-30ff95af33e9",
        "colab": {
          "base_uri": "https://localhost:8080/"
        }
      },
      "outputs": [
        {
          "output_type": "execute_result",
          "data": {
            "text/plain": [
              "[1, 2, 3, 4]"
            ]
          },
          "metadata": {},
          "execution_count": 5
        }
      ],
      "source": [
        "nums = [1, 2, 3, 4]\n",
        "nums"
      ]
    },
    {
      "cell_type": "markdown",
      "metadata": {
        "id": "g9KW3432ScQ0"
      },
      "source": [
        "** `Question:` Remove number \"3\" in a list**"
      ]
    },
    {
      "cell_type": "code",
      "execution_count": null,
      "metadata": {
        "id": "1jtAxI2wScQ0",
        "outputId": "fdcada8d-17b9-4a74-b23d-e1bb44eadf94",
        "colab": {
          "base_uri": "https://localhost:8080/"
        }
      },
      "outputs": [
        {
          "output_type": "execute_result",
          "data": {
            "text/plain": [
              "[1, 2, 4]"
            ]
          },
          "metadata": {},
          "execution_count": 8
        }
      ],
      "source": [
        "nums = [1, 2, 3, 4]\n",
        "nums.pop(2)\n",
        "nums"
      ]
    },
    {
      "cell_type": "code",
      "execution_count": null,
      "metadata": {
        "id": "psMTuyWaScQ1",
        "outputId": "5ffcac5d-81e4-4609-8ad7-d1fdc22f3c2d",
        "colab": {
          "base_uri": "https://localhost:8080/"
        }
      },
      "outputs": [
        {
          "output_type": "execute_result",
          "data": {
            "text/plain": [
              "[1, 2, 4]"
            ]
          },
          "metadata": {},
          "execution_count": 9
        }
      ],
      "source": [
        "# Method 2\n",
        "nums = [1, 2, 3, 4]\n",
        "nums.remove(3)\n",
        "nums"
      ]
    },
    {
      "cell_type": "code",
      "execution_count": null,
      "metadata": {
        "id": "z6nigo_ZScQ2",
        "outputId": "6bd27add-f784-4e6e-904e-3335a0d44315",
        "colab": {
          "base_uri": "https://localhost:8080/"
        }
      },
      "outputs": [
        {
          "output_type": "execute_result",
          "data": {
            "text/plain": [
              "[1, 2, 4]"
            ]
          },
          "metadata": {},
          "execution_count": 10
        }
      ],
      "source": [
        "# Method 3\n",
        "nums = [1, 2, 3, 4]\n",
        "del nums[2]\n",
        "nums"
      ]
    },
    {
      "cell_type": "markdown",
      "metadata": {
        "id": "n03C50i2ScQ3"
      },
      "source": [
        "**`Question:` :Insert number \"1\" in 0th position**\n",
        "- lst = [2,3,4]"
      ]
    },
    {
      "cell_type": "code",
      "execution_count": null,
      "metadata": {
        "id": "R1opDBaCScQ3",
        "outputId": "cdb60481-5607-4663-f587-39cc8e739ee5",
        "colab": {
          "base_uri": "https://localhost:8080/"
        }
      },
      "outputs": [
        {
          "output_type": "execute_result",
          "data": {
            "text/plain": [
              "[1, 2, 3, 4]"
            ]
          },
          "metadata": {},
          "execution_count": 12
        }
      ],
      "source": [
        "lst = [2, 3, 4]\n",
        "lst.insert(0, 1)\n",
        "lst"
      ]
    },
    {
      "cell_type": "markdown",
      "metadata": {
        "id": "pqRykHb1ScQ4"
      },
      "source": [
        "**`Question:` Insert \"two-and-half\" in 2nd position**"
      ]
    },
    {
      "cell_type": "code",
      "execution_count": null,
      "metadata": {
        "id": "c6hGQbslScQ4",
        "outputId": "ac9fda95-732d-46d4-e4f2-ef4945161e3e",
        "colab": {
          "base_uri": "https://localhost:8080/"
        }
      },
      "outputs": [
        {
          "output_type": "execute_result",
          "data": {
            "text/plain": [
              "[1, 2, 'two-and-half', 3, 4]"
            ]
          },
          "metadata": {},
          "execution_count": 13
        }
      ],
      "source": [
        "lst.insert(2, 'two-and-half')\n",
        "lst"
      ]
    },
    {
      "cell_type": "markdown",
      "metadata": {
        "id": "l905IckDScQ5"
      },
      "source": [
        "**`Question:` phrase = \"Don't panic!\"**\n",
        "- **Convert above text into list**"
      ]
    },
    {
      "cell_type": "code",
      "execution_count": null,
      "metadata": {
        "id": "M1TqckfMScQ5",
        "outputId": "5ac2cd36-f0ba-4838-a1f4-b6782bc16dcb",
        "colab": {
          "base_uri": "https://localhost:8080/"
        }
      },
      "outputs": [
        {
          "output_type": "execute_result",
          "data": {
            "text/plain": [
              "['D', 'o', 'n', \"'\", 't', ' ', 'p', 'a', 'n', 'i', 'c', '!']"
            ]
          },
          "metadata": {},
          "execution_count": 17
        }
      ],
      "source": [
        "phrase = \"Don't panic!\"\n",
        "lst = [i for i in phrase]\n",
        "lst"
      ]
    },
    {
      "cell_type": "markdown",
      "metadata": {
        "id": "duyQpo0wScQ6"
      },
      "source": [
        "*convert into list*"
      ]
    },
    {
      "cell_type": "markdown",
      "metadata": {
        "id": "YPqyySYCScQ7"
      },
      "source": [
        "`Question:` Remove ** '** and **!** in the list"
      ]
    },
    {
      "cell_type": "code",
      "execution_count": null,
      "metadata": {
        "id": "8RELW-ydScQ7"
      },
      "outputs": [],
      "source": [
        "lst.remove(\"'\")\n",
        "lst.remove(\"!\")"
      ]
    },
    {
      "cell_type": "code",
      "execution_count": null,
      "metadata": {
        "id": "Sgzk2LgJScQ7",
        "outputId": "4f70a1cc-d4e3-48ed-cb2b-01e22e2c8e78",
        "colab": {
          "base_uri": "https://localhost:8080/"
        }
      },
      "outputs": [
        {
          "output_type": "execute_result",
          "data": {
            "text/plain": [
              "['D', 'o', 'n', 't', ' ', 'p', 'a', 'n', 'i', 'c']"
            ]
          },
          "metadata": {},
          "execution_count": 19
        }
      ],
      "source": [
        "lst"
      ]
    },
    {
      "cell_type": "markdown",
      "metadata": {
        "id": "tjCyOwNgScQ8"
      },
      "source": [
        "**`Question:` Remove \"p\" , \"a\", \"n\",\"D\" and extend at the last**"
      ]
    },
    {
      "cell_type": "code",
      "execution_count": null,
      "metadata": {
        "id": "KxfMaylOScQ8"
      },
      "outputs": [],
      "source": [
        "lst.remove('p')\n",
        "lst.remove('a') \n",
        "lst.remove('n')\n",
        "lst.remove('D')\n",
        "\n",
        "lst.extend(['p', 'a', 'n', 'D'])"
      ]
    },
    {
      "cell_type": "code",
      "execution_count": null,
      "metadata": {
        "id": "BzOy0_GMScQ8",
        "outputId": "458279b3-c8d8-49c8-a07d-9cbe3fd86526",
        "colab": {
          "base_uri": "https://localhost:8080/"
        }
      },
      "outputs": [
        {
          "output_type": "execute_result",
          "data": {
            "text/plain": [
              "['o', 't', ' ', 'n', 'i', 'c', 'p', 'a', 'n', 'D']"
            ]
          },
          "metadata": {},
          "execution_count": 21
        }
      ],
      "source": [
        "lst"
      ]
    },
    {
      "cell_type": "markdown",
      "metadata": {
        "id": "9JDYhwhXScQ8"
      },
      "source": [
        "**`Question:` Join the given list ['p', 'a', 'n', 'D', 'a']**"
      ]
    },
    {
      "cell_type": "code",
      "execution_count": null,
      "metadata": {
        "id": "ahKvuQPYScQ9",
        "outputId": "35fdaefa-c153-4649-b638-8786cb7ceb98",
        "colab": {
          "base_uri": "https://localhost:8080/",
          "height": 35
        }
      },
      "outputs": [
        {
          "output_type": "execute_result",
          "data": {
            "text/plain": [
              "'panDa'"
            ],
            "application/vnd.google.colaboratory.intrinsic+json": {
              "type": "string"
            }
          },
          "metadata": {},
          "execution_count": 22
        }
      ],
      "source": [
        "lst = ['p', 'a', 'n', 'D', 'a']\n",
        "\n",
        "''.join(lst)"
      ]
    },
    {
      "cell_type": "code",
      "execution_count": null,
      "metadata": {
        "id": "mcksETpYScQ9",
        "outputId": "894ba0d0-f1a7-4c2a-cd59-f62cc39b9ba7"
      },
      "outputs": [
        {
          "data": {
            "text/plain": [
              "'panDa'"
            ]
          },
          "execution_count": 21,
          "metadata": {},
          "output_type": "execute_result"
        }
      ],
      "source": []
    },
    {
      "cell_type": "markdown",
      "metadata": {
        "id": "62WXWZ_sScQ9"
      },
      "source": [
        "###  Tuples"
      ]
    },
    {
      "cell_type": "markdown",
      "metadata": {
        "id": "84-cmE4zScQ9"
      },
      "source": [
        "**`Question:` Create a tuples for numbers 31,24,35,85 as nums**"
      ]
    },
    {
      "cell_type": "code",
      "execution_count": null,
      "metadata": {
        "id": "2R-IBJCPScQ-",
        "outputId": "473c1763-51f3-4935-a321-74b72c9de55d",
        "colab": {
          "base_uri": "https://localhost:8080/"
        }
      },
      "outputs": [
        {
          "output_type": "stream",
          "name": "stdout",
          "text": [
            "<class 'tuple'>\n"
          ]
        },
        {
          "output_type": "execute_result",
          "data": {
            "text/plain": [
              "(31, 24, 35, 85)"
            ]
          },
          "metadata": {},
          "execution_count": 33
        }
      ],
      "source": [
        "nums = (31, 24, 35, 85)\n",
        "print(f'{type(nums)}')\n",
        "nums"
      ]
    },
    {
      "cell_type": "code",
      "execution_count": null,
      "metadata": {
        "id": "fULfVEy6ScQ-",
        "outputId": "3ee56cdd-62a9-45c3-e6bf-361fcfd779fb"
      },
      "outputs": [
        {
          "name": "stdout",
          "output_type": "stream",
          "text": [
            "data type <class 'tuple'>\n",
            "(31, 24, 35, 85)\n"
          ]
        }
      ],
      "source": []
    },
    {
      "cell_type": "markdown",
      "metadata": {
        "id": "J25nMEMVScQ-"
      },
      "source": [
        "**`Question:` Remove number \"35\" in a tuple**\n",
        "\n",
        "*Hint:* Convert into list"
      ]
    },
    {
      "cell_type": "code",
      "execution_count": null,
      "metadata": {
        "id": "LRJByCPHScQ_",
        "outputId": "bcc24311-afa4-4afb-bc7b-72cf4486b93b",
        "colab": {
          "base_uri": "https://localhost:8080/"
        }
      },
      "outputs": [
        {
          "output_type": "execute_result",
          "data": {
            "text/plain": [
              "(31, 24, 85)"
            ]
          },
          "metadata": {},
          "execution_count": 34
        }
      ],
      "source": [
        "\n",
        "lst = list(nums)\n",
        "lst.remove(35)\n",
        "\n",
        "nums = tuple(lst)\n",
        "nums"
      ]
    },
    {
      "cell_type": "markdown",
      "metadata": {
        "id": "H9sd5CdTScRB"
      },
      "source": [
        "**Extent** tuple (85,19)"
      ]
    },
    {
      "cell_type": "code",
      "execution_count": null,
      "metadata": {
        "id": "2nOLsBaTScRB",
        "outputId": "f8437d45-4218-412b-a58a-9f1ccd83090f",
        "colab": {
          "base_uri": "https://localhost:8080/"
        }
      },
      "outputs": [
        {
          "output_type": "execute_result",
          "data": {
            "text/plain": [
              "(31, 24, 85, 85, 19)"
            ]
          },
          "metadata": {},
          "execution_count": 35
        }
      ],
      "source": [
        "lst = list(nums)\n",
        "lst.extend([85, 19])\n",
        "\n",
        "nums = tuple(lst)\n",
        "nums"
      ]
    },
    {
      "cell_type": "markdown",
      "metadata": {
        "id": "22oAuGQtScRC"
      },
      "source": [
        "**`Question:` Write code to check whether an element ('i') exists within a tuple.**\n",
        "- tpl = ('i','n''n','0')"
      ]
    },
    {
      "cell_type": "code",
      "execution_count": null,
      "metadata": {
        "id": "CPVV-F08ScRC",
        "outputId": "1a63d4e0-5c89-474e-b3d7-e862c62a0d8f",
        "colab": {
          "base_uri": "https://localhost:8080/"
        }
      },
      "outputs": [
        {
          "output_type": "execute_result",
          "data": {
            "text/plain": [
              "True"
            ]
          },
          "metadata": {},
          "execution_count": 36
        }
      ],
      "source": [
        "tpl = ('i', 'n', 'n', '0')\n",
        "'i' in tpl"
      ]
    },
    {
      "cell_type": "markdown",
      "metadata": {
        "id": "dz9XmxaCScRD"
      },
      "source": [
        "**`Question:` Write a python code to replace/insert the value**\n",
        "- list = ['Hello',100,[],'innomatics']"
      ]
    },
    {
      "cell_type": "code",
      "execution_count": 1,
      "metadata": {
        "id": "dgPIP-GxScRD",
        "outputId": "b8b218b4-f16e-440f-c1f1-c99b4d271542",
        "colab": {
          "base_uri": "https://localhost:8080/"
        }
      },
      "outputs": [
        {
          "output_type": "execute_result",
          "data": {
            "text/plain": [
              "['Hello', 100, [200], 'innomatics']"
            ]
          },
          "metadata": {},
          "execution_count": 1
        }
      ],
      "source": [
        "lst = ['Hello',100,[],'innomatics']\n",
        "ind = lst.index([])\n",
        "lst[ind] = [200]\n",
        "lst"
      ]
    },
    {
      "cell_type": "markdown",
      "metadata": {
        "id": "2K-c4jbrScRE"
      },
      "source": [
        "**`Question:` Write a Python program to reverse a tuple.**"
      ]
    },
    {
      "cell_type": "code",
      "execution_count": null,
      "metadata": {
        "id": "e-WjL5vQScRE",
        "outputId": "8bf837cf-3010-46e4-c838-92222adf8575",
        "colab": {
          "base_uri": "https://localhost:8080/"
        }
      },
      "outputs": [
        {
          "output_type": "execute_result",
          "data": {
            "text/plain": [
              "('s', 'c', 'i', 't', 'a', 'm', 'o', 'n', 'n', 'I')"
            ]
          },
          "metadata": {},
          "execution_count": 45
        }
      ],
      "source": [
        "# CODE HERE\n",
        "tpl = (\"Innomatics\")\n",
        "tuple([i for i in tpl[::-1]])"
      ]
    },
    {
      "cell_type": "code",
      "execution_count": 2,
      "metadata": {
        "id": "7XOhn10tScRE",
        "outputId": "57278f58-deae-4da6-fe13-b83caf4c989a",
        "colab": {
          "base_uri": "https://localhost:8080/"
        }
      },
      "outputs": [
        {
          "output_type": "execute_result",
          "data": {
            "text/plain": [
              "(1, 2, 3, 4)"
            ]
          },
          "metadata": {},
          "execution_count": 2
        }
      ],
      "source": [
        "tpl = (1,2,3)+(4,)\n",
        "tpl"
      ]
    },
    {
      "cell_type": "markdown",
      "metadata": {
        "id": "G_28vOp6ScRF"
      },
      "source": [
        "**`Question:` Write a Python program to add one more value at last postion of tuples in a list**\n",
        "- tpl = [(10, 20, 40), (40, 50, 60), (70, 80, 90)]\n",
        "- `hint- use for loop`"
      ]
    },
    {
      "cell_type": "code",
      "execution_count": 8,
      "metadata": {
        "id": "HTBzsPGpScRF",
        "outputId": "18de0723-7bba-4f00-a52f-3ef364ec16a3",
        "colab": {
          "base_uri": "https://localhost:8080/"
        }
      },
      "outputs": [
        {
          "output_type": "execute_result",
          "data": {
            "text/plain": [
              "[(10, 20, 40), (40, 50, 60), (70, 80, 90, 100)]"
            ]
          },
          "metadata": {},
          "execution_count": 8
        }
      ],
      "source": [
        "# CODE HERE\n",
        "tpl = [(10, 20, 40), (40, 50, 60), (70, 80, 90)]\n",
        "\n",
        "tpl[2] = tpl[2] + (100, )\n",
        "tpl"
      ]
    },
    {
      "cell_type": "markdown",
      "metadata": {
        "id": "jqtOr3axScRG"
      },
      "source": [
        "**`Question:` Write a Python program to replace last value of tuples in a list**\n",
        "- tpl = [(10, 20, 40), (40, 50, 60), (70, 80, 90)]\n",
        "- `hint- use for loop`"
      ]
    },
    {
      "cell_type": "code",
      "execution_count": 12,
      "metadata": {
        "id": "YBaMytqZScRG",
        "outputId": "fb8efd25-20a8-458f-b352-ae501933aa75",
        "colab": {
          "base_uri": "https://localhost:8080/"
        }
      },
      "outputs": [
        {
          "output_type": "execute_result",
          "data": {
            "text/plain": [
              "[(10, 20, 100), (40, 50, 100), (70, 80, 100)]"
            ]
          },
          "metadata": {},
          "execution_count": 12
        }
      ],
      "source": [
        "# CODE HERE\n",
        "tpl = [(10, 20, 40), (40, 50, 60), (70, 80, 90)]\n",
        "\n",
        "i = 0\n",
        "while i < 3:\n",
        "    tpl[i] = tpl[i][:-1] + (100, )\n",
        "    i += 1\n",
        "\n",
        "tpl"
      ]
    },
    {
      "cell_type": "markdown",
      "metadata": {
        "id": "oMJDh_GeScRH"
      },
      "source": [
        "### `Question:` If the following string is given as input to the program:\n",
        "\n",
        "- '5 2 3 6 6 5'\n",
        "\n",
        "#### FInd the secong higest value from that"
      ]
    },
    {
      "cell_type": "code",
      "execution_count": 18,
      "metadata": {
        "id": "Zg_WXikfScRH",
        "outputId": "29007e9f-fdce-4818-e532-71fd2f4d49d6",
        "colab": {
          "base_uri": "https://localhost:8080/"
        }
      },
      "outputs": [
        {
          "output_type": "stream",
          "name": "stdout",
          "text": [
            "second highest is : 6\n"
          ]
        }
      ],
      "source": [
        "string = '5 2 3 6 6 5'\n",
        "lst = string.split()\n",
        "lst.sort()\n",
        "print(f'second highest is : {lst[-2]}')"
      ]
    },
    {
      "cell_type": "markdown",
      "metadata": {
        "id": "r_BKerQBScRH"
      },
      "source": [
        "### `Question:` By using list comprehension, please write a program to print the list after removing the 0th,4th,5th numbers in [12,24,35,70,88,120,155]."
      ]
    },
    {
      "cell_type": "code",
      "execution_count": 19,
      "metadata": {
        "id": "PMjytd8KScRH",
        "outputId": "b5b54dac-9d8a-4341-c58b-eb3e20a0b397",
        "colab": {
          "base_uri": "https://localhost:8080/"
        }
      },
      "outputs": [
        {
          "output_type": "execute_result",
          "data": {
            "text/plain": [
              "[24, 35, 70, 155]"
            ]
          },
          "metadata": {},
          "execution_count": 19
        }
      ],
      "source": [
        " lst = [12,24,35,70,88,120,155]\n",
        " lst = [i for ind, i in enumerate(lst) if ind not in (0, 4, 5)]\n",
        " lst"
      ]
    },
    {
      "cell_type": "markdown",
      "metadata": {
        "id": "0dbKv5GjScRI"
      },
      "source": [
        "### `Question:` With a given tuple (1,2,3,4,5,6,7,8,9,10), write a program to print the first half values in one line and the last half values in one line."
      ]
    },
    {
      "cell_type": "code",
      "execution_count": 21,
      "metadata": {
        "id": "-K-PiCT-ScRI",
        "outputId": "a23fa41f-2a90-4b99-8b36-36b72062307e",
        "colab": {
          "base_uri": "https://localhost:8080/"
        }
      },
      "outputs": [
        {
          "output_type": "stream",
          "name": "stdout",
          "text": [
            "(1, 2, 3, 4, 5)\n",
            "(6, 7, 8, 9, 10)\n"
          ]
        }
      ],
      "source": [
        "tup = (1,2,3,4,5,6,7,8,9,10)\n",
        "print(tup[:len(tup)//2])\n",
        "print(tup[len(tup)//2:])"
      ]
    },
    {
      "cell_type": "markdown",
      "metadata": {
        "id": "GdUJY1QKScRI"
      },
      "source": [
        "### `Question:` Write a program to generate and print another tuple whose values are even numbers in the given tuple (1,2,3,4,5,6,7,8,9,10)"
      ]
    },
    {
      "cell_type": "code",
      "execution_count": 22,
      "metadata": {
        "id": "4Fh46JQ0ScRJ",
        "outputId": "a91e4e34-1009-41e2-dc7a-4530c0b6c4ab",
        "colab": {
          "base_uri": "https://localhost:8080/"
        }
      },
      "outputs": [
        {
          "output_type": "execute_result",
          "data": {
            "text/plain": [
              "(2, 4, 6, 8, 10)"
            ]
          },
          "metadata": {},
          "execution_count": 22
        }
      ],
      "source": [
        "tup = (1,2,3,4,5,6,7,8,9,10)\n",
        "tuple([i for i in tup if i%2 == 0])"
      ]
    },
    {
      "cell_type": "markdown",
      "metadata": {
        "id": "9wHB1jfvScRJ"
      },
      "source": [
        "# `Descriptive Questions`"
      ]
    },
    {
      "cell_type": "markdown",
      "metadata": {
        "id": "grv4V4yAScRJ"
      },
      "source": [
        "### 1. Explain the difference between list and tuple?"
      ]
    },
    {
      "cell_type": "markdown",
      "source": [
        "list --> [] where as tuple --> ()\n",
        "list is mutable where as tuple is immutable"
      ],
      "metadata": {
        "id": "XyAGnIQvScRK"
      }
    },
    {
      "cell_type": "markdown",
      "metadata": {
        "id": "9EJBFP75ScRK"
      },
      "source": [
        "### 2. Explain the difference between append() and extend() with examples"
      ]
    },
    {
      "cell_type": "markdown",
      "source": [
        "both the methods will add values at the end of the list but the difference is append is used to add a single value where as extend is used to add multipe values using anoter data structure"
      ],
      "metadata": {
        "id": "masAy3nqScRK"
      }
    },
    {
      "cell_type": "markdown",
      "metadata": {
        "id": "XNOP7pHVScRL"
      },
      "source": [
        "### 3. Explain the difference between pop() and remove() with examples"
      ]
    },
    {
      "cell_type": "markdown",
      "source": [
        "pop will delete and return the deleted value, remove will simply delete the value from list"
      ],
      "metadata": {
        "id": "qtr0u7KbScRL"
      }
    },
    {
      "cell_type": "markdown",
      "metadata": {
        "id": "uA79jUh7ScRL"
      },
      "source": [
        "# [Innomatics Research Labs](https:/innomatics.in/)\n",
        "[www.innomatics.in](https:/innomatics.in/)"
      ]
    },
    {
      "cell_type": "code",
      "execution_count": null,
      "metadata": {
        "id": "ZWfaS-beScRM"
      },
      "outputs": [],
      "source": []
    }
  ],
  "metadata": {
    "kernelspec": {
      "display_name": "Python 3",
      "language": "python",
      "name": "python3"
    },
    "language_info": {
      "codemirror_mode": {
        "name": "ipython",
        "version": 3
      },
      "file_extension": ".py",
      "mimetype": "text/x-python",
      "name": "python",
      "nbconvert_exporter": "python",
      "pygments_lexer": "ipython3",
      "version": "3.8.5"
    },
    "colab": {
      "provenance": []
    }
  },
  "nbformat": 4,
  "nbformat_minor": 0
}