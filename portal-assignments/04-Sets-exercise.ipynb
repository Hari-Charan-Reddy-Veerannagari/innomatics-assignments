{
  "cells": [
    {
      "cell_type": "markdown",
      "metadata": {
        "id": "F2MQQQ-IEz7n"
      },
      "source": [
        "# Assignment Instructions\n",
        "\n",
        "`Hello Innominion,`\n",
        "\n",
        "- **Try to attempt all the questions in every possible way.**\n",
        "- **Some other topics are required to solve some questions. don't panic.**\n",
        "- **Those questions can be answered after the topics are taught.**\n",
        "\n",
        "\n",
        "- `Join Mentoring Session for the Support/Doubts Resolving with Our Technical Mentors (2.00 PM - 6.00 PM  Mon-Sat)` \n",
        "\n",
        "Happy Learning !!!"
      ]
    },
    {
      "cell_type": "markdown",
      "metadata": {
        "id": "FZGsRY7MEz7q"
      },
      "source": [
        "###  Sets"
      ]
    },
    {
      "cell_type": "markdown",
      "metadata": {
        "id": "9-cNGHr7Ez7r"
      },
      "source": [
        "> **`Question:` Create a set \"s\" with elements**\n",
        "\n",
        "1 , 2 , 'innomatics', 'hub'\n",
        "\n"
      ]
    },
    {
      "cell_type": "code",
      "execution_count": 1,
      "metadata": {
        "id": "f4nIeN0PEz7r"
      },
      "outputs": [],
      "source": [
        "s = {1, 2, 'innomatics', 'hub'}"
      ]
    },
    {
      "cell_type": "code",
      "execution_count": 2,
      "metadata": {
        "id": "1Vldb05WEz7s",
        "outputId": "72e5bd1b-bc66-42d1-fb64-807f655abfe1",
        "colab": {
          "base_uri": "https://localhost:8080/"
        }
      },
      "outputs": [
        {
          "output_type": "execute_result",
          "data": {
            "text/plain": [
              "{1, 2, 'hub', 'innomatics'}"
            ]
          },
          "metadata": {},
          "execution_count": 2
        }
      ],
      "source": [
        "s"
      ]
    },
    {
      "cell_type": "markdown",
      "metadata": {
        "id": "R09_erOZEz7t"
      },
      "source": [
        "> **`Question:` Add element 'Technology' in s**"
      ]
    },
    {
      "cell_type": "code",
      "execution_count": 3,
      "metadata": {
        "id": "A4JOnLhtEz7u"
      },
      "outputs": [],
      "source": [
        "s.add('Technology')"
      ]
    },
    {
      "cell_type": "code",
      "execution_count": 4,
      "metadata": {
        "id": "PjlThkrSEz7u",
        "outputId": "cfc7ac81-161f-4728-ad5c-98517c2976e0",
        "colab": {
          "base_uri": "https://localhost:8080/"
        }
      },
      "outputs": [
        {
          "output_type": "execute_result",
          "data": {
            "text/plain": [
              "{1, 2, 'Technology', 'hub', 'innomatics'}"
            ]
          },
          "metadata": {},
          "execution_count": 4
        }
      ],
      "source": [
        "s"
      ]
    },
    {
      "cell_type": "markdown",
      "metadata": {
        "id": "GqP67W6DEz7u"
      },
      "source": [
        "> **`Question:` Create one more set \"sc\" with elements**\n",
        "\n",
        "3,4, 'hub', 'Technology'"
      ]
    },
    {
      "cell_type": "code",
      "execution_count": 5,
      "metadata": {
        "id": "bal2GJEoEz7v"
      },
      "outputs": [],
      "source": [
        "sc = {3,4, 'hub', 'Technology'}"
      ]
    },
    {
      "cell_type": "code",
      "execution_count": 6,
      "metadata": {
        "id": "6iYz16GvEz7v",
        "outputId": "f05b4aa8-a61c-4f1b-f115-c334082dceec",
        "colab": {
          "base_uri": "https://localhost:8080/"
        }
      },
      "outputs": [
        {
          "output_type": "execute_result",
          "data": {
            "text/plain": [
              "{3, 4, 'Technology', 'hub'}"
            ]
          },
          "metadata": {},
          "execution_count": 6
        }
      ],
      "source": [
        "sc"
      ]
    },
    {
      "cell_type": "markdown",
      "metadata": {
        "id": "OnMsM7Y-Ez7w"
      },
      "source": [
        "> **`Question:` Find difference of two sets s and sc**\n",
        "\n",
        "s - sc"
      ]
    },
    {
      "cell_type": "code",
      "execution_count": null,
      "metadata": {
        "id": "jU5iIqkaEz7w"
      },
      "outputs": [],
      "source": [
        "# CODE HERE"
      ]
    },
    {
      "cell_type": "code",
      "execution_count": 7,
      "metadata": {
        "id": "v9zRBoFVEz7w",
        "outputId": "e0c86013-1ea0-428a-955f-e4c3e364a20c",
        "colab": {
          "base_uri": "https://localhost:8080/"
        }
      },
      "outputs": [
        {
          "output_type": "execute_result",
          "data": {
            "text/plain": [
              "{1, 2, 'innomatics'}"
            ]
          },
          "metadata": {},
          "execution_count": 7
        }
      ],
      "source": [
        "s - sc"
      ]
    },
    {
      "cell_type": "markdown",
      "metadata": {
        "id": "QkFEWlMaEz7w"
      },
      "source": [
        "> **`Question:` remove 2 from set s**"
      ]
    },
    {
      "cell_type": "code",
      "execution_count": 8,
      "metadata": {
        "id": "gJceX3BsEz7x",
        "outputId": "d5ed551d-f3be-4aae-d778-89a73ccbbbd0",
        "colab": {
          "base_uri": "https://localhost:8080/"
        }
      },
      "outputs": [
        {
          "output_type": "execute_result",
          "data": {
            "text/plain": [
              "{1, 2, 'Technology', 'hub', 'innomatics'}"
            ]
          },
          "metadata": {},
          "execution_count": 8
        }
      ],
      "source": [
        "s"
      ]
    },
    {
      "cell_type": "code",
      "execution_count": 9,
      "metadata": {
        "id": "M084fHHGEz7x"
      },
      "outputs": [],
      "source": [
        "s.remove(2)"
      ]
    },
    {
      "cell_type": "code",
      "execution_count": 10,
      "metadata": {
        "id": "hhfqU8enEz7x",
        "outputId": "38cec36d-652e-4d8c-ca35-8b91dc111036",
        "colab": {
          "base_uri": "https://localhost:8080/"
        }
      },
      "outputs": [
        {
          "output_type": "execute_result",
          "data": {
            "text/plain": [
              "{1, 'Technology', 'hub', 'innomatics'}"
            ]
          },
          "metadata": {},
          "execution_count": 10
        }
      ],
      "source": [
        "s"
      ]
    },
    {
      "cell_type": "markdown",
      "metadata": {
        "id": "A0Te40ksEz7x"
      },
      "source": [
        "> **`Question:`Print common element in two sets s and sc**\n",
        "\n",
        "s intersection sc"
      ]
    },
    {
      "cell_type": "code",
      "execution_count": null,
      "metadata": {
        "id": "9M5LisyBEz7y"
      },
      "outputs": [],
      "source": [
        "# CODE HERE"
      ]
    },
    {
      "cell_type": "code",
      "execution_count": 11,
      "metadata": {
        "id": "DIFQq3EjEz7y",
        "outputId": "1684547d-9346-43c9-97ec-9ba656525292",
        "colab": {
          "base_uri": "https://localhost:8080/"
        }
      },
      "outputs": [
        {
          "output_type": "execute_result",
          "data": {
            "text/plain": [
              "{'Technology', 'hub'}"
            ]
          },
          "metadata": {},
          "execution_count": 11
        }
      ],
      "source": [
        "s.intersection(sc)"
      ]
    },
    {
      "cell_type": "markdown",
      "metadata": {
        "id": "EV5sYF2BEz7y"
      },
      "source": [
        "> **`Question:`Print all element in two sets**\n",
        "\n",
        "s union sc"
      ]
    },
    {
      "cell_type": "code",
      "execution_count": null,
      "metadata": {
        "id": "thKfxDQ-Ez7y"
      },
      "outputs": [],
      "source": [
        "# CODE HERE"
      ]
    },
    {
      "cell_type": "code",
      "execution_count": 12,
      "metadata": {
        "id": "Dg5Mc-cMEz7z",
        "outputId": "d4e429ab-8e51-46dc-9352-10e899c7d0e5",
        "colab": {
          "base_uri": "https://localhost:8080/"
        }
      },
      "outputs": [
        {
          "output_type": "execute_result",
          "data": {
            "text/plain": [
              "{1, 3, 4, 'Technology', 'hub', 'innomatics'}"
            ]
          },
          "metadata": {},
          "execution_count": 12
        }
      ],
      "source": [
        "s.union(sc)"
      ]
    },
    {
      "cell_type": "markdown",
      "metadata": {
        "id": "XNY3fOEHEz7z"
      },
      "source": [
        "**`Question:`Add a list of elements to a set**\n",
        "- fruits = {\"orange\",'apple','kiwi'}\n",
        "- colors = ['orange','red','green']"
      ]
    },
    {
      "cell_type": "code",
      "execution_count": 14,
      "metadata": {
        "id": "8rpMV2c9Ez7z"
      },
      "outputs": [],
      "source": [
        "fruits = {\"orange\",'apple','kiwi'}\n",
        "colors = ['orange','red','green']\n",
        "\n",
        "fruits.update(colors)"
      ]
    },
    {
      "cell_type": "code",
      "execution_count": 15,
      "metadata": {
        "id": "v37gDbf4Ez7z",
        "outputId": "a90a52db-e1b0-4021-e038-dee5e47b9d9b",
        "colab": {
          "base_uri": "https://localhost:8080/"
        }
      },
      "outputs": [
        {
          "output_type": "execute_result",
          "data": {
            "text/plain": [
              "{'apple', 'green', 'kiwi', 'orange', 'red'}"
            ]
          },
          "metadata": {},
          "execution_count": 15
        }
      ],
      "source": [
        "fruits"
      ]
    },
    {
      "cell_type": "markdown",
      "metadata": {
        "id": "7EHFELmZEz7z"
      },
      "source": [
        "**`Question:`Remove items 10, 20, 30 from the following set at once**\n",
        "- set1 = {10, 20, 30, 40, 50}"
      ]
    },
    {
      "cell_type": "code",
      "execution_count": 16,
      "metadata": {
        "id": "7il4bqnGEz70"
      },
      "outputs": [],
      "source": [
        "set1 = {10, 20, 30, 40, 50}\n",
        "set1.remove(10)\n",
        "set1.remove(20)\n",
        "set1.remove(30)"
      ]
    },
    {
      "cell_type": "code",
      "execution_count": 17,
      "metadata": {
        "id": "FnaA4SG9Ez70",
        "outputId": "c7838a51-51d2-4f24-d959-29e70c17d9b5",
        "colab": {
          "base_uri": "https://localhost:8080/"
        }
      },
      "outputs": [
        {
          "output_type": "execute_result",
          "data": {
            "text/plain": [
              "{40, 50}"
            ]
          },
          "metadata": {},
          "execution_count": 17
        }
      ],
      "source": [
        "set1"
      ]
    },
    {
      "cell_type": "markdown",
      "metadata": {
        "id": "PNiAT_-3Ez70"
      },
      "source": [
        "# [Innomatics Research Labs](https:/innomatics.in/)\n",
        "[www.innomatics.in](https:/innomatics.in/)"
      ]
    },
    {
      "cell_type": "code",
      "execution_count": null,
      "metadata": {
        "id": "DZaPciAuEz70"
      },
      "outputs": [],
      "source": []
    }
  ],
  "metadata": {
    "kernelspec": {
      "display_name": "Python 3",
      "language": "python",
      "name": "python3"
    },
    "language_info": {
      "codemirror_mode": {
        "name": "ipython",
        "version": 3
      },
      "file_extension": ".py",
      "mimetype": "text/x-python",
      "name": "python",
      "nbconvert_exporter": "python",
      "pygments_lexer": "ipython3",
      "version": "3.8.5"
    },
    "colab": {
      "provenance": []
    }
  },
  "nbformat": 4,
  "nbformat_minor": 0
}