{
  "cells": [
    {
      "cell_type": "markdown",
      "metadata": {
        "id": "TtkAwzYIAEH8"
      },
      "source": [
        "# Assignment Instructions\n",
        "\n",
        "`Hello Innominion,`\n",
        "\n",
        "- **Try to attempt all the questions in every possible way.**\n",
        "- **Some other topics are required to solve some questions. don't panic.**\n",
        "- **Those questions can be answered after the topics are taught.**\n",
        "\n",
        "\n",
        "- `Join Mentoring Session for the Support/Doubts Resolving with Our Technical Mentors (2.00 PM - 6.00 PM  Mon-Sat)` \n",
        "\n",
        "Happy Learning !!!"
      ]
    },
    {
      "cell_type": "markdown",
      "metadata": {
        "id": "lB_RboC2AEH_"
      },
      "source": [
        "###  Dictionary"
      ]
    },
    {
      "cell_type": "markdown",
      "metadata": {
        "id": "ANG8tqPkAEH_"
      },
      "source": [
        "**`Question :`Create Dictionary for following information as \"person1\":**\n",
        "   - Name = John\n",
        "   - Gender= Male\n",
        "   - Occupation = Data Scientist\n",
        "   - Location  = Nizampet, Hyderabad"
      ]
    },
    {
      "cell_type": "code",
      "execution_count": 13,
      "metadata": {
        "id": "_NVoKaWxAEIA"
      },
      "outputs": [],
      "source": [
        "person1 = {\n",
        "    'Name' : 'John',\n",
        "    'Gender': 'Male',\n",
        "    'Occupatoin': 'Data Scientist',\n",
        "    'Location': 'Nizampet, Hyderabad'\n",
        "}"
      ]
    },
    {
      "cell_type": "code",
      "execution_count": 14,
      "metadata": {
        "id": "yDMPDmsCAEIB",
        "outputId": "96b16a0a-f2d7-4f1d-f2d8-98b42e50debd",
        "colab": {
          "base_uri": "https://localhost:8080/"
        }
      },
      "outputs": [
        {
          "output_type": "execute_result",
          "data": {
            "text/plain": [
              "{'Name': 'John',\n",
              " 'Gender': 'Male',\n",
              " 'Occupatoin': 'Data Scientist',\n",
              " 'Location': 'Nizampet, Hyderabad'}"
            ]
          },
          "metadata": {},
          "execution_count": 14
        }
      ],
      "source": [
        "person1"
      ]
    },
    {
      "cell_type": "markdown",
      "metadata": {
        "id": "RCdF0oFKAEIB"
      },
      "source": [
        "> print keys in person1 as a list"
      ]
    },
    {
      "cell_type": "code",
      "execution_count": 15,
      "metadata": {
        "id": "SAmiME_yAEIC"
      },
      "outputs": [],
      "source": [
        "# CODE HERE"
      ]
    },
    {
      "cell_type": "code",
      "execution_count": 16,
      "metadata": {
        "id": "-D9SJ9jGAEIC",
        "outputId": "fdafc29d-6fa6-40cd-8544-d1bf1201e5a9",
        "colab": {
          "base_uri": "https://localhost:8080/"
        }
      },
      "outputs": [
        {
          "output_type": "execute_result",
          "data": {
            "text/plain": [
              "dict_keys(['Name', 'Gender', 'Occupatoin', 'Location'])"
            ]
          },
          "metadata": {},
          "execution_count": 16
        }
      ],
      "source": [
        "person1.keys()"
      ]
    },
    {
      "cell_type": "markdown",
      "metadata": {
        "id": "lBe9pOPMAEIC"
      },
      "source": [
        "> **`Question:` Remove Location in person1**"
      ]
    },
    {
      "cell_type": "code",
      "execution_count": 17,
      "metadata": {
        "id": "GmnHApIzAEID"
      },
      "outputs": [],
      "source": [
        "del person1['Location']"
      ]
    },
    {
      "cell_type": "code",
      "execution_count": 18,
      "metadata": {
        "id": "edee8SKMAEID",
        "outputId": "76c346c8-539d-4e24-ead3-e34111f6e83d",
        "colab": {
          "base_uri": "https://localhost:8080/"
        }
      },
      "outputs": [
        {
          "output_type": "execute_result",
          "data": {
            "text/plain": [
              "{'Name': 'John', 'Gender': 'Male', 'Occupatoin': 'Data Scientist'}"
            ]
          },
          "metadata": {},
          "execution_count": 18
        }
      ],
      "source": [
        "person1"
      ]
    },
    {
      "cell_type": "markdown",
      "metadata": {
        "id": "ULx5skfrAEID"
      },
      "source": [
        "> **`Question:` Create dictionary of person2 with**\n",
        "- Name  = Raghu Ram\n",
        "- Gender = Male\n",
        "- Age  = 25\n",
        "- Occupation = Data Scienctist"
      ]
    },
    {
      "cell_type": "code",
      "execution_count": 19,
      "metadata": {
        "id": "nFp_oR7iAEIE"
      },
      "outputs": [],
      "source": [
        "# CODE HERE"
      ]
    },
    {
      "cell_type": "code",
      "execution_count": 20,
      "metadata": {
        "id": "_l_L66LkAEIE"
      },
      "outputs": [],
      "source": [
        "person2 = {\n",
        "    'Name' : 'Raghu Ram',\n",
        "    'Gender': 'Male',\n",
        "    'Age': 25,\n",
        "    'Occupatoin': 'Data Scientist'\n",
        "}"
      ]
    },
    {
      "cell_type": "code",
      "execution_count": 21,
      "metadata": {
        "id": "asI0WGmMAEIE",
        "outputId": "dee09ed7-5447-4f44-9ad9-898d4a489bbf",
        "colab": {
          "base_uri": "https://localhost:8080/"
        }
      },
      "outputs": [
        {
          "output_type": "execute_result",
          "data": {
            "text/plain": [
              "{'Name': 'Raghu Ram',\n",
              " 'Gender': 'Male',\n",
              " 'Age': 25,\n",
              " 'Occupatoin': 'Data Scientist'}"
            ]
          },
          "metadata": {},
          "execution_count": 21
        }
      ],
      "source": [
        "person2"
      ]
    },
    {
      "cell_type": "markdown",
      "metadata": {
        "id": "PJqAq4jeAEIE"
      },
      "source": [
        "> **`Question:` Print the output as show below**"
      ]
    },
    {
      "cell_type": "code",
      "execution_count": 22,
      "metadata": {
        "id": "Dh--cM65AEIE",
        "outputId": "2bf6b9fb-12be-4a40-d9fd-bd35b5b78cbd",
        "colab": {
          "base_uri": "https://localhost:8080/"
        }
      },
      "outputs": [
        {
          "output_type": "stream",
          "name": "stdout",
          "text": [
            "========================= person1 =========================\n",
            "{'Name': 'John', 'Gender': 'Male', 'Occupatoin': 'Data Scientist'}\n",
            "========================= person2 =========================\n",
            "{'Name': 'Raghu Ram', 'Gender': 'Male', 'Age': 25, 'Occupatoin': 'Data Scientist'}\n"
          ]
        }
      ],
      "source": [
        "print(f'{\"=\"*25} person1 {\"=\"*25}')\n",
        "print(person1)\n",
        "print(f'{\"=\"*25} person2 {\"=\"*25}')\n",
        "print(person2)"
      ]
    },
    {
      "cell_type": "markdown",
      "metadata": {
        "id": "-CfG_SxQAEIF"
      },
      "source": [
        "# create a dictionary\n",
        "#### `Question:` remove the elements from that dictionary using different methods\n",
        "{1: 1, 2: 4, 3: 9, 4: 16, 5: 25,6:36,7:49}"
      ]
    },
    {
      "cell_type": "code",
      "execution_count": 23,
      "metadata": {
        "id": "b2IkjOXxAEIF"
      },
      "outputs": [],
      "source": [
        "d1 = {\n",
        "    1:1,\n",
        "    2:4,\n",
        "    3:9,\n",
        "    4:16,\n",
        "    5:25,\n",
        "    6:36,\n",
        "    7:49\n",
        "}"
      ]
    },
    {
      "cell_type": "code",
      "source": [
        "d1.pop(1)\n",
        "d1"
      ],
      "metadata": {
        "id": "6fgeoS6xCcmf",
        "outputId": "4f3d1b00-7f9c-45c3-93b3-a9f444d43797",
        "colab": {
          "base_uri": "https://localhost:8080/"
        }
      },
      "execution_count": 24,
      "outputs": [
        {
          "output_type": "execute_result",
          "data": {
            "text/plain": [
              "{2: 4, 3: 9, 4: 16, 5: 25, 6: 36, 7: 49}"
            ]
          },
          "metadata": {},
          "execution_count": 24
        }
      ]
    },
    {
      "cell_type": "code",
      "source": [
        "d1.popitem()\n",
        "d1"
      ],
      "metadata": {
        "id": "VSDOZ8OeCg4_",
        "outputId": "58726445-89f6-416f-9cec-8d914f5d63bc",
        "colab": {
          "base_uri": "https://localhost:8080/"
        }
      },
      "execution_count": 27,
      "outputs": [
        {
          "output_type": "execute_result",
          "data": {
            "text/plain": [
              "{2: 4, 3: 9, 4: 16, 5: 25, 6: 36}"
            ]
          },
          "metadata": {},
          "execution_count": 27
        }
      ]
    },
    {
      "cell_type": "code",
      "source": [
        "del d1[5]\n",
        "d1"
      ],
      "metadata": {
        "id": "J0J2uZqbCxgF",
        "outputId": "26fa365d-5c5f-4b6b-9fe7-5ede3b73b967",
        "colab": {
          "base_uri": "https://localhost:8080/"
        }
      },
      "execution_count": 28,
      "outputs": [
        {
          "output_type": "execute_result",
          "data": {
            "text/plain": [
              "{2: 4, 3: 9, 4: 16, 6: 36}"
            ]
          },
          "metadata": {},
          "execution_count": 28
        }
      ]
    },
    {
      "cell_type": "markdown",
      "metadata": {
        "id": "lBOo1DWyAEIF"
      },
      "source": [
        "\n",
        "### `Question:` print the values from the given dictionary in descending order\n",
        "{0: 0, 1: 1, 3: 9, 5: 25, 7: 49, 9: 81}"
      ]
    },
    {
      "cell_type": "code",
      "execution_count": 40,
      "metadata": {
        "id": "DW0poDxRAEIF"
      },
      "outputs": [],
      "source": [
        "d2 = {\n",
        "    0:0, 1:1, 3:9, 5:25, 7:49, 9:81\n",
        "}"
      ]
    },
    {
      "cell_type": "code",
      "execution_count": 41,
      "metadata": {
        "id": "DPAwykZBAEIF",
        "outputId": "a644c6c2-31d4-4f10-d74c-1d1851accbef",
        "colab": {
          "base_uri": "https://localhost:8080/"
        }
      },
      "outputs": [
        {
          "output_type": "execute_result",
          "data": {
            "text/plain": [
              "{0: 0, 1: 1, 3: 9, 5: 25, 7: 49, 9: 81}"
            ]
          },
          "metadata": {},
          "execution_count": 41
        }
      ],
      "source": [
        "d2 = dict(sorted(d2.items(), key = lambda x:x[1]))\n",
        "d2"
      ]
    },
    {
      "cell_type": "markdown",
      "metadata": {
        "id": "cCBIVBTCAEIF"
      },
      "source": [
        "### `Question:` merge the below 3 dictionaries\n",
        "dict1 = { 'a': 1, 'b': 2 }\n",
        "dict2 = { 'b': 3, 'c': 4 }\n",
        "dict3 = { 'c': 5, 'd': 6 }"
      ]
    },
    {
      "cell_type": "code",
      "execution_count": null,
      "metadata": {
        "id": "aZ3YEF-OAEIG"
      },
      "outputs": [],
      "source": [
        "# CODE HERE"
      ]
    },
    {
      "cell_type": "code",
      "execution_count": 44,
      "metadata": {
        "id": "Sy5iOkdRAEIG",
        "outputId": "f3376b60-b18b-459e-f885-ebde4050f8ff",
        "colab": {
          "base_uri": "https://localhost:8080/"
        }
      },
      "outputs": [
        {
          "output_type": "execute_result",
          "data": {
            "text/plain": [
              "{'a': 1, 'b': 3, 'c': 5, 'd': 6}"
            ]
          },
          "metadata": {},
          "execution_count": 44
        }
      ],
      "source": [
        "\n",
        "dict1 = { 'a': 1, 'b': 2 }\n",
        "dict2 = { 'b': 3, 'c': 4 }\n",
        "dict3 = { 'c': 5, 'd': 6 }\n",
        "\n",
        "\n",
        "dict1.update(dict2)\n",
        "dict1.update(dict3)\n",
        "\n",
        "dict1"
      ]
    },
    {
      "cell_type": "markdown",
      "metadata": {
        "id": "TkBeYCzsAEIG"
      },
      "source": [
        "**`Question:` change Charan’s salary to 8500 in the following dictionary**"
      ]
    },
    {
      "cell_type": "raw",
      "metadata": {
        "id": "9lCNnvVAAEIH"
      },
      "source": [
        "sample_dict = {\n",
        "    'emp1': {'name': 'Jhony', 'salary': 7500},\n",
        "    'emp2': {'name': 'Ravi', 'salary': 8000},\n",
        "    'emp3': {'name': 'Charan', 'salary': 6500}\n",
        "}"
      ]
    },
    {
      "cell_type": "code",
      "execution_count": 46,
      "metadata": {
        "id": "HPgf7e1PAEIH",
        "outputId": "e22c98e0-74d6-4029-a631-27c1cfa3eb88",
        "colab": {
          "base_uri": "https://localhost:8080/"
        }
      },
      "outputs": [
        {
          "output_type": "execute_result",
          "data": {
            "text/plain": [
              "{'emp1': {'name': 'Jhony', 'salary': 7500},\n",
              " 'emp2': {'name': 'Ravi', 'salary': 8000},\n",
              " 'emp3': {'name': 'Charan', 'salary': 6500}}"
            ]
          },
          "metadata": {},
          "execution_count": 46
        }
      ],
      "source": [
        "sample_dict = {\n",
        "    'emp1': {'name': 'Jhony', 'salary': 7500},\n",
        "    'emp2': {'name': 'Ravi', 'salary': 8000},\n",
        "    'emp3': {'name': 'Charan', 'salary': 6500}\n",
        "}\n",
        "sample_dict"
      ]
    },
    {
      "cell_type": "code",
      "execution_count": 47,
      "metadata": {
        "id": "ZmO_Sf8YAEIH",
        "outputId": "8c501b1b-6402-4349-fcda-14bc12cfb497",
        "colab": {
          "base_uri": "https://localhost:8080/"
        }
      },
      "outputs": [
        {
          "output_type": "execute_result",
          "data": {
            "text/plain": [
              "{'emp1': {'name': 'Jhony', 'salary': 7500},\n",
              " 'emp2': {'name': 'Ravi', 'salary': 8000},\n",
              " 'emp3': {'name': 'Charan', 'salary': 8500}}"
            ]
          },
          "metadata": {},
          "execution_count": 47
        }
      ],
      "source": [
        "sample_dict['emp3']['salary'] = 8500\n",
        "\n",
        "sample_dict"
      ]
    },
    {
      "cell_type": "markdown",
      "metadata": {
        "id": "arwDN5toAEIH"
      },
      "source": [
        "**`Question:` Print the value of key ‘history’ from the below dict**"
      ]
    },
    {
      "cell_type": "raw",
      "metadata": {
        "id": "oYvarlHEAEII"
      },
      "source": [
        "sampleDict = {\n",
        "    \"class\": {\n",
        "        \"student\": {\n",
        "            \"name\": \"Mike\",\n",
        "            \"marks\": {\n",
        "                \"physics\": 70,\n",
        "                \"history\": 80\n",
        "            }\n",
        "        }\n",
        "    }\n",
        "}"
      ]
    },
    {
      "cell_type": "code",
      "execution_count": 48,
      "metadata": {
        "id": "glMaGaAeAEII"
      },
      "outputs": [],
      "source": [
        "sampleDict = {\n",
        "    \"class\": {\n",
        "        \"student\": {\n",
        "            \"name\": \"Mike\",\n",
        "            \"marks\": {\n",
        "                \"physics\": 70,\n",
        "                \"history\": 80\n",
        "            }\n",
        "        }\n",
        "    }\n",
        "}"
      ]
    },
    {
      "cell_type": "code",
      "execution_count": 49,
      "metadata": {
        "id": "3GNRmAKzAEII",
        "outputId": "5380b576-6c17-4db3-f659-cfd45b9392c4",
        "colab": {
          "base_uri": "https://localhost:8080/"
        }
      },
      "outputs": [
        {
          "output_type": "execute_result",
          "data": {
            "text/plain": [
              "80"
            ]
          },
          "metadata": {},
          "execution_count": 49
        }
      ],
      "source": [
        "sampleDict['class']['student']['marks']['history']"
      ]
    },
    {
      "cell_type": "markdown",
      "metadata": {
        "id": "PyrH1He7AEII"
      },
      "source": [
        "**`Question:` Rename a key Location to a Area in the following dictionary**"
      ]
    },
    {
      "cell_type": "raw",
      "metadata": {
        "id": "Mas2RpIqAEIJ"
      },
      "source": [
        "{'Gender': 'Male',\n",
        " 'Location': 'Nizampet, Hyderabad',\n",
        " 'Name': 'John',\n",
        " 'Occupation': 'Data Scientist'}"
      ]
    },
    {
      "cell_type": "code",
      "execution_count": 50,
      "metadata": {
        "id": "pGgmz8kLAEIJ"
      },
      "outputs": [],
      "source": [
        "d = {'Gender': 'Male',\n",
        " 'Location': 'Nizampet, Hyderabad',\n",
        " 'Name': 'John',\n",
        " 'Occupation': 'Data Scientist'}"
      ]
    },
    {
      "cell_type": "code",
      "execution_count": 52,
      "metadata": {
        "id": "mPYPh2KfAEIJ",
        "outputId": "074cc952-582d-4392-a345-10cc214da7bc",
        "colab": {
          "base_uri": "https://localhost:8080/"
        }
      },
      "outputs": [
        {
          "output_type": "execute_result",
          "data": {
            "text/plain": [
              "{'Gender': 'Male',\n",
              " 'Name': 'John',\n",
              " 'Occupation': 'Data Scientist',\n",
              " 'Area': 'Nizampet, Hyderabad'}"
            ]
          },
          "metadata": {},
          "execution_count": 52
        }
      ],
      "source": [
        "d['Area'] = d['Location']\n",
        "del d['Location']\n",
        "d"
      ]
    },
    {
      "cell_type": "markdown",
      "metadata": {
        "id": "fOjBIK0mAEIJ"
      },
      "source": [
        "**`Question:` database = {'ram':1234,'raghu':5678,'kanav':1357}**\n",
        "## Tasks :-\n",
        "### 1. if the username and password matches print hello username\n",
        "### 2. if the username and password doesnot match, ask, you want me to add into the database\n",
        "### 3. show the updated database list\n"
      ]
    },
    {
      "cell_type": "code",
      "source": [
        "database = {'ram': '1234',\n",
        "            'raghu': '5678',\n",
        "            'kanav': '1357'}\n",
        "\n",
        "username = input('username: ')\n",
        "password = input('password: ')\n",
        "\n",
        "\n",
        "try:\n",
        "    if database[username] == password:\n",
        "        print(f'Hello {username}')\n",
        "    else:\n",
        "        print('username and password does not match, shall I update the password')\n",
        "        if( 'Y' == input()):\n",
        "            database[username] = password\n",
        "        print(database) \n",
        "\n",
        "except KeyError:\n",
        "    print(f'{username} does not exist')"
      ],
      "metadata": {
        "id": "BePbnCPFRGFT",
        "outputId": "fe8218f6-4d67-463f-c8c3-177d1c978422",
        "colab": {
          "base_uri": "https://localhost:8080/"
        }
      },
      "execution_count": 57,
      "outputs": [
        {
          "output_type": "stream",
          "name": "stdout",
          "text": [
            "username: ram\n",
            "password: 1234\n",
            "Hello ram\n"
          ]
        }
      ]
    },
    {
      "cell_type": "markdown",
      "metadata": {
        "id": "4ghvgC8jAEIK"
      },
      "source": [
        "# [Innomatics Research Labs](https:/innomatics.in/)\n",
        "[www.innomatics.in](https:/innomatics.in/)"
      ]
    },
    {
      "cell_type": "code",
      "execution_count": null,
      "metadata": {
        "id": "ZnkU6d8aAEIK"
      },
      "outputs": [],
      "source": []
    }
  ],
  "metadata": {
    "kernelspec": {
      "display_name": "Python 3",
      "language": "python",
      "name": "python3"
    },
    "language_info": {
      "codemirror_mode": {
        "name": "ipython",
        "version": 3
      },
      "file_extension": ".py",
      "mimetype": "text/x-python",
      "name": "python",
      "nbconvert_exporter": "python",
      "pygments_lexer": "ipython3",
      "version": "3.8.5"
    },
    "colab": {
      "provenance": []
    }
  },
  "nbformat": 4,
  "nbformat_minor": 0
}