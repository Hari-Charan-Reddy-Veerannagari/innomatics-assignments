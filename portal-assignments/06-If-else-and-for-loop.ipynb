{
  "cells": [
    {
      "cell_type": "markdown",
      "metadata": {
        "id": "nWnyK0bdYb9O"
      },
      "source": [
        "# IF , ELSE.... FOR LOOP"
      ]
    },
    {
      "cell_type": "code",
      "source": [
        "import time\n",
        "from datetime import date"
      ],
      "metadata": {
        "id": "sWSPy5yIZVOm"
      },
      "execution_count": null,
      "outputs": []
    },
    {
      "cell_type": "markdown",
      "metadata": {
        "id": "HR4aVdWGYb9V"
      },
      "source": [
        "> print this is hour in current minute is odd"
      ]
    },
    {
      "cell_type": "code",
      "execution_count": null,
      "metadata": {
        "id": "N8MHyCVZYb9W",
        "outputId": "40925011-2b37-4765-9379-809f16644bbc",
        "colab": {
          "base_uri": "https://localhost:8080/"
        }
      },
      "outputs": [
        {
          "output_type": "stream",
          "name": "stdout",
          "text": [
            "minute: 53\n",
            "current min is odd\n"
          ]
        }
      ],
      "source": [
        "min = time.localtime().tm_min\n",
        "\n",
        "print(f'minute: {min}')\n",
        "\n",
        "if min%2 != 0:\n",
        "    print('current min is odd')"
      ]
    },
    {
      "cell_type": "markdown",
      "metadata": {
        "id": "Osl6txE6Yb9a"
      },
      "source": [
        "> if today is satarday then print 'Party !!!' or if sunday print take rest other wise print work , work, work"
      ]
    },
    {
      "cell_type": "code",
      "execution_count": null,
      "metadata": {
        "id": "dlRl5bhUYb9b",
        "outputId": "a5c2e41c-7515-49d8-c139-806385d184c4",
        "colab": {
          "base_uri": "https://localhost:8080/"
        }
      },
      "outputs": [
        {
          "output_type": "stream",
          "name": "stdout",
          "text": [
            "work, work, work\n"
          ]
        }
      ],
      "source": [
        "weekday = date.today().weekday()\n",
        "\n",
        "if (weekday == 6 ):\n",
        "    print('take rest')\n",
        "elif weekday == 5:\n",
        "    print('Party!!!')\n",
        "else:\n",
        "    print('work, work, work')"
      ]
    },
    {
      "cell_type": "markdown",
      "metadata": {
        "id": "ztaHR9_cYb9c"
      },
      "source": [
        "> Write a program which will find all such numbers which are divisible by 7 but are not a multiple of 5, between 2000 and 3200 (both included). The numbers obtained should be printed in a comma-separated sequence on a single line."
      ]
    },
    {
      "cell_type": "code",
      "execution_count": null,
      "metadata": {
        "id": "r2_B0sy4Yb9d",
        "outputId": "18928e8d-d859-43a2-a88f-d5205180b59c",
        "colab": {
          "base_uri": "https://localhost:8080/"
        }
      },
      "outputs": [
        {
          "output_type": "stream",
          "name": "stdout",
          "text": [
            "2002,2009,2016,2023,2037,2044,2051,2058,2072,2079,2086,2093,2107,2114,2121,2128,2142,2149,2156,2163,2177,2184,2191,2198,2212,2219,2226,2233,2247,2254,2261,2268,2282,2289,2296,2303,2317,2324,2331,2338,2352,2359,2366,2373,2387,2394,2401,2408,2422,2429,2436,2443,2457,2464,2471,2478,2492,2499,2506,2513,2527,2534,2541,2548,2562,2569,2576,2583,2597,2604,2611,2618,2632,2639,2646,2653,2667,2674,2681,2688,2702,2709,2716,2723,2737,2744,2751,2758,2772,2779,2786,2793,2807,2814,2821,2828,2842,2849,2856,2863,2877,2884,2891,2898,2912,2919,2926,2933,2947,2954,2961,2968,2982,2989,2996,3003,3017,3024,3031,3038,3052,3059,3066,3073,3087,3094,3101,3108,3122,3129,3136,3143,3157,3164,3171,3178,3192,3199,"
          ]
        }
      ],
      "source": [
        "for i in range(2000, 3201):\n",
        "    if i%7==0 and i%5!=0:\n",
        "        print(i, end = \",\")"
      ]
    },
    {
      "cell_type": "code",
      "execution_count": null,
      "metadata": {
        "id": "nph1IN6HYb9e",
        "outputId": "a39403c5-00f3-49c8-8e24-a7a4af56bcb3"
      },
      "outputs": [
        {
          "name": "stdout",
          "output_type": "stream",
          "text": [
            "2002,2009,2016,2023,2037,2044,2051,2058,2072,2079,2086,2093,2107,2114,2121,2128,2142,2149,2156,2163,2177,2184,2191,2198,2212,2219,2226,2233,2247,2254,2261,2268,2282,2289,2296,2303,2317,2324,2331,2338,2352,2359,2366,2373,2387,2394,2401,2408,2422,2429,2436,2443,2457,2464,2471,2478,2492,2499,2506,2513,2527,2534,2541,2548,2562,2569,2576,2583,2597,2604,2611,2618,2632,2639,2646,2653,2667,2674,2681,2688,2702,2709,2716,2723,2737,2744,2751,2758,2772,2779,2786,2793,2807,2814,2821,2828,2842,2849,2856,2863,2877,2884,2891,2898,2912,2919,2926,2933,2947,2954,2961,2968,2982,2989,2996,3003,3017,3024,3031,3038,3052,3059,3066,3073,3087,3094,3101,3108,3122,3129,3136,3143,3157,3164,3171,3178,3192,3199\n"
          ]
        }
      ],
      "source": [
        "#CODE HERE"
      ]
    },
    {
      "cell_type": "markdown",
      "metadata": {
        "id": "e61G37wpYb9f"
      },
      "source": [
        "> Write a program which can compute the factorial of a given numbers.\n",
        "The results should be printed in a comma-separated sequence on a single line.\n",
        "Suppose the following input is supplied to the program:\n",
        "8\n",
        "Then, the output should be:\n",
        "40320"
      ]
    },
    {
      "cell_type": "code",
      "execution_count": null,
      "metadata": {
        "id": "vuBcIKVeYb9h",
        "outputId": "7c3afec5-05d3-4007-d305-35317f3a9de5",
        "colab": {
          "base_uri": "https://localhost:8080/"
        }
      },
      "outputs": [
        {
          "output_type": "stream",
          "name": "stdout",
          "text": [
            "40320\n"
          ]
        }
      ],
      "source": [
        "\n",
        "result = 1\n",
        "for i in range(1,9):\n",
        "    result = result * i\n",
        "\n",
        "print(result)"
      ]
    },
    {
      "cell_type": "markdown",
      "metadata": {
        "id": "vRhbY3sCYb9j"
      },
      "source": [
        "> With a given integral number n, write a program to generate a dictionary that contains (i, i*i) such that is an integral number between 1 and n (both included). and then the program should print the dictionary.\n",
        "Suppose the following input is supplied to the program:\n",
        "8\n",
        "Then, the output should be:\n",
        "{1: 1, 2: 4, 3: 9, 4: 16, 5: 25, 6: 36, 7: 49, 8: 64}\n",
        "\n",
        "*Hint* : use dict()"
      ]
    },
    {
      "cell_type": "code",
      "execution_count": null,
      "metadata": {
        "id": "lHikVIDEYb9k",
        "outputId": "67eceb32-85f1-4457-821a-8f795bdbcbb3",
        "colab": {
          "base_uri": "https://localhost:8080/"
        }
      },
      "outputs": [
        {
          "name": "stdout",
          "output_type": "stream",
          "text": [
            "Enter the value: 8\n"
          ]
        },
        {
          "output_type": "execute_result",
          "data": {
            "text/plain": [
              "{1: 1, 2: 4, 3: 9, 4: 16, 5: 25, 6: 36, 7: 49, 8: 64}"
            ]
          },
          "metadata": {},
          "execution_count": 3
        }
      ],
      "source": [
        "d = dict()\n",
        "\n",
        "for i in range(1,int(input('Enter the value: '))+1):\n",
        "    d[i] = i*i\n",
        "\n",
        "d"
      ]
    },
    {
      "cell_type": "markdown",
      "metadata": {
        "id": "sWW07-3oYb9l"
      },
      "source": [
        "> create user defined fuction for \n",
        "- addition \"add\"\n",
        "- subtraction \"sub\"\n",
        "- multiplication \"mul\"\n",
        "- division \"div\"\n",
        "- power \"pow\""
      ]
    },
    {
      "cell_type": "code",
      "execution_count": null,
      "metadata": {
        "id": "KS_AgN83Yb9m",
        "outputId": "4ee3b8f2-2b39-48ba-c1c8-a4135c3a194f",
        "colab": {
          "base_uri": "https://localhost:8080/"
        }
      },
      "outputs": [
        {
          "output_type": "stream",
          "name": "stdout",
          "text": [
            "Please enter the value :8\n",
            "Please enter the value :6\n",
            "Enere the keyword {add, sub, mul, div, pow}: pow\n",
            "pow of 8 and 6 is : 262144\n"
          ]
        }
      ],
      "source": [
        "def add(a, b):\n",
        "    return a+b\n",
        "\n",
        "def sub(a, b):\n",
        "    return a-b\n",
        "\n",
        "def mul(a, b):\n",
        "    return a*b\n",
        "\n",
        "def div(a, b):\n",
        "    return a/b\n",
        "\n",
        "def pow(a, b):\n",
        "    return a**b\n",
        "\n",
        "a = int(input('Please enter the value :'))\n",
        "b = int(input('Please enter the value :'))\n",
        "\n",
        "operation = input('Enere the keyword {add, sub, mul, div, pow}: ')\n",
        "\n",
        "if (operation == 'add'):\n",
        "    result = (add(a, b))\n",
        "elif(operation == 'sub'):\n",
        "    result = (sub(a, b))\n",
        "elif(operation == 'mul'):\n",
        "    result = (mul(a, b))\n",
        "elif(operation == 'div'):\n",
        "    result = (div(a, b))\n",
        "elif(operation == 'pow'):\n",
        "    result = (pow(a, b))\n",
        "\n",
        "print(f'{operation} of {a} and {b} is : {result}')    \n"
      ]
    },
    {
      "cell_type": "markdown",
      "metadata": {
        "id": "II46duySYb9n"
      },
      "source": [
        "### Write a Python program that accepts a string and calculate the number of digits and letters.\n",
        "- Input\n",
        "\n",
        "    - Hello321Bye360\n",
        "- Output\n",
        "\n",
        "    - Digit - 6\n",
        "\n",
        "    - Letter - 8"
      ]
    },
    {
      "cell_type": "code",
      "execution_count": null,
      "metadata": {
        "id": "_nCQBZPlYb9n",
        "outputId": "e6e60364-d2ad-434c-abae-61d5f2153831",
        "colab": {
          "base_uri": "https://localhost:8080/"
        }
      },
      "outputs": [
        {
          "output_type": "stream",
          "name": "stdout",
          "text": [
            "ENter the text: Hello321Bye360\n",
            "Digit - 6\n",
            "Letter - 8\n"
          ]
        }
      ],
      "source": [
        "# CODE HERE\n",
        "word = input(\"ENter the text: \")\n",
        "\n",
        "digit = 0\n",
        "letter = 0\n",
        "for i in word:\n",
        "    if i.isnumeric():\n",
        "        digit = digit + 1\n",
        "    else:\n",
        "        letter = letter + 1\n",
        "\n",
        "print(f'Digit - {digit}')\n",
        "print(f'Letter - {letter}')"
      ]
    },
    {
      "cell_type": "markdown",
      "metadata": {
        "id": "vAccw2bsYb9o"
      },
      "source": [
        "### With a given tuple (1,2,3,4,5,6,7,8,9,10), write a program to print the first half values in one line and the last half values in one line."
      ]
    },
    {
      "cell_type": "code",
      "execution_count": 4,
      "metadata": {
        "id": "J88UussKYb9o",
        "outputId": "6feba455-8dc6-493e-8f54-cd4936fcedea",
        "colab": {
          "base_uri": "https://localhost:8080/"
        }
      },
      "outputs": [
        {
          "output_type": "stream",
          "name": "stdout",
          "text": [
            "1 2 3 4 5 \n",
            "6 7 8 9 10 "
          ]
        }
      ],
      "source": [
        "# METHOD - 1\n",
        "tup  = (1, 2, 3, 4, 5, 6, 7, 8, 9, 10)\n",
        "\n",
        "for i in tup[:len(tup)//2]:\n",
        "    print(i, end = ' ')\n",
        "print()\n",
        "for i in tup[len(tup)//2:]:\n",
        "    print(i, end = ' ')"
      ]
    },
    {
      "cell_type": "code",
      "execution_count": 6,
      "metadata": {
        "id": "tGSLlFEtYb9p",
        "outputId": "d39eae2b-62b4-4ec9-8a34-285edc5ceb35",
        "colab": {
          "base_uri": "https://localhost:8080/"
        }
      },
      "outputs": [
        {
          "output_type": "execute_result",
          "data": {
            "text/plain": [
              "((1, 2, 3, 4, 5), (6, 7, 8, 9, 10))"
            ]
          },
          "metadata": {},
          "execution_count": 6
        }
      ],
      "source": [
        "# METHOD - 2\n",
        "tup[:len(tup)//2], tup[len(tup)//2:]"
      ]
    },
    {
      "cell_type": "code",
      "execution_count": 7,
      "metadata": {
        "id": "aE79RRSCYb9p",
        "outputId": "0f6795fe-7638-47c5-acd6-271c816ee967",
        "colab": {
          "base_uri": "https://localhost:8080/"
        }
      },
      "outputs": [
        {
          "output_type": "stream",
          "name": "stdout",
          "text": [
            "[1, 2, 3, 4, 5]\n",
            "[6, 7, 8, 9, 10]\n"
          ]
        }
      ],
      "source": [
        "# METHOD - 3\n",
        "print(list(tup[:len(tup)//2]))\n",
        "print(list(tup[len(tup)//2:]))"
      ]
    },
    {
      "cell_type": "markdown",
      "metadata": {
        "id": "0SKsYJ27Yb9q"
      },
      "source": [
        "### Write a program to generate and print another tuple whose values are even numbers in the given tuple (1,2,3,4,5,6,7,8,9,10)"
      ]
    },
    {
      "cell_type": "code",
      "execution_count": 8,
      "metadata": {
        "id": "VKxsM_ClYb9r",
        "outputId": "1b6b1768-ab52-4c44-c4d4-fae2c9fe0dd2",
        "colab": {
          "base_uri": "https://localhost:8080/"
        }
      },
      "outputs": [
        {
          "output_type": "execute_result",
          "data": {
            "text/plain": [
              "(2, 4, 6, 8, 10)"
            ]
          },
          "metadata": {},
          "execution_count": 8
        }
      ],
      "source": [
        "tuple(filter(lambda x: x%2 == 0, tup))"
      ]
    },
    {
      "cell_type": "markdown",
      "metadata": {
        "id": "MteRtbLGYb9s"
      },
      "source": [
        "### Write a program which accepts a string as input to print \"Yes\" if the string is \"yes\" or \"YES\" or \"Yes\", otherwise print \"No\""
      ]
    },
    {
      "cell_type": "code",
      "execution_count": 9,
      "metadata": {
        "id": "s55IsTmfYb9s",
        "outputId": "8720aef3-61ba-473d-d5b4-3d4fc2786e0a",
        "colab": {
          "base_uri": "https://localhost:8080/"
        }
      },
      "outputs": [
        {
          "output_type": "stream",
          "name": "stdout",
          "text": [
            "Please type something. --> yes\n",
            "Yes\n"
          ]
        }
      ],
      "source": [
        "text = input(\"Please type something. --> \")\n",
        "\n",
        "if(text.lower() == 'yes'):\n",
        "    print('Yes')\n",
        "else:\n",
        "    print('No')\n"
      ]
    },
    {
      "cell_type": "markdown",
      "metadata": {
        "id": "l-XFh4kMYb9t"
      },
      "source": [
        "### Please write a program to generate a list with 5 random numbers between 100 and 200 inclusive."
      ]
    },
    {
      "cell_type": "code",
      "execution_count": 22,
      "metadata": {
        "id": "jLi1LGagYb9t",
        "outputId": "7dd354cb-3997-4257-f16f-aa153be57221",
        "colab": {
          "base_uri": "https://localhost:8080/"
        }
      },
      "outputs": [
        {
          "output_type": "execute_result",
          "data": {
            "text/plain": [
              "[162, 194, 119, 171, 106]"
            ]
          },
          "metadata": {},
          "execution_count": 22
        }
      ],
      "source": [
        "import random\n",
        "\n",
        "rand_list = list()\n",
        "\n",
        "for i in range(5):\n",
        "    rand_list.append(random.randrange(100,201))\n",
        "\n",
        "rand_list"
      ]
    },
    {
      "cell_type": "markdown",
      "metadata": {
        "id": "bB-g7llEYb9u"
      },
      "source": [
        "### Please generate a random float where the value is between 5 and 95 using Python module."
      ]
    },
    {
      "cell_type": "code",
      "execution_count": 32,
      "metadata": {
        "id": "tnyJNDiBYb9u",
        "outputId": "58713ff2-c4db-452e-a282-f4b835fafc49",
        "colab": {
          "base_uri": "https://localhost:8080/"
        }
      },
      "outputs": [
        {
          "output_type": "execute_result",
          "data": {
            "text/plain": [
              "6.627573937587904"
            ]
          },
          "metadata": {},
          "execution_count": 32
        }
      ],
      "source": [
        "import random\n",
        "\n",
        "rand = random.random() * 10\n",
        "\n",
        "while rand <5 or rand>95:\n",
        "    rand = random.random() * 10\n",
        "\n",
        "rand    "
      ]
    },
    {
      "cell_type": "markdown",
      "metadata": {
        "id": "eV6CCvI0Yb9u"
      },
      "source": [
        "### [1,1,1,1,3,3,4,4,4,5,6,7,8,8,8]\n",
        "#### 1. from the above list print the uniques values\n",
        "#### 2. count how many times each number exist\n",
        "#### 3. Print the number which is occured more number of times"
      ]
    },
    {
      "cell_type": "code",
      "execution_count": 34,
      "metadata": {
        "id": "PkNedZmXYb9v",
        "outputId": "f037eef8-0f97-4ddb-d04b-09b8ce06c13b",
        "colab": {
          "base_uri": "https://localhost:8080/"
        }
      },
      "outputs": [
        {
          "output_type": "execute_result",
          "data": {
            "text/plain": [
              "{1, 3, 4, 5, 6, 7, 8}"
            ]
          },
          "metadata": {},
          "execution_count": 34
        }
      ],
      "source": [
        "lst = [1,1,1,1,3,3,4,4,4,5,6,7,8,8,8]\n",
        "\n",
        "\n",
        "unique_values = set(lst)\n",
        "unique_values"
      ]
    },
    {
      "cell_type": "code",
      "execution_count": 36,
      "metadata": {
        "id": "INGO02DrYb9v",
        "outputId": "6087ab01-ddd8-4049-c483-4abbff3b6df1",
        "colab": {
          "base_uri": "https://localhost:8080/"
        }
      },
      "outputs": [
        {
          "output_type": "execute_result",
          "data": {
            "text/plain": [
              "{1: 4, 3: 2, 4: 3, 5: 1, 6: 1, 7: 1, 8: 3}"
            ]
          },
          "metadata": {},
          "execution_count": 36
        }
      ],
      "source": [
        "counts = dict()\n",
        "\n",
        "for i in unique_values:\n",
        "    counts[i] = lst.count(i)\n",
        "\n",
        "counts"
      ]
    },
    {
      "cell_type": "code",
      "execution_count": 41,
      "metadata": {
        "id": "qPrZdO9PYb9v",
        "outputId": "b29cc458-85c1-4223-a07c-7473204caede",
        "colab": {
          "base_uri": "https://localhost:8080/"
        }
      },
      "outputs": [
        {
          "output_type": "execute_result",
          "data": {
            "text/plain": [
              "1"
            ]
          },
          "metadata": {},
          "execution_count": 41
        }
      ],
      "source": [
        "\n",
        "\n",
        "sorted_count = sorted(counts.items(), key = lambda x: x[1], reverse = True)\n",
        "sorted_count[0][0]"
      ]
    },
    {
      "cell_type": "markdown",
      "metadata": {
        "id": "7j8V_x3_Yb9v"
      },
      "source": [
        "# [Innomatics Research Labs](https:/innomatics.in/)\n",
        "[www.innomatics.in](https:/innomatics.in/)"
      ]
    },
    {
      "cell_type": "code",
      "execution_count": null,
      "metadata": {
        "id": "X-RavKDvYb9w"
      },
      "outputs": [],
      "source": []
    }
  ],
  "metadata": {
    "kernelspec": {
      "display_name": "Python 3",
      "language": "python",
      "name": "python3"
    },
    "language_info": {
      "codemirror_mode": {
        "name": "ipython",
        "version": 3
      },
      "file_extension": ".py",
      "mimetype": "text/x-python",
      "name": "python",
      "nbconvert_exporter": "python",
      "pygments_lexer": "ipython3",
      "version": "3.8.5"
    },
    "colab": {
      "provenance": []
    }
  },
  "nbformat": 4,
  "nbformat_minor": 0
}