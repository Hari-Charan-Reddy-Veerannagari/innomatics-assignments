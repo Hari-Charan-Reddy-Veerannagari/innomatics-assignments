{
  "cells": [
    {
      "cell_type": "markdown",
      "metadata": {
        "id": "ulWPjwCr5CTn"
      },
      "source": [
        "# Functions and Methods Homework \n",
        "\n",
        "Complete the following questions:\n",
        "____\n",
        "**Write a function that computes the volume of a sphere given its radius.**"
      ]
    },
    {
      "cell_type": "markdown",
      "metadata": {
        "id": "h7FOxpgS5CTr"
      },
      "source": [
        "volume = 4/3 pi $r ^3$"
      ]
    },
    {
      "cell_type": "code",
      "execution_count": 1,
      "metadata": {
        "id": "zWF2MYhR5CTt"
      },
      "outputs": [],
      "source": [
        "def vol(rad):\n",
        "    return 4 * 3.14 * (rad**3)/3"
      ]
    },
    {
      "cell_type": "markdown",
      "metadata": {
        "id": "HMo_Rw5a5CTy"
      },
      "source": [
        "___\n",
        "**Write a function that checks whether a number is in a given range (Inclusive of high and low)**"
      ]
    },
    {
      "cell_type": "code",
      "execution_count": 5,
      "metadata": {
        "id": "n0yqPe8E5CT0"
      },
      "outputs": [],
      "source": [
        "def ran_check(num,low,high):\n",
        "    if num >=low and num <= high:\n",
        "        print('yes')\n",
        "    else:\n",
        "        print('no')"
      ]
    },
    {
      "cell_type": "markdown",
      "metadata": {
        "id": "iwjtPA8c5CT7"
      },
      "source": [
        "If you only wanted to return a boolean:"
      ]
    },
    {
      "cell_type": "code",
      "execution_count": 3,
      "metadata": {
        "id": "MpXji4ez5CT9"
      },
      "outputs": [],
      "source": [
        "def ran_bool(num,low,high):\n",
        "    return num >=low and num <= high"
      ]
    },
    {
      "cell_type": "code",
      "execution_count": 4,
      "metadata": {
        "colab": {
          "base_uri": "https://localhost:8080/"
        },
        "id": "0V5Z-P4x5CUB",
        "outputId": "3ef8ae7c-94b1-4722-ebcb-333fac8c1234"
      },
      "outputs": [
        {
          "output_type": "execute_result",
          "data": {
            "text/plain": [
              "True"
            ]
          },
          "metadata": {},
          "execution_count": 4
        }
      ],
      "source": [
        "ran_bool(3,1,10)"
      ]
    },
    {
      "cell_type": "markdown",
      "metadata": {
        "id": "vqDY4M-45CUJ"
      },
      "source": [
        "____\n",
        "**Write a Python function that accepts a string and calculate the number of upper case letters and lower case letters.**\n",
        "\n",
        "    Sample String : 'Hello Mr. Rogers, how are you this fine Tuesday?'\n",
        "    Expected Output : \n",
        "    No. of Upper case characters : 4\n",
        "    No. of Lower case Characters : 33\n",
        "\n",
        "If you feel ambitious, explore the Collections module to solve this problem!"
      ]
    },
    {
      "cell_type": "code",
      "execution_count": 7,
      "metadata": {
        "id": "zK0dlL0J5CUK"
      },
      "outputs": [],
      "source": [
        "def up_low(s):\n",
        "    upper_count = 0\n",
        "    lower_count = 0\n",
        "    for i in s:\n",
        "        if i.isupper():\n",
        "            upper_count = upper_count + 1\n",
        "        elif i.islower():\n",
        "            lower_count = lower_count + 1\n",
        "\n",
        "    print(f'No. of Upper case characters : {upper_count}')\n",
        "    print(f'No. of Lower case characters : {lower_count}')"
      ]
    },
    {
      "cell_type": "code",
      "source": [
        "up_low('Hello Mr. Rogers, how are you this fine Tuesday?')"
      ],
      "metadata": {
        "colab": {
          "base_uri": "https://localhost:8080/"
        },
        "id": "kYQRt9cl5k18",
        "outputId": "be49f503-262c-4bd8-bbd2-dd245dffa79e"
      },
      "execution_count": 8,
      "outputs": [
        {
          "output_type": "stream",
          "name": "stdout",
          "text": [
            "No. of Upper case characters : 4\n",
            "No. of Lower case characters : 33\n"
          ]
        }
      ]
    },
    {
      "cell_type": "markdown",
      "metadata": {
        "id": "KM0XQc4W5CUP"
      },
      "source": [
        "____\n",
        "**Write a Python function that takes a list and returns a new list with unique elements of the first list.**\n",
        "\n",
        "    Sample List : [1,1,1,1,2,2,3,3,3,3,4,5]\n",
        "    Unique List : [1, 2, 3, 4, 5]"
      ]
    },
    {
      "cell_type": "code",
      "execution_count": 9,
      "metadata": {
        "id": "CUat5ZSr5CUR"
      },
      "outputs": [],
      "source": [
        "def unique_list(l):\n",
        "    return list(set(l))"
      ]
    },
    {
      "cell_type": "code",
      "execution_count": 10,
      "metadata": {
        "colab": {
          "base_uri": "https://localhost:8080/"
        },
        "id": "tutsZ1Tb5CUV",
        "outputId": "80724b14-076f-4974-a539-99019d3951a9"
      },
      "outputs": [
        {
          "output_type": "execute_result",
          "data": {
            "text/plain": [
              "[1, 2, 3, 4, 5]"
            ]
          },
          "metadata": {},
          "execution_count": 10
        }
      ],
      "source": [
        "unique_list([1,1,1,1,2,2,3,3,3,3,4,5])"
      ]
    },
    {
      "cell_type": "markdown",
      "metadata": {
        "id": "ITK_schK5CUb"
      },
      "source": [
        "____\n",
        "**Write a Python function to multiply all the numbers in a list.**\n",
        "\n",
        "    Sample List : [1, 2, 3, -4]\n",
        "    Expected Output : -24"
      ]
    },
    {
      "cell_type": "code",
      "execution_count": 11,
      "metadata": {
        "id": "8f0Y4zBT5CUd"
      },
      "outputs": [],
      "source": [
        "def multiply(numbers):  \n",
        "    mul = 1;\n",
        "    for i in numbers:\n",
        "        mul = mul * i\n",
        "    return mul"
      ]
    },
    {
      "cell_type": "code",
      "execution_count": 12,
      "metadata": {
        "colab": {
          "base_uri": "https://localhost:8080/"
        },
        "id": "nk_bByrm5CUi",
        "outputId": "8d548774-efd6-449a-d80b-e6da8b86cf74"
      },
      "outputs": [
        {
          "output_type": "execute_result",
          "data": {
            "text/plain": [
              "-24"
            ]
          },
          "metadata": {},
          "execution_count": 12
        }
      ],
      "source": [
        "multiply([1,2,3,-4])"
      ]
    },
    {
      "cell_type": "markdown",
      "metadata": {
        "id": "5lrg6QgD5CUm"
      },
      "source": [
        "____\n",
        "**Write a Python function that checks whether a passed string is palindrome or not.**\n",
        "\n",
        "Note: A palindrome is word, phrase, or sequence that reads the same backward as forward, e.g., madam or nurses run."
      ]
    },
    {
      "cell_type": "code",
      "execution_count": 17,
      "metadata": {
        "id": "aQDoX-6Y5CUn"
      },
      "outputs": [],
      "source": [
        "def palindrome(s):\n",
        "    return s == s[::-1]"
      ]
    },
    {
      "cell_type": "code",
      "execution_count": 18,
      "metadata": {
        "colab": {
          "base_uri": "https://localhost:8080/"
        },
        "id": "Jc6_b7hQ5CUy",
        "outputId": "45e66ba4-c7d4-4842-8d62-2d1b28040b2f"
      },
      "outputs": [
        {
          "output_type": "execute_result",
          "data": {
            "text/plain": [
              "True"
            ]
          },
          "metadata": {},
          "execution_count": 18
        }
      ],
      "source": [
        "palindrome('helleh')"
      ]
    },
    {
      "cell_type": "markdown",
      "metadata": {
        "id": "6Vo9OT6V36KU"
      },
      "source": [
        "## Given a number N.Find Sum of 1 to N Using Recursion"
      ]
    },
    {
      "cell_type": "code",
      "execution_count": 19,
      "metadata": {
        "colab": {
          "base_uri": "https://localhost:8080/"
        },
        "id": "L5olm9dL36KU",
        "outputId": "51f72377-5e14-4fa6-8182-2c7cf1853121"
      },
      "outputs": [
        {
          "output_type": "stream",
          "name": "stdout",
          "text": [
            "10\n",
            "55\n"
          ]
        }
      ],
      "source": [
        "# CODE HERE\n",
        "def summation(n):\n",
        "    sum = 0\n",
        "    for i in range(1, n+1):\n",
        "        sum = sum + i\n",
        "    return sum\n",
        "\n",
        "\n",
        "n = int(input())\n",
        "sum = summation(n)\n",
        "print(sum)"
      ]
    },
    {
      "cell_type": "markdown",
      "metadata": {
        "id": "ZMr7qMv936KU"
      },
      "source": [
        "### Define a function which can generate and print a list where the values are square of numbers between 1 and 20"
      ]
    },
    {
      "cell_type": "code",
      "execution_count": 20,
      "metadata": {
        "colab": {
          "base_uri": "https://localhost:8080/"
        },
        "id": "Mg6PtF6N36KV",
        "outputId": "1100bae2-a719-4a6c-ad4d-4f3aae2aa303"
      },
      "outputs": [
        {
          "output_type": "execute_result",
          "data": {
            "text/plain": [
              "[1,\n",
              " 4,\n",
              " 9,\n",
              " 16,\n",
              " 25,\n",
              " 36,\n",
              " 49,\n",
              " 64,\n",
              " 81,\n",
              " 100,\n",
              " 121,\n",
              " 144,\n",
              " 169,\n",
              " 196,\n",
              " 225,\n",
              " 256,\n",
              " 289,\n",
              " 324,\n",
              " 361,\n",
              " 400]"
            ]
          },
          "metadata": {},
          "execution_count": 20
        }
      ],
      "source": [
        "def printList():\n",
        "    return [i*i for i in range(1, 21)]\n",
        "\n",
        "\n",
        "printList()"
      ]
    },
    {
      "cell_type": "markdown",
      "metadata": {
        "id": "aiAQMAWx36KV"
      },
      "source": [
        "### Define a function which can generate a dictionary where the keys are numbers between 1 and 20 (both included) and the values are square of keys. The function should just print the keys only.\n",
        "\n"
      ]
    },
    {
      "cell_type": "code",
      "execution_count": 21,
      "metadata": {
        "colab": {
          "base_uri": "https://localhost:8080/"
        },
        "id": "iJJsMNp736KV",
        "outputId": "befae329-3562-44d5-e245-46680d811a8a"
      },
      "outputs": [
        {
          "output_type": "stream",
          "name": "stdout",
          "text": [
            "dict_keys([1, 2, 3, 4, 5, 6, 7, 8, 9, 10, 11, 12, 13, 14, 15, 16, 17, 18, 19, 20])\n"
          ]
        }
      ],
      "source": [
        "def printDict():\n",
        "    squares = dict()\n",
        "    for i in range(1,21):\n",
        "        squares[i] = i*i\n",
        "\n",
        "    print(squares.keys())\n",
        "\n",
        "\n",
        "printDict()"
      ]
    },
    {
      "cell_type": "markdown",
      "metadata": {
        "id": "1fd9B6yq36KW"
      },
      "source": [
        "### Write a function that count the no of characters of the given input text\n",
        "- input\n",
        "    - innomatics research labs\n",
        "    \n",
        "- output\n",
        "    - innomatics :10\n",
        "    - research : 8\n",
        "    - labs : 4"
      ]
    },
    {
      "cell_type": "code",
      "source": [
        "def print_count(s):\n",
        "    for i in s.split():\n",
        "        print(f'{i} : {len(i)}')"
      ],
      "metadata": {
        "id": "eDp0Kiam7PHf"
      },
      "execution_count": 22,
      "outputs": []
    },
    {
      "cell_type": "code",
      "source": [
        "print_count('innomatics research labs')"
      ],
      "metadata": {
        "colab": {
          "base_uri": "https://localhost:8080/"
        },
        "id": "XvwC1ucA7fEj",
        "outputId": "3309cc52-0404-4792-c0ac-d5a5d80e4975"
      },
      "execution_count": 23,
      "outputs": [
        {
          "output_type": "stream",
          "name": "stdout",
          "text": [
            "innomatics : 10\n",
            "research : 8\n",
            "labs : 4\n"
          ]
        }
      ]
    },
    {
      "cell_type": "markdown",
      "metadata": {
        "id": "gFgfwLpg36KW"
      },
      "source": [
        "### Write a program which can map() to make a list whose elements are square of elements in [1,2,3,4,5,6,7,8,9,10].\n",
        "\n",
        "Using map() function"
      ]
    },
    {
      "cell_type": "code",
      "execution_count": 24,
      "metadata": {
        "colab": {
          "base_uri": "https://localhost:8080/"
        },
        "id": "AKQ-vaTP36KW",
        "outputId": "a5d11c22-724c-4653-8501-5b7d3c275190"
      },
      "outputs": [
        {
          "output_type": "stream",
          "name": "stdout",
          "text": [
            "[1, 4, 9, 16, 25, 36, 49, 64, 81, 100]\n"
          ]
        }
      ],
      "source": [
        "# CODE HERE\n",
        "# No different way of code is written as the requirment is specificly mentioned in problem description\n",
        "\n",
        "li = [1, 2, 3, 4, 5, 6, 7, 8, 9, 10]\n",
        "\n",
        "squaredNumbers = map(lambda x: x*x, li)\n",
        "\n",
        "print(list(squaredNumbers))  # converting the object into list"
      ]
    },
    {
      "cell_type": "markdown",
      "metadata": {
        "id": "wT0zzZWl36KX"
      },
      "source": [
        "### Write a program which can map() and filter() to make a list whose elements are square of even number in [1,2,3,4,5,6,7,8,9,10].\n",
        "##### using filter()"
      ]
    },
    {
      "cell_type": "code",
      "execution_count": 26,
      "metadata": {
        "colab": {
          "base_uri": "https://localhost:8080/"
        },
        "id": "9Qn-EKm436KX",
        "outputId": "3663dc55-8b81-4969-8f99-7b176692d38b"
      },
      "outputs": [
        {
          "output_type": "stream",
          "name": "stdout",
          "text": [
            "[4, 16, 36, 64, 100]\n"
          ]
        }
      ],
      "source": [
        "\n",
        "def even(x):\n",
        "    return filter(lambda a : a%2 == 0, x)\n",
        "\n",
        "\n",
        "def squer(x):\n",
        "    return map(lambda a : a*a, x)\n",
        "\n",
        "\n",
        "li = [1, 2, 3, 4, 5, 6, 7, 8, 9, 10]\n",
        "\n",
        "li = even(li)\n",
        "li = squer(li)\n",
        "\n",
        "print(list(li))"
      ]
    },
    {
      "cell_type": "markdown",
      "metadata": {
        "id": "ve7F6REr36KX"
      },
      "source": [
        "### Write a program which can filter() to make a list whose elements are even number between 1 and 20 (both included)"
      ]
    },
    {
      "cell_type": "code",
      "execution_count": 27,
      "metadata": {
        "colab": {
          "base_uri": "https://localhost:8080/"
        },
        "id": "Vurg_ifv36KY",
        "outputId": "746152dc-d325-4465-d120-67d921143e92"
      },
      "outputs": [
        {
          "output_type": "stream",
          "name": "stdout",
          "text": [
            "[2, 4, 6, 8, 10, 12, 14, 16, 18, 20]\n"
          ]
        }
      ],
      "source": [
        "# CODE HERE\n",
        "def even(x):\n",
        "    return x%2 == 0\n",
        "\n",
        "\n",
        "evenNumbers = filter(even, range(1, 21))\n",
        "print(list(evenNumbers))"
      ]
    },
    {
      "cell_type": "markdown",
      "metadata": {
        "id": "m7lrdgu336KY"
      },
      "source": [
        "### $f(n)=f(n-1)+f(n-2)$ if n>1"
      ]
    },
    {
      "cell_type": "code",
      "execution_count": 33,
      "metadata": {
        "colab": {
          "base_uri": "https://localhost:8080/"
        },
        "id": "bhoyIY3Y36KY",
        "outputId": "44df286f-2808-4da5-fa3d-973032165cb0"
      },
      "outputs": [
        {
          "output_type": "stream",
          "name": "stdout",
          "text": [
            "Enter n value7\n",
            "13\n"
          ]
        }
      ],
      "source": [
        "def f(n):\n",
        "    if n > 1:\n",
        "        return f(n-1) + f(n-2)\n",
        "    elif n == 1:\n",
        "        return 1\n",
        "    else:\n",
        "        return 0\n",
        "\n",
        "\n",
        "n = int(input(\"Enter n value\"))\n",
        "print(f(n))"
      ]
    },
    {
      "cell_type": "code",
      "execution_count": null,
      "metadata": {
        "id": "v9FoAgHM36KZ"
      },
      "outputs": [],
      "source": []
    },
    {
      "cell_type": "markdown",
      "metadata": {
        "id": "GKCWkFCm5CU_"
      },
      "source": [
        "# [Innomatics Research Labs](https:/innomatics.in/)\n",
        "[www.innomatics.in](https:/innomatics.in/)"
      ]
    },
    {
      "cell_type": "code",
      "execution_count": null,
      "metadata": {
        "id": "IJoKu_Me36KZ"
      },
      "outputs": [],
      "source": []
    }
  ],
  "metadata": {
    "colab": {
      "name": "03 - Functions and Methods execrise.ipynb",
      "provenance": []
    },
    "kernelspec": {
      "display_name": "Python 3",
      "language": "python",
      "name": "python3"
    },
    "language_info": {
      "codemirror_mode": {
        "name": "ipython",
        "version": 3
      },
      "file_extension": ".py",
      "mimetype": "text/x-python",
      "name": "python",
      "nbconvert_exporter": "python",
      "pygments_lexer": "ipython3",
      "version": "3.8.8"
    }
  },
  "nbformat": 4,
  "nbformat_minor": 0
}