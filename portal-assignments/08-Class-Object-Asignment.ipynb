{
  "cells": [
    {
      "cell_type": "code",
      "execution_count": null,
      "metadata": {
        "id": "gXQ_OQjp_ajF"
      },
      "outputs": [],
      "source": []
    },
    {
      "cell_type": "markdown",
      "metadata": {
        "id": "UlTyvTnVDRXI"
      },
      "source": [
        "## 1. Create Python class named `Student` and display its type"
      ]
    },
    {
      "cell_type": "code",
      "execution_count": 4,
      "metadata": {
        "id": "WzpRytr7-lGk"
      },
      "outputs": [],
      "source": [
        "class Student:\n",
        "    def __init__(self):\n",
        "        pass"
      ]
    },
    {
      "cell_type": "code",
      "execution_count": 6,
      "metadata": {
        "colab": {
          "base_uri": "https://localhost:8080/"
        },
        "id": "DCcHnvOSDU9N",
        "outputId": "b4d9643d-7e8f-48a7-9105-e08ba174db9f"
      },
      "outputs": [
        {
          "output_type": "execute_result",
          "data": {
            "text/plain": [
              "__main__.Student"
            ]
          },
          "metadata": {},
          "execution_count": 6
        }
      ],
      "source": [
        "type(Student())"
      ]
    },
    {
      "cell_type": "markdown",
      "metadata": {
        "id": "nYjL6Efcx6ad"
      },
      "source": [
        "## 2. How to call a variable and function by creating a simple class\n"
      ]
    },
    {
      "cell_type": "code",
      "execution_count": 10,
      "metadata": {
        "id": "2cVJl1pTyQtS"
      },
      "outputs": [],
      "source": [
        "class Dog:\n",
        "\n",
        "    def __init__(self):\n",
        "        pass\n",
        "\n",
        "    variable1 = 'Variable1'\n",
        "\n",
        "    def fun(self):\n",
        "        print(\"I'm from function This is Variable1\")"
      ]
    },
    {
      "cell_type": "code",
      "source": [
        "dog = Dog()\n",
        "\n",
        "print(f'This is {dog.variable1}')\n",
        "dog.fun()"
      ],
      "metadata": {
        "colab": {
          "base_uri": "https://localhost:8080/"
        },
        "id": "AYNT-cV2_l-f",
        "outputId": "a0899cf1-2ddb-4cad-9de6-07c963e99e5e"
      },
      "execution_count": 11,
      "outputs": [
        {
          "output_type": "stream",
          "name": "stdout",
          "text": [
            "This is Variable1\n",
            "I'm from function This is Variable1\n"
          ]
        }
      ]
    },
    {
      "cell_type": "markdown",
      "metadata": {
        "id": "Qrn6EsJ7putu"
      },
      "source": [
        "## 3. Create a class with one `static variable` and two `instace variables`"
      ]
    },
    {
      "cell_type": "code",
      "execution_count": 14,
      "metadata": {
        "colab": {
          "base_uri": "https://localhost:8080/"
        },
        "id": "D5z1cympyQwS",
        "outputId": "db88c834-e5b7-4bcc-c43c-d05e9b78759c"
      },
      "outputs": [
        {
          "output_type": "stream",
          "name": "stdout",
          "text": [
            "I am Static variable\n",
            "instance_var1\n",
            "instance_var2\n"
          ]
        }
      ],
      "source": [
        "class Demo():\n",
        "    stat_var = 'I am Static variable'\n",
        "\n",
        "    def __init__(self):\n",
        "        self.instance_var_1 = 'instance_var1'\n",
        "        self.instance_var_2 = 'instance_var2'\n",
        "\n",
        "\n",
        "print(Demo.stat_var)\n",
        "demo = Demo()\n",
        "\n",
        "print(demo.instance_var_1)\n",
        "print(demo.instance_var_2)"
      ]
    },
    {
      "cell_type": "markdown",
      "metadata": {
        "id": "m2__2x3B_gub"
      },
      "source": [
        "## 4. Create a `Vehicle` class with max_speed and mileage instance attributes"
      ]
    },
    {
      "cell_type": "code",
      "execution_count": null,
      "metadata": {
        "id": "4M2ggFoC_hqV"
      },
      "outputs": [],
      "source": [
        "# CODE HERE"
      ]
    },
    {
      "cell_type": "code",
      "execution_count": 15,
      "metadata": {
        "id": "uTyOnoPN_qVJ"
      },
      "outputs": [],
      "source": [
        "class Vehicle:\n",
        "    def __init__(self, max_speed, mileage):\n",
        "        self.max_speed = max_speed\n",
        "        self.mileage = mileage"
      ]
    },
    {
      "cell_type": "code",
      "execution_count": 18,
      "metadata": {
        "id": "_Pq79YB0_rF2",
        "colab": {
          "base_uri": "https://localhost:8080/"
        },
        "outputId": "47067942-c23a-40ad-bf4b-63c4bdf1167d"
      },
      "outputs": [
        {
          "output_type": "stream",
          "name": "stdout",
          "text": [
            "100 20\n"
          ]
        }
      ],
      "source": [
        "vehicle = Vehicle(100, 20)\n",
        "\n",
        "print(f'{vehicle.max_speed} {vehicle.mileage}')"
      ]
    },
    {
      "cell_type": "markdown",
      "metadata": {
        "id": "dGGYG_Sm1N4y"
      },
      "source": [
        "## 5. Create a simple class `Person` with constructer and one argument `name`"
      ]
    },
    {
      "cell_type": "code",
      "execution_count": null,
      "metadata": {
        "id": "zkAdBgQP1bNW"
      },
      "outputs": [],
      "source": [
        "# CODE HERE"
      ]
    },
    {
      "cell_type": "code",
      "execution_count": 19,
      "metadata": {
        "colab": {
          "base_uri": "https://localhost:8080/"
        },
        "id": "i5vQQoIu0X_f",
        "outputId": "9ecc8df7-5f8d-4ad9-a3b7-27cd63042afe"
      },
      "outputs": [
        {
          "output_type": "stream",
          "name": "stdout",
          "text": [
            "Hello, my name is Ram\n"
          ]
        }
      ],
      "source": [
        "# A Sample class with init method\n",
        "class Person:\n",
        "   \n",
        "    def __init__(self, name):\n",
        "        self.name = name\n",
        "\n",
        "    def say_hi(self):\n",
        "        print(f'Hello, my name is {self.name}')\n",
        "   \n",
        "p = Person('Ram')\n",
        "p.say_hi()"
      ]
    },
    {
      "cell_type": "code",
      "execution_count": null,
      "metadata": {
        "id": "JgeHHyrp2h1u"
      },
      "outputs": [],
      "source": []
    },
    {
      "cell_type": "markdown",
      "metadata": {
        "id": "T9AQ6X3i2k6l"
      },
      "source": [
        "## 6. Create a class for `Students` information like `name, rollno, marks` and `school name` with static variable.\n",
        "- create a function for displaying student information\n",
        "- create one more function for getting students marks and percentage "
      ]
    },
    {
      "cell_type": "code",
      "execution_count": 30,
      "metadata": {
        "id": "cX4Z5_nx2h-O"
      },
      "outputs": [],
      "source": [
        "class Student:\n",
        "    name = 'abc'\n",
        "    rollno = 1\n",
        "    marks = 399\n",
        "    schoolName = 'DIT'\n",
        "\n",
        "    def __init__(self):\n",
        "        pass\n",
        "\n",
        "    def display(self):\n",
        "        info = dict()\n",
        "        info['name'] = Student.name\n",
        "        info['rno'] = Student.rollno\n",
        "        info['marks'] = Student.marks\n",
        "        print(info)\n",
        "    \n",
        "    \n",
        "    def get_marks(self):\n",
        "        total_marks = 500\n",
        "        print(f'percentage of {Student.marks} out of {total_marks} is : {(Student.marks/total_marks)*100}')"
      ]
    },
    {
      "cell_type": "code",
      "source": [
        "student = Student()\n",
        "\n",
        "student.display()\n",
        "student.get_marks()"
      ],
      "metadata": {
        "colab": {
          "base_uri": "https://localhost:8080/"
        },
        "id": "wWnLWVMkCvkX",
        "outputId": "5749d37b-dac5-416f-86a4-2aa3d2dfdb11"
      },
      "execution_count": 32,
      "outputs": [
        {
          "output_type": "stream",
          "name": "stdout",
          "text": [
            "{'name': 'abc', 'rno': 1, 'marks': 399}\n",
            "percentage of 399 out of 500 is : 79.80000000000001\n"
          ]
        }
      ]
    },
    {
      "cell_type": "markdown",
      "metadata": {
        "id": "x-zGvkOi_9PD"
      },
      "source": [
        "## 7. Create a child class `Bus` that will inherit all of the variables and methods of the `Vehicle` class"
      ]
    },
    {
      "cell_type": "code",
      "execution_count": null,
      "metadata": {
        "id": "5IppTc73__tp"
      },
      "outputs": [],
      "source": [
        "# CODE HERE"
      ]
    },
    {
      "cell_type": "code",
      "execution_count": 38,
      "metadata": {
        "id": "Qf4ZRcg8ADOq"
      },
      "outputs": [],
      "source": [
        "class Vehicle:\n",
        "\n",
        "    def __init__(self, name, speed, mileage):\n",
        "        self.name = name\n",
        "        self.speed = speed\n",
        "        self.mileage = mileage\n",
        "\n",
        "    def __str__(self):\n",
        "        return f'vehicle name: {self.name}, speed: {self.speed}, mileage: {self.mileage}'\n",
        "    \n",
        "\n",
        "class Bus(Vehicle):\n",
        "    pass"
      ]
    },
    {
      "cell_type": "code",
      "source": [
        "bus  = Bus('School bus',120, 22)\n",
        "\n",
        "print(bus)"
      ],
      "metadata": {
        "colab": {
          "base_uri": "https://localhost:8080/"
        },
        "id": "un0cuX6LGXv7",
        "outputId": "f0dfc90b-9332-4ccb-a161-4ab7e2dde40d"
      },
      "execution_count": 39,
      "outputs": [
        {
          "output_type": "stream",
          "name": "stdout",
          "text": [
            "vehicle name: School bus, speed: 120, mileage: 22\n"
          ]
        }
      ]
    },
    {
      "cell_type": "markdown",
      "metadata": {
        "id": "Cex1VHlicvR0"
      },
      "source": [
        "## 8. Create a class `Employee` with two arguments `name and salary`\n",
        "- create a function which displays the employee information\n",
        "- Print total number of employees "
      ]
    },
    {
      "cell_type": "code",
      "execution_count": 42,
      "metadata": {
        "id": "BcTNOVUiAIn7"
      },
      "outputs": [],
      "source": [
        "class Employee:\n",
        "    \n",
        "    count = 0\n",
        "\n",
        "    def __init__(self, name, salary):\n",
        "        self.name = name\n",
        "        self.salary = salary\n",
        "        Employee.count = Employee.count + 1\n",
        "    \n",
        "    @staticmethod\n",
        "    def total_employees():\n",
        "        return Employee.count\n",
        "\n",
        "    def __str__(self):\n",
        "        return f'Name : {self.name}, Salary: {self.salary}'"
      ]
    },
    {
      "cell_type": "code",
      "execution_count": 43,
      "metadata": {
        "id": "BmFF6kFScPGl",
        "colab": {
          "base_uri": "https://localhost:8080/"
        },
        "outputId": "4b974c06-926a-4cb3-d30e-8ca81eca1fe0"
      },
      "outputs": [
        {
          "output_type": "stream",
          "name": "stdout",
          "text": [
            "Name : Zara, Salary: 2000\n",
            "Name : Minni, Salary: 1000\n",
            "Total no. of employees: 2\n"
          ]
        }
      ],
      "source": [
        "print(Employee('Zara', 2000))\n",
        "print(Employee('Minni', 1000))\n",
        "\n",
        "print(f'Total no. of employees: {Employee.total_employees()}')"
      ]
    }
  ],
  "metadata": {
    "colab": {
      "name": "Class_Object_Asignment.ipynb",
      "provenance": []
    },
    "kernelspec": {
      "display_name": "Python 3",
      "language": "python",
      "name": "python3"
    },
    "language_info": {
      "codemirror_mode": {
        "name": "ipython",
        "version": 3
      },
      "file_extension": ".py",
      "mimetype": "text/x-python",
      "name": "python",
      "nbconvert_exporter": "python",
      "pygments_lexer": "ipython3",
      "version": "3.8.8"
    }
  },
  "nbformat": 4,
  "nbformat_minor": 0
}