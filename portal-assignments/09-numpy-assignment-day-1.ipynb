{
  "nbformat": 4,
  "nbformat_minor": 0,
  "metadata": {
    "colab": {
      "name": "09-numpy-assignment-day-1.ipynb",
      "provenance": []
    },
    "kernelspec": {
      "name": "python3",
      "display_name": "Python 3"
    },
    "language_info": {
      "name": "python"
    }
  },
  "cells": [
    {
      "cell_type": "markdown",
      "source": [
        "### NumPy Exercises\n",
        "##### Now that we've learned about NumPy let's test your knowledge. We'll start off with a few simple tasks and then you'll be asked some more complicated questions.\n",
        "##### IMPORTANT NOTE! Make sure you don't run the cells directly above the example output shown, otherwise you will end up writing over the example output!"
      ],
      "metadata": {
        "id": "F6px4MSR51Gu"
      }
    },
    {
      "cell_type": "code",
      "execution_count": 1,
      "metadata": {
        "id": "Qe-tLGBa2sNS"
      },
      "outputs": [],
      "source": [
        "import numpy as np"
      ]
    },
    {
      "cell_type": "markdown",
      "source": [
        "#####1.  Write a NumPy program to create an array of 10 zeros,10 ones, 10 fives."
      ],
      "metadata": {
        "id": "TAAoEMyE6bj6"
      }
    },
    {
      "cell_type": "code",
      "source": [
        "print(np.zeros(shape=(10)))\n",
        "print(np.ones(shape=(10)))\n",
        "print(np.ones(shape=(10)) * 5)"
      ],
      "metadata": {
        "id": "_BxASjIo6B1X",
        "outputId": "046e7b54-a05b-4a7e-94bf-8e90e58e7e5c",
        "colab": {
          "base_uri": "https://localhost:8080/"
        }
      },
      "execution_count": 2,
      "outputs": [
        {
          "output_type": "stream",
          "name": "stdout",
          "text": [
            "[0. 0. 0. 0. 0. 0. 0. 0. 0. 0.]\n",
            "[1. 1. 1. 1. 1. 1. 1. 1. 1. 1.]\n",
            "[5. 5. 5. 5. 5. 5. 5. 5. 5. 5.]\n"
          ]
        }
      ]
    },
    {
      "cell_type": "markdown",
      "source": [
        "#####2.  Write a NumPy program to create an array of the integers from 30 to 70."
      ],
      "metadata": {
        "id": "6gbrDc0_6ja8"
      }
    },
    {
      "cell_type": "code",
      "source": [
        "print(np.arange(30, 71))"
      ],
      "metadata": {
        "id": "Rrdz7C556B4Y",
        "outputId": "6c38756b-20c4-4f98-de70-3e0fb8136edf",
        "colab": {
          "base_uri": "https://localhost:8080/"
        }
      },
      "execution_count": 4,
      "outputs": [
        {
          "output_type": "stream",
          "name": "stdout",
          "text": [
            "[30 31 32 33 34 35 36 37 38 39 40 41 42 43 44 45 46 47 48 49 50 51 52 53\n",
            " 54 55 56 57 58 59 60 61 62 63 64 65 66 67 68 69 70]\n"
          ]
        }
      ]
    },
    {
      "cell_type": "markdown",
      "source": [
        "######3. Write a NumPy program to create an array of all the even integers from 10 to 50."
      ],
      "metadata": {
        "id": "-1Z-hSI66oXd"
      }
    },
    {
      "cell_type": "code",
      "source": [
        "print(np.arange(10, 50, 2))"
      ],
      "metadata": {
        "id": "-TwKGj2o6nBV",
        "outputId": "f56a2924-0c6b-4303-d36c-1408805f817d",
        "colab": {
          "base_uri": "https://localhost:8080/"
        }
      },
      "execution_count": 6,
      "outputs": [
        {
          "output_type": "stream",
          "name": "stdout",
          "text": [
            "[10 12 14 16 18 20 22 24 26 28 30 32 34 36 38 40 42 44 46 48]\n"
          ]
        }
      ]
    },
    {
      "cell_type": "markdown",
      "source": [
        "######4. Write a NumPy program to create a 3x3 identity matrix."
      ],
      "metadata": {
        "id": "av8golKd6z8l"
      }
    },
    {
      "cell_type": "code",
      "source": [
        "print(np.identity(3))"
      ],
      "metadata": {
        "id": "A4oaHF5L6nDB",
        "outputId": "daa8f5ae-9194-4a88-e060-590a6ac95614",
        "colab": {
          "base_uri": "https://localhost:8080/"
        }
      },
      "execution_count": 8,
      "outputs": [
        {
          "output_type": "stream",
          "name": "stdout",
          "text": [
            "[[1. 0. 0.]\n",
            " [0. 1. 0.]\n",
            " [0. 0. 1.]]\n"
          ]
        }
      ]
    },
    {
      "cell_type": "markdown",
      "source": [
        "##### 5. Write a NumPy program to generate a random number between 0 and 1"
      ],
      "metadata": {
        "id": "bmfuxShM-nvi"
      }
    },
    {
      "cell_type": "code",
      "source": [
        "print(np.random.random(1))"
      ],
      "metadata": {
        "id": "ufPWx-Bo6nFv",
        "outputId": "84a750ce-1d12-4a94-a464-f30b50beab72",
        "colab": {
          "base_uri": "https://localhost:8080/"
        }
      },
      "execution_count": 10,
      "outputs": [
        {
          "output_type": "stream",
          "name": "stdout",
          "text": [
            "[0.08278688]\n"
          ]
        }
      ]
    },
    {
      "cell_type": "markdown",
      "source": [
        "###### 6. Write a NumPy program to generate an array of 15 random numbers from a standard normal distribution."
      ],
      "metadata": {
        "id": "hm-lJXi--3px"
      }
    },
    {
      "cell_type": "code",
      "source": [
        "np.random.randn(15)"
      ],
      "metadata": {
        "id": "tFPEvuTr6nMg",
        "outputId": "29f80ac5-a3cf-40a9-9bb2-52c32302b39b",
        "colab": {
          "base_uri": "https://localhost:8080/"
        }
      },
      "execution_count": 11,
      "outputs": [
        {
          "output_type": "execute_result",
          "data": {
            "text/plain": [
              "array([-0.41074113, -0.8856741 ,  0.09110561,  0.41904625,  1.23684442,\n",
              "       -0.62480295,  0.08691984,  0.29946611,  0.72039099,  0.18487761,\n",
              "        1.01675688,  0.22849799,  0.98152031,  2.11129092, -1.60631912])"
            ]
          },
          "metadata": {},
          "execution_count": 11
        }
      ]
    },
    {
      "cell_type": "markdown",
      "source": [
        "###### 7. Write a NumPy program to create a 3X4 array using and iterate over it."
      ],
      "metadata": {
        "id": "UIMv6m1t_G7q"
      }
    },
    {
      "cell_type": "code",
      "source": [
        "array  = np.random.randint(100, size = (3, 4))\n",
        "\n",
        "print(array)\n",
        "\n",
        "for i in array:\n",
        "    for j in i:\n",
        "        print(j, end=' ')"
      ],
      "metadata": {
        "id": "WyYvr-ly-7y5",
        "outputId": "3b441b90-3702-4b9e-ec4c-b1c8551d77af",
        "colab": {
          "base_uri": "https://localhost:8080/"
        }
      },
      "execution_count": 14,
      "outputs": [
        {
          "output_type": "stream",
          "name": "stdout",
          "text": [
            "[[74 57 14 65]\n",
            " [70 18 10  3]\n",
            " [50 97 86 49]]\n",
            "74 57 14 65 70 18 10 3 50 97 86 49 "
          ]
        }
      ]
    },
    {
      "cell_type": "markdown",
      "source": [
        "###### 8. Write a NumPy program to multiply the values ​​of two given vectors."
      ],
      "metadata": {
        "id": "pMshtaUT_fT0"
      }
    },
    {
      "cell_type": "code",
      "source": [
        "vec1 = np.array([1, 8, 3, 5])\n",
        "vec2 = np.array([10, 1, 4, 10])\n",
        "\n",
        "vec1 * vec2"
      ],
      "metadata": {
        "id": "hD8Uk9J0_JxY",
        "outputId": "1af83f6b-1503-4c87-c337-80a26a161e88",
        "colab": {
          "base_uri": "https://localhost:8080/"
        }
      },
      "execution_count": 17,
      "outputs": [
        {
          "output_type": "execute_result",
          "data": {
            "text/plain": [
              "array([10,  8, 12, 50])"
            ]
          },
          "metadata": {},
          "execution_count": 17
        }
      ]
    },
    {
      "cell_type": "markdown",
      "source": [
        "###### 9. Write a NumPy program to reverse an array (first element becomes last)."
      ],
      "metadata": {
        "id": "h7ny_Xci_07Q"
      }
    },
    {
      "cell_type": "code",
      "source": [
        "np.array([12, 13, 14, 15, 16, 17, 18, 19, 20, 21, 22, 23, 24, 25, 26, 27, 28, 29, 30, 31, 32, 33, 34, 35, 36, 37])[::-1]"
      ],
      "metadata": {
        "id": "CQZLCU4Z_J0M",
        "outputId": "37b78806-980f-4ca9-b316-61f4d98228e0",
        "colab": {
          "base_uri": "https://localhost:8080/"
        }
      },
      "execution_count": 19,
      "outputs": [
        {
          "output_type": "execute_result",
          "data": {
            "text/plain": [
              "array([37, 36, 35, 34, 33, 32, 31, 30, 29, 28, 27, 26, 25, 24, 23, 22, 21,\n",
              "       20, 19, 18, 17, 16, 15, 14, 13, 12])"
            ]
          },
          "metadata": {},
          "execution_count": 19
        }
      ]
    },
    {
      "cell_type": "markdown",
      "source": [
        "##### 10. Write a NumPy program to create a 5x5 zero matrix with elements on the main diagonal equal to 1, 2, 3, 4, 5."
      ],
      "metadata": {
        "id": "-y0LYMweAC3M"
      }
    },
    {
      "cell_type": "code",
      "source": [
        "np.arange(1,6) * np.identity(5, dtype= int)"
      ],
      "metadata": {
        "id": "nJnstERf_J5T",
        "outputId": "201e00c8-50c6-47e6-b38f-f10adba13dc5",
        "colab": {
          "base_uri": "https://localhost:8080/"
        }
      },
      "execution_count": 22,
      "outputs": [
        {
          "output_type": "execute_result",
          "data": {
            "text/plain": [
              "array([[1, 0, 0, 0, 0],\n",
              "       [0, 2, 0, 0, 0],\n",
              "       [0, 0, 3, 0, 0],\n",
              "       [0, 0, 0, 4, 0],\n",
              "       [0, 0, 0, 0, 5]])"
            ]
          },
          "metadata": {},
          "execution_count": 22
        }
      ]
    },
    {
      "cell_type": "markdown",
      "source": [
        "###### 11. Write a NumPy program to compute sum of all elements, sum of each column and sum of each row of a given array."
      ],
      "metadata": {
        "id": "h7nmiqKNAYH1"
      }
    },
    {
      "cell_type": "code",
      "source": [
        "array = np.array([[0, 1], [2, 3]])\n",
        "\n",
        "print(f'original array \\n {array}')\n",
        "print(f'Sum of all elements \\n {array.sum()}')\n",
        "print(f'Sum of each column: \\n {array.sum(axis = 0)}')\n",
        "print(f'Sum of each row: \\n {array.sum(axis = 1)}')"
      ],
      "metadata": {
        "id": "zWHfl9BS_J-a",
        "outputId": "e339212e-d66f-497c-8cfe-c0539533739e",
        "colab": {
          "base_uri": "https://localhost:8080/"
        }
      },
      "execution_count": 26,
      "outputs": [
        {
          "output_type": "stream",
          "name": "stdout",
          "text": [
            "original array \n",
            " [[0 1]\n",
            " [2 3]]\n",
            "Sum of all elements \n",
            " 6\n",
            "Sum of each column: \n",
            " [2 4]\n",
            "Sum of each row: \n",
            " [1 5]\n"
          ]
        }
      ]
    },
    {
      "cell_type": "markdown",
      "source": [
        "###### 12. Write a NumPy program to compute the inner product of two given vectors."
      ],
      "metadata": {
        "id": "4JSLT9ImAnKn"
      }
    },
    {
      "cell_type": "code",
      "source": [
        "vec1 = np.array([4, 5])\n",
        "vec2 = np.array([7, 10])\n",
        "\n",
        "\n",
        "vec1.dot(vec2)"
      ],
      "metadata": {
        "id": "cBGxcHxe_KEt",
        "outputId": "b7708688-9cf8-4d9c-d17a-5737246302b9",
        "colab": {
          "base_uri": "https://localhost:8080/"
        }
      },
      "execution_count": 32,
      "outputs": [
        {
          "output_type": "execute_result",
          "data": {
            "text/plain": [
              "78"
            ]
          },
          "metadata": {},
          "execution_count": 32
        }
      ]
    }
  ]
}