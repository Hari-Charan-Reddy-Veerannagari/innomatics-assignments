{
  "nbformat": 4,
  "nbformat_minor": 0,
  "metadata": {
    "colab": {
      "name": "09-numpy-assignment-day-2.ipynb",
      "provenance": []
    },
    "kernelspec": {
      "name": "python3",
      "display_name": "Python 3"
    },
    "language_info": {
      "name": "python"
    }
  },
  "cells": [
    {
      "cell_type": "markdown",
      "source": [
        "### NumPy Exercises\n",
        "##### Now that we've learned about NumPy let's test your knowledge. We'll start off with a few simple tasks and then you'll be asked some more complicated questions.\n",
        "##### IMPORTANT NOTE! Make sure you don't run the cells directly above the example output shown, otherwise you will end up writing over the example output!"
      ],
      "metadata": {
        "id": "KRH0lpS88abX"
      }
    },
    {
      "cell_type": "markdown",
      "source": [
        "##### import numpy as np\n"
      ],
      "metadata": {
        "id": "9KzpS47XBTWm"
      }
    },
    {
      "cell_type": "markdown",
      "source": [
        "###### 1. Write a NumPy program to find the missing data in a given array."
      ],
      "metadata": {
        "id": "V6ntuSvDBZ2G"
      }
    },
    {
      "cell_type": "code",
      "source": [
        "import numpy as np"
      ],
      "metadata": {
        "id": "tzJR5erAeqMO"
      },
      "execution_count": 1,
      "outputs": []
    },
    {
      "cell_type": "code",
      "execution_count": 2,
      "metadata": {
        "id": "Z94k4mpaBClu",
        "outputId": "e72623c6-2d92-44c4-e16e-c7359f053e28",
        "colab": {
          "base_uri": "https://localhost:8080/"
        }
      },
      "outputs": [
        {
          "output_type": "stream",
          "name": "stdout",
          "text": [
            "Original array: \n",
            " [[ 3.  6. nan  5.]\n",
            " [ 4. nan  6.  2.]\n",
            " [nan  7.  4.  3.]]\n",
            "missing values: \n",
            " [[False False  True False]\n",
            " [False  True False False]\n",
            " [ True False False False]]\n"
          ]
        }
      ],
      "source": [
        "array = np.array([[3,6, np.nan,5 ],[4,np.nan,6,2], [np.nan,7,4,3]])\n",
        "\n",
        "print(f'Original array: \\n {array}')\n",
        "print(f'missing values: \\n {np.isnan(array)}')"
      ]
    },
    {
      "cell_type": "markdown",
      "source": [
        "##### 2. Write a NumPy program to check whether two arrays are equal (element wise) or not."
      ],
      "metadata": {
        "id": "jT038BYtB0la"
      }
    },
    {
      "cell_type": "code",
      "source": [
        "mat1 = np.array([[1, 2, 3, 4], [5, 6, 7, 8]])\n",
        "mat2 = np.array([[1, 2, 3, 4], [5, 6, 7, 8]])\n",
        "\n",
        "np.array_equal(mat1, mat2)"
      ],
      "metadata": {
        "id": "0aJczGNjBfL1",
        "outputId": "ef7e6654-72eb-4059-81d4-6efbd875782e",
        "colab": {
          "base_uri": "https://localhost:8080/"
        }
      },
      "execution_count": 3,
      "outputs": [
        {
          "output_type": "execute_result",
          "data": {
            "text/plain": [
              "True"
            ]
          },
          "metadata": {},
          "execution_count": 3
        }
      ]
    },
    {
      "cell_type": "markdown",
      "source": [
        "###### 3. Write a NumPy program to create a 4x4 array with random values, now create a new array from the said array swapping first and last rows."
      ],
      "metadata": {
        "id": "XhX1H1M_CI7S"
      }
    },
    {
      "cell_type": "code",
      "source": [
        "original_array = np.random.randint(0, high= 10, size= (4,4))\n",
        "\n",
        "print(f'''Original array:\n",
        "{original_array}''')\n",
        "\n",
        "swapped_array = original_array.copy()\n",
        "swapped_array[0] = original_array[-1]\n",
        "swapped_array[-1] = original_array[0]\n",
        "\n",
        "print(f'''New array after swapping first and last rows of the said array:\n",
        "{swapped_array}''')"
      ],
      "metadata": {
        "id": "3HazIhbtBfOq",
        "outputId": "ae7c099d-9afb-47ee-f12b-ee6d12a3ce73",
        "colab": {
          "base_uri": "https://localhost:8080/"
        }
      },
      "execution_count": 16,
      "outputs": [
        {
          "output_type": "stream",
          "name": "stdout",
          "text": [
            "Original array:\n",
            "[[7 4 3 3]\n",
            " [5 0 4 9]\n",
            " [4 9 1 3]\n",
            " [7 3 3 3]]\n",
            "New array after swapping first and last rows of the said array:\n",
            "[[7 3 3 3]\n",
            " [5 0 4 9]\n",
            " [4 9 1 3]\n",
            " [7 4 3 3]]\n"
          ]
        }
      ]
    },
    {
      "cell_type": "markdown",
      "source": [
        "###### 4. Write a NumPy program to convert a list and tuple into arrays."
      ],
      "metadata": {
        "id": "BYgy22u_kqsB"
      }
    },
    {
      "cell_type": "code",
      "source": [
        "np.array([1,5,2,6,3,7,3])"
      ],
      "metadata": {
        "id": "Hgmgw7J2BfUQ",
        "outputId": "38a2558f-0f30-462a-8c87-d4a0ddf273fe",
        "colab": {
          "base_uri": "https://localhost:8080/"
        }
      },
      "execution_count": 17,
      "outputs": [
        {
          "output_type": "execute_result",
          "data": {
            "text/plain": [
              "array([1, 5, 2, 6, 3, 7, 3])"
            ]
          },
          "metadata": {},
          "execution_count": 17
        }
      ]
    },
    {
      "cell_type": "code",
      "source": [
        "np.array((1,5,2,6,3,7,3))"
      ],
      "metadata": {
        "id": "D7DYbNNHPmFk",
        "outputId": "6ec7a6c3-dda5-414e-c362-3ece25d75f1f",
        "colab": {
          "base_uri": "https://localhost:8080/"
        }
      },
      "execution_count": 23,
      "outputs": [
        {
          "output_type": "execute_result",
          "data": {
            "text/plain": [
              "array([1, 5, 2, 6, 3, 7, 3])"
            ]
          },
          "metadata": {},
          "execution_count": 23
        }
      ]
    },
    {
      "cell_type": "markdown",
      "source": [
        "###### 5. Write a NumPy program to find common values between two arrays."
      ],
      "metadata": {
        "id": "jzp2hg44k5O0"
      }
    },
    {
      "cell_type": "code",
      "source": [
        "array1 = np.random.randint(0, high= 10, size= (6))\n",
        "array2 = np.random.randint(0, high= 10, size= (6))\n",
        "\n",
        "print(f'array1 ----> {array1}')\n",
        "print(f'array2 ----> {array2}')\n",
        "print(f'intersection ----> {np.intersect1d(array1, array2)}')\n",
        "\n"
      ],
      "metadata": {
        "id": "1QMJVl3LBfWm",
        "outputId": "7731a2e0-6c57-4d3e-d711-3c14bb2f585b",
        "colab": {
          "base_uri": "https://localhost:8080/"
        }
      },
      "execution_count": 26,
      "outputs": [
        {
          "output_type": "stream",
          "name": "stdout",
          "text": [
            "array1 ----> [1 9 0 5 9 2]\n",
            "array2 ----> [0 3 9 2 8 9]\n",
            "intersection ----> [0 2 9]\n"
          ]
        }
      ]
    },
    {
      "cell_type": "markdown",
      "source": [
        "###### 6. Write a NumPy program to create a new shape to an array without changing its data."
      ],
      "metadata": {
        "id": "Llt6X9k66TMD"
      }
    },
    {
      "cell_type": "code",
      "source": [
        "original_array = np.random.randint(0, high= 10, size= (3,2))\n",
        "\n",
        "print(f'''Reshape 3x2\n",
        "{original_array}''')\n",
        "\n",
        "print(f'''Reshape 2x3\n",
        "{np.reshape(original_array, newshape=(2, 3))}\n",
        "''')\n"
      ],
      "metadata": {
        "id": "rNh8SssUBfZQ",
        "outputId": "05ceff8d-8c6f-4a05-ada9-877e602ae4e4",
        "colab": {
          "base_uri": "https://localhost:8080/"
        }
      },
      "execution_count": 28,
      "outputs": [
        {
          "output_type": "stream",
          "name": "stdout",
          "text": [
            "Reshape 3x2\n",
            "[[9 9]\n",
            " [8 5]\n",
            " [7 3]]\n",
            "Reshape 2x3\n",
            "[[9 9 8]\n",
            " [5 7 3]]\n",
            "\n"
          ]
        }
      ]
    },
    {
      "cell_type": "markdown",
      "source": [
        "###### 7. Write a NumPy program to count the frequency of unique values in numpy array."
      ],
      "metadata": {
        "id": "nf03MRSR7JFB"
      }
    },
    {
      "cell_type": "code",
      "source": [
        "a = np.array([10, 10, 20, 10, 20, 20, 20, 30, 30, 50, 40, 40])\n",
        "\n",
        "print(f'''Original array:\n",
        "{a}''')\n",
        "unique_elements, counts_elements = np.unique(a, return_counts=True)\n",
        "print(f'''Frequency of unique values of the said array:\n",
        "{np.array([unique_elements, counts_elements])}''')\n"
      ],
      "metadata": {
        "id": "NqJxDKOs6dZN",
        "outputId": "c353cac9-4f0e-44aa-f111-2c2b314eeb93",
        "colab": {
          "base_uri": "https://localhost:8080/"
        }
      },
      "execution_count": 31,
      "outputs": [
        {
          "output_type": "stream",
          "name": "stdout",
          "text": [
            "Original array:\n",
            "[10 10 20 10 20 20 20 30 30 50 40 40]\n",
            "Frequency of unique values of the said array:\n",
            "[[10 20 30 40 50]\n",
            " [ 3  4  2  2  1]]\n"
          ]
        }
      ]
    },
    {
      "cell_type": "markdown",
      "source": [
        "###### 8. Write a NumPy program to broadcast on different shapes of arrays where p(3,3) + q(3)."
      ],
      "metadata": {
        "id": "a5wvDisr9SGS"
      }
    },
    {
      "cell_type": "code",
      "source": [
        "### code here"
      ],
      "metadata": {
        "id": "B3hjEaCw6dfJ"
      },
      "execution_count": null,
      "outputs": []
    },
    {
      "cell_type": "code",
      "source": [
        "## sample output"
      ],
      "metadata": {
        "colab": {
          "base_uri": "https://localhost:8080/"
        },
        "id": "0lteZrS-6dh0",
        "outputId": "e6a565a0-e734-4c5f-8705-ccb3f9c12270"
      },
      "execution_count": null,
      "outputs": [
        {
          "output_type": "stream",
          "name": "stdout",
          "text": [
            "Original arrays:\n",
            "Array-1\n",
            "[[0 0 0]\n",
            " [1 2 3]\n",
            " [4 5 6]]\n",
            "Array-2\n",
            "[10 11 12]\n",
            "\n",
            "New Array:\n",
            "[[10 11 12]\n",
            " [11 13 15]\n",
            " [14 16 18]]\n"
          ]
        }
      ]
    },
    {
      "cell_type": "markdown",
      "source": [
        "###### 9. Write a NumPy program to extract all the elements of the second row from a given (4x4) array."
      ],
      "metadata": {
        "id": "W9mCoSxU92BL"
      }
    },
    {
      "cell_type": "code",
      "source": [
        "### code here"
      ],
      "metadata": {
        "id": "V88Mi3yhBfgI"
      },
      "execution_count": null,
      "outputs": []
    },
    {
      "cell_type": "code",
      "source": [
        "import numpy as np\n",
        "arra_data = np.arange(0,16).reshape((4, 4))\n",
        "print(\"Original array:\")\n",
        "print(arra_data)\n",
        "print(\"\\nExtracted data: Second row\")\n",
        "print(arra_data[1,:])"
      ],
      "metadata": {
        "colab": {
          "base_uri": "https://localhost:8080/"
        },
        "id": "ybbGis1E91S8",
        "outputId": "42123911-acc4-47c0-ccd1-be25b3b76737"
      },
      "execution_count": null,
      "outputs": [
        {
          "output_type": "stream",
          "name": "stdout",
          "text": [
            "Original array:\n",
            "[[ 0  1  2  3]\n",
            " [ 4  5  6  7]\n",
            " [ 8  9 10 11]\n",
            " [12 13 14 15]]\n",
            "\n",
            "Extracted data: Second row\n",
            "[4 5 6 7]\n"
          ]
        }
      ]
    },
    {
      "cell_type": "markdown",
      "source": [
        "###### 10. Write a NumPy program to extract third and fourth elements of the first and second rows from a given (4x4) array."
      ],
      "metadata": {
        "id": "t76Rc47gATll"
      }
    },
    {
      "cell_type": "code",
      "source": [
        "## code here"
      ],
      "metadata": {
        "id": "tLyK4ieP91V_"
      },
      "execution_count": null,
      "outputs": []
    },
    {
      "cell_type": "code",
      "source": [
        "## sample output\n"
      ],
      "metadata": {
        "colab": {
          "base_uri": "https://localhost:8080/"
        },
        "id": "WzHXmOQ091Y1",
        "outputId": "ca0f6059-f622-4e59-c563-96b95ef291fa"
      },
      "execution_count": null,
      "outputs": [
        {
          "output_type": "stream",
          "name": "stdout",
          "text": [
            "Original array:\n",
            "[[ 0  1  2  3]\n",
            " [ 4  5  6  7]\n",
            " [ 8  9 10 11]\n",
            " [12 13 14 15]]\n",
            "\n",
            "Extracted data: Third and fourth elements of the first and second rows \n",
            "[[2 3]\n",
            " [6 7]]\n"
          ]
        }
      ]
    },
    {
      "cell_type": "markdown",
      "source": [
        "###### 11. Write a NumPy program to get the dates of yesterday, today and tomorrow."
      ],
      "metadata": {
        "id": "mES8f4RDFxtM"
      }
    },
    {
      "cell_type": "code",
      "source": [
        "### code here"
      ],
      "metadata": {
        "id": "fyBw7Uo-Aoad"
      },
      "execution_count": null,
      "outputs": []
    },
    {
      "cell_type": "markdown",
      "source": [
        "###### 12. Write a NumPy program to find the first Monday in May 2017."
      ],
      "metadata": {
        "id": "-y3xiL7_GZ3D"
      }
    },
    {
      "cell_type": "code",
      "source": [
        "## code here"
      ],
      "metadata": {
        "id": "roe76-pSGNX4"
      },
      "execution_count": null,
      "outputs": []
    },
    {
      "cell_type": "code",
      "source": [
        "## sample output"
      ],
      "metadata": {
        "colab": {
          "base_uri": "https://localhost:8080/"
        },
        "id": "gF_q2GENGNat",
        "outputId": "1d5a4aec-f19b-4a2d-9122-57c49d7fa6d2"
      },
      "execution_count": null,
      "outputs": [
        {
          "output_type": "stream",
          "name": "stdout",
          "text": [
            "First Monday in May 2017:\n",
            "2017-05-01\n"
          ]
        }
      ]
    },
    {
      "cell_type": "code",
      "source": [],
      "metadata": {
        "id": "n94g4wnlGe2o"
      },
      "execution_count": null,
      "outputs": []
    }
  ]
}