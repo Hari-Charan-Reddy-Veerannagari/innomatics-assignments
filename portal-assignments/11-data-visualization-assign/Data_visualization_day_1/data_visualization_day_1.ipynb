{
  "nbformat": 4,
  "nbformat_minor": 0,
  "metadata": {
    "colab": {
      "name": "data_visualization_day_1.ipynb",
      "provenance": [],
      "collapsed_sections": []
    },
    "kernelspec": {
      "name": "python3",
      "display_name": "Python 3"
    },
    "language_info": {
      "name": "python"
    }
  },
  "cells": [
    {
      "cell_type": "markdown",
      "source": [
        "######1. load the iris.csv dataset."
      ],
      "metadata": {
        "id": "j3gY5ohF7kiP"
      }
    },
    {
      "cell_type": "markdown",
      "source": [
        "#### 1. create a bar plot for count the frequency of the three species."
      ],
      "metadata": {
        "id": "quajcw9k9qjQ"
      }
    },
    {
      "cell_type": "code",
      "execution_count": null,
      "metadata": {
        "id": "jWVCfCnJ7Z5U"
      },
      "outputs": [],
      "source": [
        "### code here"
      ]
    },
    {
      "cell_type": "markdown",
      "source": [
        "##### 2. Create a pie chart to show the percentage of species."
      ],
      "metadata": {
        "id": "qFsMxA7SHLrP"
      }
    },
    {
      "cell_type": "code",
      "source": [
        "### code here"
      ],
      "metadata": {
        "id": "h45Uw9n5_3yi"
      },
      "execution_count": null,
      "outputs": []
    },
    {
      "cell_type": "markdown",
      "source": [
        "##### 3. Create the joint to all numberical variable for analyze the relationship between two variables and describe their individual distributions on the same plot."
      ],
      "metadata": {
        "id": "IEIr8TFsHhBr"
      }
    },
    {
      "cell_type": "code",
      "source": [
        "### code here"
      ],
      "metadata": {
        "id": "EUJ2mJ8E_32A"
      },
      "execution_count": null,
      "outputs": []
    },
    {
      "cell_type": "markdown",
      "source": [
        "##### 4. Create a scatter plot and take hue = \"Species\""
      ],
      "metadata": {
        "id": "w_N5mnbUH-aR"
      }
    },
    {
      "cell_type": "code",
      "source": [
        "### code here"
      ],
      "metadata": {
        "id": "DAE9TnnI_35K"
      },
      "execution_count": null,
      "outputs": []
    },
    {
      "cell_type": "markdown",
      "source": [
        "###### 5. Create a Boxplot or Whisker plot as univeriate and bivariate analysis."
      ],
      "metadata": {
        "id": "JucdTQXlIZM5"
      }
    },
    {
      "cell_type": "code",
      "source": [
        "### code here"
      ],
      "metadata": {
        "id": "FyDBLhdh_37t"
      },
      "execution_count": null,
      "outputs": []
    },
    {
      "cell_type": "markdown",
      "source": [
        "###### 6. Create a Strip plot "
      ],
      "metadata": {
        "id": "mHTJW8UgJEIq"
      }
    },
    {
      "cell_type": "code",
      "source": [
        "### code here"
      ],
      "metadata": {
        "id": "APxTE2yM_3-y"
      },
      "execution_count": null,
      "outputs": []
    },
    {
      "cell_type": "markdown",
      "source": [
        "###### 7. Create a Violin Plot."
      ],
      "metadata": {
        "id": "Couw89q4JVUa"
      }
    },
    {
      "cell_type": "code",
      "source": [
        "### code here"
      ],
      "metadata": {
        "id": "y41Pvc7mJSN9"
      },
      "execution_count": null,
      "outputs": []
    },
    {
      "cell_type": "markdown",
      "source": [
        "##### 8. Create a pair chart."
      ],
      "metadata": {
        "id": "CM8eDKz2KAhU"
      }
    },
    {
      "cell_type": "code",
      "source": [
        "### code here"
      ],
      "metadata": {
        "id": "yaB1cbWLJSKq"
      },
      "execution_count": null,
      "outputs": []
    },
    {
      "cell_type": "markdown",
      "source": [
        "##### 9. Create a Heat Map"
      ],
      "metadata": {
        "id": "zsMGO1-jKWoK"
      }
    },
    {
      "cell_type": "code",
      "source": [
        "### code here"
      ],
      "metadata": {
        "id": "FKOJPPC3JSH7"
      },
      "execution_count": null,
      "outputs": []
    },
    {
      "cell_type": "markdown",
      "source": [
        "###### 10. Create a distribution plot for all numerical colomns."
      ],
      "metadata": {
        "id": "PGGMTj6GKdhk"
      }
    },
    {
      "cell_type": "code",
      "source": [
        "### code here"
      ],
      "metadata": {
        "id": "u783sEpkKV3F"
      },
      "execution_count": null,
      "outputs": []
    },
    {
      "cell_type": "code",
      "source": [
        ""
      ],
      "metadata": {
        "id": "8-x0GybOKV5j"
      },
      "execution_count": null,
      "outputs": []
    }
  ]
}