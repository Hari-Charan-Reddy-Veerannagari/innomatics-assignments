{
  "nbformat": 4,
  "nbformat_minor": 0,
  "metadata": {
    "colab": {
      "name": "data_visualization_day_2.ipynb",
      "provenance": [],
      "collapsed_sections": []
    },
    "kernelspec": {
      "name": "python3",
      "display_name": "Python 3"
    },
    "language_info": {
      "name": "python"
    }
  },
  "cells": [
    {
      "cell_type": "markdown",
      "source": [
        "##### import the titanic dataset"
      ],
      "metadata": {
        "id": "VZbUmVdUETOm"
      }
    },
    {
      "cell_type": "markdown",
      "source": [
        "##### 1. Write a Python program to display a bar chart of the fare of class."
      ],
      "metadata": {
        "id": "2fd5R7rVeLj5"
      }
    },
    {
      "cell_type": "code",
      "execution_count": null,
      "metadata": {
        "id": "dM3do97oDEbg"
      },
      "outputs": [],
      "source": [
        "### code here"
      ]
    },
    {
      "cell_type": "markdown",
      "source": [
        "###### 2. Write a Python program to display a horizontal bar chart of the fare of class."
      ],
      "metadata": {
        "id": "9hFFK0mse2Mp"
      }
    },
    {
      "cell_type": "code",
      "source": [
        "### code here"
      ],
      "metadata": {
        "id": "UoJgKm_YevbU"
      },
      "execution_count": null,
      "outputs": []
    },
    {
      "cell_type": "markdown",
      "source": [
        "###### 3. Write a Python program to display a bar chart of the fare of class. Use different color for each bar."
      ],
      "metadata": {
        "id": "lsd3RvEKfXvR"
      }
    },
    {
      "cell_type": "code",
      "source": [
        "### code here"
      ],
      "metadata": {
        "id": "rLdwbQhhevd5"
      },
      "execution_count": null,
      "outputs": []
    },
    {
      "cell_type": "markdown",
      "source": [
        "###### 4. Write a Python program to create a pie chart of the fare of class."
      ],
      "metadata": {
        "id": "lh44iKpYmi3D"
      }
    },
    {
      "cell_type": "code",
      "source": [
        "### code here"
      ],
      "metadata": {
        "id": "w3UDbQGtevjj"
      },
      "execution_count": null,
      "outputs": []
    },
    {
      "cell_type": "markdown",
      "source": [
        "######5. Write a Python program to display a count plot of all categorical columns."
      ],
      "metadata": {
        "id": "CnMqiYMqxzJu"
      }
    },
    {
      "cell_type": "code",
      "source": [
        "### code here"
      ],
      "metadata": {
        "id": "6jM2-KIAevlx"
      },
      "execution_count": null,
      "outputs": []
    },
    {
      "cell_type": "markdown",
      "source": [
        "###### 6. Write a Python program to display a factor plot of ( pclass vs embarked). hist (kind = 'count')"
      ],
      "metadata": {
        "id": "VzZVRYuNzXAO"
      }
    },
    {
      "cell_type": "code",
      "source": [
        "  #### code here"
      ],
      "metadata": {
        "id": "15-bLcm3x_IA"
      },
      "execution_count": null,
      "outputs": []
    },
    {
      "cell_type": "markdown",
      "source": [
        "###### 7. Write a Python programming to display a factor plot of ( pclass vs sex). hist (kind = 'count')"
      ],
      "metadata": {
        "id": "htMmCIjK0A2c"
      }
    },
    {
      "cell_type": "code",
      "source": [
        "### code here"
      ],
      "metadata": {
        "id": "Z9cF6WpIx_Jr"
      },
      "execution_count": null,
      "outputs": []
    },
    {
      "cell_type": "markdown",
      "source": [
        "###### 8. Write a Python programming to display a factor plot of ( embarked vs sex). hist (kind = 'count')"
      ],
      "metadata": {
        "id": "s2HvqL-Z0Gxu"
      }
    },
    {
      "cell_type": "code",
      "source": [
        "### code here "
      ],
      "metadata": {
        "id": "y3dSSurox_MI"
      },
      "execution_count": null,
      "outputs": []
    },
    {
      "cell_type": "markdown",
      "source": [
        "###### 9. Write a Python program to display distribution plot for all numberical columns."
      ],
      "metadata": {
        "id": "QSPyCaWKk-Ub"
      }
    },
    {
      "cell_type": "code",
      "source": [
        "### code here"
      ],
      "metadata": {
        "id": "8AlJftMPx_Os"
      },
      "execution_count": null,
      "outputs": []
    },
    {
      "cell_type": "markdown",
      "source": [
        "###### 10. Write a Python program to display boxplot of age, pclass and hue = gender."
      ],
      "metadata": {
        "id": "lulRoMJ0mPMA"
      }
    },
    {
      "cell_type": "code",
      "source": [
        "### code here"
      ],
      "metadata": {
        "id": "MXU6O-D3x_RL"
      },
      "execution_count": null,
      "outputs": []
    },
    {
      "cell_type": "code",
      "source": [
        ""
      ],
      "metadata": {
        "id": "fpZjzPIJx_VX"
      },
      "execution_count": null,
      "outputs": []
    },
    {
      "cell_type": "markdown",
      "source": [
        "##### Bonus Question"
      ],
      "metadata": {
        "id": "bEIAG4VzQjX2"
      }
    },
    {
      "cell_type": "markdown",
      "source": [
        "##### 1. What are the plots we can create on numerical columns."
      ],
      "metadata": {
        "id": "quNTC6RNQsRJ"
      }
    },
    {
      "cell_type": "code",
      "source": [
        "### write here"
      ],
      "metadata": {
        "id": "EWEpEyXqPuTf"
      },
      "execution_count": null,
      "outputs": []
    },
    {
      "cell_type": "markdown",
      "source": [
        "###### 2. What are the plots we can create on categorical columns."
      ],
      "metadata": {
        "id": "WyoeyWuUQ6GA"
      }
    },
    {
      "cell_type": "code",
      "source": [
        "### write here"
      ],
      "metadata": {
        "id": "fNvQ_IvURUzS"
      },
      "execution_count": null,
      "outputs": []
    },
    {
      "cell_type": "code",
      "source": [
        ""
      ],
      "metadata": {
        "id": "DlhEsuhuWWEo"
      },
      "execution_count": null,
      "outputs": []
    }
  ]
}