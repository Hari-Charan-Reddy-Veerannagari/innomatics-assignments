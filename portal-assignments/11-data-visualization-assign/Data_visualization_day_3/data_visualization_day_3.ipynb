{
  "nbformat": 4,
  "nbformat_minor": 0,
  "metadata": {
    "colab": {
      "name": "data_visualization_day_3.ipynb",
      "provenance": [],
      "collapsed_sections": []
    },
    "kernelspec": {
      "name": "python3",
      "display_name": "Python 3"
    },
    "language_info": {
      "name": "python"
    }
  },
  "cells": [
    {
      "cell_type": "markdown",
      "source": [
        "##### import tips dataset."
      ],
      "metadata": {
        "id": "pbbyfVcWtUtl"
      }
    },
    {
      "cell_type": "markdown",
      "source": [
        "##### 1. Write a Python program to display a bar chart of the total bill of Gender and write the intuition about the plot."
      ],
      "metadata": {
        "id": "D2GO164otz-x"
      }
    },
    {
      "cell_type": "code",
      "execution_count": null,
      "metadata": {
        "id": "GWD9MtlL9Qpi"
      },
      "outputs": [],
      "source": [
        "### code here"
      ]
    },
    {
      "cell_type": "markdown",
      "source": [
        "###### 2. Write a Python program to display a box plot of the total bill of day and hue = \"smoker\" and write the intuition about the plot."
      ],
      "metadata": {
        "id": "-vnCrnDNuKjm"
      }
    },
    {
      "cell_type": "code",
      "source": [
        "#### code here"
      ],
      "metadata": {
        "id": "t0mA9Ax2t8HB"
      },
      "execution_count": null,
      "outputs": []
    },
    {
      "cell_type": "markdown",
      "source": [
        "##### 3. Write a Python program to display a violin plot of the total bill of Day and hue = \"sex\" and write the intuition about the plot."
      ],
      "metadata": {
        "id": "ETpLEniXugi7"
      }
    },
    {
      "cell_type": "code",
      "source": [
        "### code here"
      ],
      "metadata": {
        "id": "E2Q_PY_ut8Im"
      },
      "execution_count": null,
      "outputs": []
    },
    {
      "cell_type": "markdown",
      "source": [
        "##### 4. Write a Python program to display a strip plot of the total bill of Day and hue = \"sex\" and write the intuition about the plot."
      ],
      "metadata": {
        "id": "UEwRmkDevk8_"
      }
    },
    {
      "cell_type": "code",
      "source": [
        "### code here "
      ],
      "metadata": {
        "id": "AlvK-PF5t8K8"
      },
      "execution_count": null,
      "outputs": []
    },
    {
      "cell_type": "markdown",
      "source": [
        "##### 5. Write a Python program to display heat map of dataframe and write the intuition about the plot."
      ],
      "metadata": {
        "id": "7yNL7x0FwfK6"
      }
    },
    {
      "cell_type": "code",
      "source": [
        "### code here"
      ],
      "metadata": {
        "id": "HjwmU-Kmt8NS"
      },
      "execution_count": null,
      "outputs": []
    },
    {
      "cell_type": "markdown",
      "source": [
        "##### 6. Write a Python program to display scatter plot of total bill of tip and write the intuition about the plot."
      ],
      "metadata": {
        "id": "4gblGssRx0eC"
      }
    },
    {
      "cell_type": "code",
      "source": [
        "### code here"
      ],
      "metadata": {
        "id": "3RUw14FAt8P9"
      },
      "execution_count": null,
      "outputs": []
    },
    {
      "cell_type": "markdown",
      "source": [
        "##### 7. Write a Python program to display density plot of all numerical columns from the dataframe and write the intution about plot."
      ],
      "metadata": {
        "id": "PKVXvY_LyMkX"
      }
    },
    {
      "cell_type": "code",
      "source": [
        "### code here"
      ],
      "metadata": {
        "id": "tOfuMw7ct8SN"
      },
      "execution_count": null,
      "outputs": []
    },
    {
      "cell_type": "markdown",
      "source": [
        "##### 8. Write a Python program to calculate average total bills by days and display top 4 days by plot."
      ],
      "metadata": {
        "id": "bFXGxZgDzFkE"
      }
    },
    {
      "cell_type": "code",
      "source": [
        "### code here"
      ],
      "metadata": {
        "id": "RIIPgptpt8VM"
      },
      "execution_count": null,
      "outputs": []
    },
    {
      "cell_type": "markdown",
      "source": [
        "#### Bonus Question"
      ],
      "metadata": {
        "id": "bKOpDzT02M2B"
      }
    },
    {
      "cell_type": "markdown",
      "source": [
        "###### 1. What is Histogram chart ?"
      ],
      "metadata": {
        "id": "9vYoyFru40ej"
      }
    },
    {
      "cell_type": "code",
      "source": [
        "#### write here"
      ],
      "metadata": {
        "id": "g8axmtXrt8X7"
      },
      "execution_count": null,
      "outputs": []
    },
    {
      "cell_type": "markdown",
      "source": [
        "##### 2. What is box plot ?"
      ],
      "metadata": {
        "id": "YozzKFb65Cup"
      }
    },
    {
      "cell_type": "code",
      "source": [
        "### write here"
      ],
      "metadata": {
        "id": "paHFdhXHt8bk"
      },
      "execution_count": null,
      "outputs": []
    },
    {
      "cell_type": "markdown",
      "source": [
        "##### 3. What are the plots we can use for univeriate analysis. "
      ],
      "metadata": {
        "id": "q4EjWX4D5MSQ"
      }
    },
    {
      "cell_type": "code",
      "source": [
        "### write here"
      ],
      "metadata": {
        "id": "UDF2mZQp5JrW"
      },
      "execution_count": null,
      "outputs": []
    },
    {
      "cell_type": "markdown",
      "source": [
        "##### 4. What are the plots we can use for bivariate analysis."
      ],
      "metadata": {
        "id": "yQCiEMfd5WJO"
      }
    },
    {
      "cell_type": "code",
      "source": [
        "### code here"
      ],
      "metadata": {
        "id": "LkXUTeor5JuU"
      },
      "execution_count": null,
      "outputs": []
    },
    {
      "cell_type": "markdown",
      "source": [
        "###### 5. What are plot we can use for multivariate analysis."
      ],
      "metadata": {
        "id": "BqHPc_WM5keO"
      }
    },
    {
      "cell_type": "code",
      "source": [
        "### code here"
      ],
      "metadata": {
        "id": "imRCI_Kx5j8D"
      },
      "execution_count": null,
      "outputs": []
    }
  ]
}