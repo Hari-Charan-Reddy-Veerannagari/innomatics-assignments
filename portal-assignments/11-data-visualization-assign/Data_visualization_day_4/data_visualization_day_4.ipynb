{
  "nbformat": 4,
  "nbformat_minor": 0,
  "metadata": {
    "colab": {
      "name": "data_visualization_day_4.ipynb",
      "provenance": [],
      "collapsed_sections": []
    },
    "kernelspec": {
      "name": "python3",
      "display_name": "Python 3"
    },
    "language_info": {
      "name": "python"
    }
  },
  "cells": [
    {
      "cell_type": "markdown",
      "source": [
        "##### import required libraries.\n",
        "##### laod diamond dataset"
      ],
      "metadata": {
        "id": "7IEW0LDJ-AUn"
      }
    },
    {
      "cell_type": "markdown",
      "source": [
        "#### Write a Python program to display all Univariate Plots from the dataframe.\n",
        "\n",
        "\n",
        "1.   Numeric based plots\n",
        "2.   Categorical based plots\n",
        "\n",
        "\n"
      ],
      "metadata": {
        "id": "tc_u1f5Q-aqp"
      }
    },
    {
      "cell_type": "code",
      "execution_count": null,
      "metadata": {
        "id": "Owb6kJQm647O"
      },
      "outputs": [],
      "source": [
        "#### code here"
      ]
    },
    {
      "cell_type": "code",
      "source": [
        "#### code here"
      ],
      "metadata": {
        "id": "DlXUxOZ6_F8v"
      },
      "execution_count": null,
      "outputs": []
    },
    {
      "cell_type": "markdown",
      "source": [
        "#### Write a Python program to display all Bivariate plots from the dataframe.\n",
        "\n",
        "1.   Numeric to Numeric based plots\n",
        "2.   Numeric to Categorical Plots\n",
        "3.   Categorical to Categorical Plots\n",
        "\n",
        "\n",
        "\n",
        "\n"
      ],
      "metadata": {
        "id": "pWzEcmEZ_Ik8"
      }
    },
    {
      "cell_type": "code",
      "source": [
        "### code here"
      ],
      "metadata": {
        "id": "F2CP2D48_F-S"
      },
      "execution_count": null,
      "outputs": []
    },
    {
      "cell_type": "code",
      "source": [
        "### code here"
      ],
      "metadata": {
        "id": "WRC_Tt0r_GA1"
      },
      "execution_count": null,
      "outputs": []
    },
    {
      "cell_type": "code",
      "source": [
        "#### code here"
      ],
      "metadata": {
        "id": "LdL0JSHc_GDj"
      },
      "execution_count": null,
      "outputs": []
    },
    {
      "cell_type": "markdown",
      "source": [
        "#### Write a Python program to display all Multivariate plots from the dataframe."
      ],
      "metadata": {
        "id": "iSZpqkFu_-m2"
      }
    },
    {
      "cell_type": "code",
      "source": [
        "### code here"
      ],
      "metadata": {
        "id": "0nA5Ps8i_GFq"
      },
      "execution_count": null,
      "outputs": []
    },
    {
      "cell_type": "code",
      "source": [
        "### code here"
      ],
      "metadata": {
        "id": "XmEmJpWb_GKJ"
      },
      "execution_count": null,
      "outputs": []
    },
    {
      "cell_type": "markdown",
      "source": [
        "##### hint - https://www.python-graph-gallery.com/"
      ],
      "metadata": {
        "id": "bmrBlbrDAOTF"
      }
    },
    {
      "cell_type": "code",
      "source": [
        ""
      ],
      "metadata": {
        "id": "VW4nOexGALKq"
      },
      "execution_count": null,
      "outputs": []
    },
    {
      "cell_type": "code",
      "source": [
        ""
      ],
      "metadata": {
        "id": "3TnwfmjdALNk"
      },
      "execution_count": null,
      "outputs": []
    }
  ]
}