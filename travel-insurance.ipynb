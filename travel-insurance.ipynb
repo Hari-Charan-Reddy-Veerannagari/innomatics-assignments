{
  "cells": [
    {
      "cell_type": "markdown",
      "source": [
        "#Travel Insurance"
      ],
      "metadata": {
        "id": "lIYdn1woOS1n"
      }
    },
    {
      "cell_type": "code",
      "source": [
        "# importing rquired libraries\n",
        "\n",
        "import numpy as np\n",
        "import pandas as pd\n",
        "\n",
        "import matplotlib.pyplot as plt\n",
        "import seaborn as sns\n",
        "\n",
        "import plotly.express as px\n"
      ],
      "metadata": {
        "id": "O9cxZ9C2t9Zp"
      },
      "execution_count": 25,
      "outputs": []
    },
    {
      "cell_type": "code",
      "source": [
        "data = pd.read_csv('travel insurance.csv')\n",
        "data"
      ],
      "metadata": {
        "id": "QgpsIYFDusyT",
        "outputId": "581efd88-08df-4321-ee71-379b24d41eaf",
        "colab": {
          "base_uri": "https://localhost:8080/",
          "height": 345
        }
      },
      "execution_count": 3,
      "outputs": [
        {
          "output_type": "execute_result",
          "data": {
            "text/plain": [
              "      Agency    Agency Type Distribution Channel  \\\n",
              "0        CBH  Travel Agency              Offline   \n",
              "1        CBH  Travel Agency              Offline   \n",
              "2        CWT  Travel Agency               Online   \n",
              "3        CWT  Travel Agency               Online   \n",
              "4        CWT  Travel Agency               Online   \n",
              "...      ...            ...                  ...   \n",
              "63321    JZI       Airlines               Online   \n",
              "63322    JZI       Airlines               Online   \n",
              "63323    JZI       Airlines               Online   \n",
              "63324    JZI       Airlines               Online   \n",
              "63325    JZI       Airlines               Online   \n",
              "\n",
              "                          Product Name Claim  Duration Destination  Net Sales  \\\n",
              "0                   Comprehensive Plan    No       186    MALAYSIA      -29.0   \n",
              "1                   Comprehensive Plan    No       186    MALAYSIA      -29.0   \n",
              "2      Rental Vehicle Excess Insurance    No        65   AUSTRALIA      -49.5   \n",
              "3      Rental Vehicle Excess Insurance    No        60   AUSTRALIA      -39.6   \n",
              "4      Rental Vehicle Excess Insurance    No        79       ITALY      -19.8   \n",
              "...                                ...   ...       ...         ...        ...   \n",
              "63321                       Basic Plan    No       111       JAPAN       35.0   \n",
              "63322                       Basic Plan    No        58       CHINA       40.0   \n",
              "63323                       Basic Plan    No         2    MALAYSIA       18.0   \n",
              "63324                       Basic Plan    No         3    VIET NAM       18.0   \n",
              "63325                       Basic Plan    No        22   HONG KONG       26.0   \n",
              "\n",
              "       Commision (in value) Gender  Age  \n",
              "0                      9.57      F   81  \n",
              "1                      9.57      F   71  \n",
              "2                     29.70    NaN   32  \n",
              "3                     23.76    NaN   32  \n",
              "4                     11.88    NaN   41  \n",
              "...                     ...    ...  ...  \n",
              "63321                 12.25      M   31  \n",
              "63322                 14.00      F   40  \n",
              "63323                  6.30      M   57  \n",
              "63324                  6.30      M   63  \n",
              "63325                  9.10      F   35  \n",
              "\n",
              "[63326 rows x 11 columns]"
            ],
            "text/html": [
              "\n",
              "  <div id=\"df-06aff631-03a6-4300-a599-34f7087156ac\">\n",
              "    <div class=\"colab-df-container\">\n",
              "      <div>\n",
              "<style scoped>\n",
              "    .dataframe tbody tr th:only-of-type {\n",
              "        vertical-align: middle;\n",
              "    }\n",
              "\n",
              "    .dataframe tbody tr th {\n",
              "        vertical-align: top;\n",
              "    }\n",
              "\n",
              "    .dataframe thead th {\n",
              "        text-align: right;\n",
              "    }\n",
              "</style>\n",
              "<table border=\"1\" class=\"dataframe\">\n",
              "  <thead>\n",
              "    <tr style=\"text-align: right;\">\n",
              "      <th></th>\n",
              "      <th>Agency</th>\n",
              "      <th>Agency Type</th>\n",
              "      <th>Distribution Channel</th>\n",
              "      <th>Product Name</th>\n",
              "      <th>Claim</th>\n",
              "      <th>Duration</th>\n",
              "      <th>Destination</th>\n",
              "      <th>Net Sales</th>\n",
              "      <th>Commision (in value)</th>\n",
              "      <th>Gender</th>\n",
              "      <th>Age</th>\n",
              "    </tr>\n",
              "  </thead>\n",
              "  <tbody>\n",
              "    <tr>\n",
              "      <th>0</th>\n",
              "      <td>CBH</td>\n",
              "      <td>Travel Agency</td>\n",
              "      <td>Offline</td>\n",
              "      <td>Comprehensive Plan</td>\n",
              "      <td>No</td>\n",
              "      <td>186</td>\n",
              "      <td>MALAYSIA</td>\n",
              "      <td>-29.0</td>\n",
              "      <td>9.57</td>\n",
              "      <td>F</td>\n",
              "      <td>81</td>\n",
              "    </tr>\n",
              "    <tr>\n",
              "      <th>1</th>\n",
              "      <td>CBH</td>\n",
              "      <td>Travel Agency</td>\n",
              "      <td>Offline</td>\n",
              "      <td>Comprehensive Plan</td>\n",
              "      <td>No</td>\n",
              "      <td>186</td>\n",
              "      <td>MALAYSIA</td>\n",
              "      <td>-29.0</td>\n",
              "      <td>9.57</td>\n",
              "      <td>F</td>\n",
              "      <td>71</td>\n",
              "    </tr>\n",
              "    <tr>\n",
              "      <th>2</th>\n",
              "      <td>CWT</td>\n",
              "      <td>Travel Agency</td>\n",
              "      <td>Online</td>\n",
              "      <td>Rental Vehicle Excess Insurance</td>\n",
              "      <td>No</td>\n",
              "      <td>65</td>\n",
              "      <td>AUSTRALIA</td>\n",
              "      <td>-49.5</td>\n",
              "      <td>29.70</td>\n",
              "      <td>NaN</td>\n",
              "      <td>32</td>\n",
              "    </tr>\n",
              "    <tr>\n",
              "      <th>3</th>\n",
              "      <td>CWT</td>\n",
              "      <td>Travel Agency</td>\n",
              "      <td>Online</td>\n",
              "      <td>Rental Vehicle Excess Insurance</td>\n",
              "      <td>No</td>\n",
              "      <td>60</td>\n",
              "      <td>AUSTRALIA</td>\n",
              "      <td>-39.6</td>\n",
              "      <td>23.76</td>\n",
              "      <td>NaN</td>\n",
              "      <td>32</td>\n",
              "    </tr>\n",
              "    <tr>\n",
              "      <th>4</th>\n",
              "      <td>CWT</td>\n",
              "      <td>Travel Agency</td>\n",
              "      <td>Online</td>\n",
              "      <td>Rental Vehicle Excess Insurance</td>\n",
              "      <td>No</td>\n",
              "      <td>79</td>\n",
              "      <td>ITALY</td>\n",
              "      <td>-19.8</td>\n",
              "      <td>11.88</td>\n",
              "      <td>NaN</td>\n",
              "      <td>41</td>\n",
              "    </tr>\n",
              "    <tr>\n",
              "      <th>...</th>\n",
              "      <td>...</td>\n",
              "      <td>...</td>\n",
              "      <td>...</td>\n",
              "      <td>...</td>\n",
              "      <td>...</td>\n",
              "      <td>...</td>\n",
              "      <td>...</td>\n",
              "      <td>...</td>\n",
              "      <td>...</td>\n",
              "      <td>...</td>\n",
              "      <td>...</td>\n",
              "    </tr>\n",
              "    <tr>\n",
              "      <th>63321</th>\n",
              "      <td>JZI</td>\n",
              "      <td>Airlines</td>\n",
              "      <td>Online</td>\n",
              "      <td>Basic Plan</td>\n",
              "      <td>No</td>\n",
              "      <td>111</td>\n",
              "      <td>JAPAN</td>\n",
              "      <td>35.0</td>\n",
              "      <td>12.25</td>\n",
              "      <td>M</td>\n",
              "      <td>31</td>\n",
              "    </tr>\n",
              "    <tr>\n",
              "      <th>63322</th>\n",
              "      <td>JZI</td>\n",
              "      <td>Airlines</td>\n",
              "      <td>Online</td>\n",
              "      <td>Basic Plan</td>\n",
              "      <td>No</td>\n",
              "      <td>58</td>\n",
              "      <td>CHINA</td>\n",
              "      <td>40.0</td>\n",
              "      <td>14.00</td>\n",
              "      <td>F</td>\n",
              "      <td>40</td>\n",
              "    </tr>\n",
              "    <tr>\n",
              "      <th>63323</th>\n",
              "      <td>JZI</td>\n",
              "      <td>Airlines</td>\n",
              "      <td>Online</td>\n",
              "      <td>Basic Plan</td>\n",
              "      <td>No</td>\n",
              "      <td>2</td>\n",
              "      <td>MALAYSIA</td>\n",
              "      <td>18.0</td>\n",
              "      <td>6.30</td>\n",
              "      <td>M</td>\n",
              "      <td>57</td>\n",
              "    </tr>\n",
              "    <tr>\n",
              "      <th>63324</th>\n",
              "      <td>JZI</td>\n",
              "      <td>Airlines</td>\n",
              "      <td>Online</td>\n",
              "      <td>Basic Plan</td>\n",
              "      <td>No</td>\n",
              "      <td>3</td>\n",
              "      <td>VIET NAM</td>\n",
              "      <td>18.0</td>\n",
              "      <td>6.30</td>\n",
              "      <td>M</td>\n",
              "      <td>63</td>\n",
              "    </tr>\n",
              "    <tr>\n",
              "      <th>63325</th>\n",
              "      <td>JZI</td>\n",
              "      <td>Airlines</td>\n",
              "      <td>Online</td>\n",
              "      <td>Basic Plan</td>\n",
              "      <td>No</td>\n",
              "      <td>22</td>\n",
              "      <td>HONG KONG</td>\n",
              "      <td>26.0</td>\n",
              "      <td>9.10</td>\n",
              "      <td>F</td>\n",
              "      <td>35</td>\n",
              "    </tr>\n",
              "  </tbody>\n",
              "</table>\n",
              "<p>63326 rows × 11 columns</p>\n",
              "</div>\n",
              "      <button class=\"colab-df-convert\" onclick=\"convertToInteractive('df-06aff631-03a6-4300-a599-34f7087156ac')\"\n",
              "              title=\"Convert this dataframe to an interactive table.\"\n",
              "              style=\"display:none;\">\n",
              "        \n",
              "  <svg xmlns=\"http://www.w3.org/2000/svg\" height=\"24px\"viewBox=\"0 0 24 24\"\n",
              "       width=\"24px\">\n",
              "    <path d=\"M0 0h24v24H0V0z\" fill=\"none\"/>\n",
              "    <path d=\"M18.56 5.44l.94 2.06.94-2.06 2.06-.94-2.06-.94-.94-2.06-.94 2.06-2.06.94zm-11 1L8.5 8.5l.94-2.06 2.06-.94-2.06-.94L8.5 2.5l-.94 2.06-2.06.94zm10 10l.94 2.06.94-2.06 2.06-.94-2.06-.94-.94-2.06-.94 2.06-2.06.94z\"/><path d=\"M17.41 7.96l-1.37-1.37c-.4-.4-.92-.59-1.43-.59-.52 0-1.04.2-1.43.59L10.3 9.45l-7.72 7.72c-.78.78-.78 2.05 0 2.83L4 21.41c.39.39.9.59 1.41.59.51 0 1.02-.2 1.41-.59l7.78-7.78 2.81-2.81c.8-.78.8-2.07 0-2.86zM5.41 20L4 18.59l7.72-7.72 1.47 1.35L5.41 20z\"/>\n",
              "  </svg>\n",
              "      </button>\n",
              "      \n",
              "  <style>\n",
              "    .colab-df-container {\n",
              "      display:flex;\n",
              "      flex-wrap:wrap;\n",
              "      gap: 12px;\n",
              "    }\n",
              "\n",
              "    .colab-df-convert {\n",
              "      background-color: #E8F0FE;\n",
              "      border: none;\n",
              "      border-radius: 50%;\n",
              "      cursor: pointer;\n",
              "      display: none;\n",
              "      fill: #1967D2;\n",
              "      height: 32px;\n",
              "      padding: 0 0 0 0;\n",
              "      width: 32px;\n",
              "    }\n",
              "\n",
              "    .colab-df-convert:hover {\n",
              "      background-color: #E2EBFA;\n",
              "      box-shadow: 0px 1px 2px rgba(60, 64, 67, 0.3), 0px 1px 3px 1px rgba(60, 64, 67, 0.15);\n",
              "      fill: #174EA6;\n",
              "    }\n",
              "\n",
              "    [theme=dark] .colab-df-convert {\n",
              "      background-color: #3B4455;\n",
              "      fill: #D2E3FC;\n",
              "    }\n",
              "\n",
              "    [theme=dark] .colab-df-convert:hover {\n",
              "      background-color: #434B5C;\n",
              "      box-shadow: 0px 1px 3px 1px rgba(0, 0, 0, 0.15);\n",
              "      filter: drop-shadow(0px 1px 2px rgba(0, 0, 0, 0.3));\n",
              "      fill: #FFFFFF;\n",
              "    }\n",
              "  </style>\n",
              "\n",
              "      <script>\n",
              "        const buttonEl =\n",
              "          document.querySelector('#df-06aff631-03a6-4300-a599-34f7087156ac button.colab-df-convert');\n",
              "        buttonEl.style.display =\n",
              "          google.colab.kernel.accessAllowed ? 'block' : 'none';\n",
              "\n",
              "        async function convertToInteractive(key) {\n",
              "          const element = document.querySelector('#df-06aff631-03a6-4300-a599-34f7087156ac');\n",
              "          const dataTable =\n",
              "            await google.colab.kernel.invokeFunction('convertToInteractive',\n",
              "                                                     [key], {});\n",
              "          if (!dataTable) return;\n",
              "\n",
              "          const docLinkHtml = 'Like what you see? Visit the ' +\n",
              "            '<a target=\"_blank\" href=https://colab.research.google.com/notebooks/data_table.ipynb>data table notebook</a>'\n",
              "            + ' to learn more about interactive tables.';\n",
              "          element.innerHTML = '';\n",
              "          dataTable['output_type'] = 'display_data';\n",
              "          await google.colab.output.renderOutput(dataTable, element);\n",
              "          const docLink = document.createElement('div');\n",
              "          docLink.innerHTML = docLinkHtml;\n",
              "          element.appendChild(docLink);\n",
              "        }\n",
              "      </script>\n",
              "    </div>\n",
              "  </div>\n",
              "  "
            ]
          },
          "metadata": {},
          "execution_count": 3
        },
        {
          "output_type": "stream",
          "name": "stdout",
          "text": [
            "Warning: total number of rows (63326) exceeds max_rows (20000). Limiting to first (20000) rows.\n"
          ]
        }
      ]
    },
    {
      "cell_type": "code",
      "source": [
        "data.info()"
      ],
      "metadata": {
        "id": "TFKZnyoYv164",
        "outputId": "50d39bd5-8dca-450f-8e26-c24c82bb30cc",
        "colab": {
          "base_uri": "https://localhost:8080/"
        }
      },
      "execution_count": 4,
      "outputs": [
        {
          "output_type": "stream",
          "name": "stdout",
          "text": [
            "<class 'pandas.core.frame.DataFrame'>\n",
            "RangeIndex: 63326 entries, 0 to 63325\n",
            "Data columns (total 11 columns):\n",
            " #   Column                Non-Null Count  Dtype  \n",
            "---  ------                --------------  -----  \n",
            " 0   Agency                63326 non-null  object \n",
            " 1   Agency Type           63326 non-null  object \n",
            " 2   Distribution Channel  63326 non-null  object \n",
            " 3   Product Name          63326 non-null  object \n",
            " 4   Claim                 63326 non-null  object \n",
            " 5   Duration              63326 non-null  int64  \n",
            " 6   Destination           63326 non-null  object \n",
            " 7   Net Sales             63326 non-null  float64\n",
            " 8   Commision (in value)  63326 non-null  float64\n",
            " 9   Gender                18219 non-null  object \n",
            " 10  Age                   63326 non-null  int64  \n",
            "dtypes: float64(2), int64(2), object(7)\n",
            "memory usage: 5.3+ MB\n"
          ]
        }
      ]
    },
    {
      "cell_type": "code",
      "source": [
        "X = data.drop(columns= 'Claim')\n",
        "y = data['Claim']\n",
        "\n",
        "print(f'shape of X: {X.shape}')\n",
        "print(f'shape of y: {y.shape}')\n"
      ],
      "metadata": {
        "id": "2mZSoqUwyE0h",
        "outputId": "e29e5fe4-1f5a-4607-d198-e9cb7df7cdc8",
        "colab": {
          "base_uri": "https://localhost:8080/"
        }
      },
      "execution_count": 6,
      "outputs": [
        {
          "output_type": "stream",
          "name": "stdout",
          "text": [
            "shape of X: (63326, 10)\n",
            "shape of y: (63326,)\n"
          ]
        }
      ]
    },
    {
      "cell_type": "markdown",
      "source": [
        "## Data Cleaning"
      ],
      "metadata": {
        "id": "5jP9i9dAzAYE"
      }
    },
    {
      "cell_type": "code",
      "source": [
        "X.isnull().mean() * 100"
      ],
      "metadata": {
        "id": "IUu6ZvpazCxf",
        "outputId": "62459c85-f82c-4087-f00d-bec8cbd813d5",
        "colab": {
          "base_uri": "https://localhost:8080/"
        }
      },
      "execution_count": 9,
      "outputs": [
        {
          "output_type": "execute_result",
          "data": {
            "text/plain": [
              "Agency                   0.000000\n",
              "Agency Type              0.000000\n",
              "Distribution Channel     0.000000\n",
              "Product Name             0.000000\n",
              "Duration                 0.000000\n",
              "Destination              0.000000\n",
              "Net Sales                0.000000\n",
              "Commision (in value)     0.000000\n",
              "Gender                  71.229827\n",
              "Age                      0.000000\n",
              "dtype: float64"
            ]
          },
          "metadata": {},
          "execution_count": 9
        }
      ]
    },
    {
      "cell_type": "markdown",
      "source": [
        "Dropping the column `Gender` since 71.2% of the data is missing and on the rest of the columns there is no missing data"
      ],
      "metadata": {
        "id": "W1aeMPxVzVym"
      }
    },
    {
      "cell_type": "code",
      "source": [
        "X.drop(columns= 'Gender', inplace= True)\n",
        "print(f'shape of X: {X.shape}')"
      ],
      "metadata": {
        "id": "NnonvPuFz05R",
        "outputId": "9425d02e-facd-47ff-da38-00f28fc685a6",
        "colab": {
          "base_uri": "https://localhost:8080/"
        }
      },
      "execution_count": 10,
      "outputs": [
        {
          "output_type": "stream",
          "name": "stdout",
          "text": [
            "shape of X: (63326, 9)\n"
          ]
        }
      ]
    },
    {
      "cell_type": "markdown",
      "source": [
        "## Data Analysis"
      ],
      "metadata": {
        "id": "XjY824lH0qku"
      }
    },
    {
      "cell_type": "code",
      "source": [
        "# unique elements in categorical variables\n",
        "X.select_dtypes(include= ['object']).nunique()"
      ],
      "metadata": {
        "id": "qluFQbXc0Jpu",
        "outputId": "78a013ee-e995-48cf-b2cb-61da37c69d84",
        "colab": {
          "base_uri": "https://localhost:8080/"
        }
      },
      "execution_count": 14,
      "outputs": [
        {
          "output_type": "execute_result",
          "data": {
            "text/plain": [
              "Agency                   16\n",
              "Agency Type               2\n",
              "Distribution Channel      2\n",
              "Product Name             26\n",
              "Destination             149\n",
              "dtype: int64"
            ]
          },
          "metadata": {},
          "execution_count": 14
        }
      ]
    },
    {
      "cell_type": "code",
      "source": [
        "destination_value_counts = X['Destination'].value_counts()\n",
        "fig = px.bar(x = destination_value_counts.index, y = destination_value_counts.values)\n",
        "fig.y\n",
        "fig.show()"
      ],
      "metadata": {
        "id": "vuVqUPbY-a0t",
        "outputId": "9dd60938-d85b-4545-bd43-87ba6ef3c535",
        "colab": {
          "base_uri": "https://localhost:8080/",
          "height": 542
        }
      },
      "execution_count": 28,
      "outputs": [
        {
          "output_type": "display_data",
          "data": {
            "text/html": [
              "<html>\n",
              "<head><meta charset=\"utf-8\" /></head>\n",
              "<body>\n",
              "    <div>            <script src=\"https://cdnjs.cloudflare.com/ajax/libs/mathjax/2.7.5/MathJax.js?config=TeX-AMS-MML_SVG\"></script><script type=\"text/javascript\">if (window.MathJax && window.MathJax.Hub && window.MathJax.Hub.Config) {window.MathJax.Hub.Config({SVG: {font: \"STIX-Web\"}});}</script>                <script type=\"text/javascript\">window.PlotlyConfig = {MathJaxConfig: 'local'};</script>\n",
              "        <script src=\"https://cdn.plot.ly/plotly-2.18.2.min.js\"></script>                <div id=\"840423a2-4c79-4661-9b0c-c25e9b0cd116\" class=\"plotly-graph-div\" style=\"height:525px; width:100%;\"></div>            <script type=\"text/javascript\">                                    window.PLOTLYENV=window.PLOTLYENV || {};                                    if (document.getElementById(\"840423a2-4c79-4661-9b0c-c25e9b0cd116\")) {                    Plotly.newPlot(                        \"840423a2-4c79-4661-9b0c-c25e9b0cd116\",                        [{\"alignmentgroup\":\"True\",\"hovertemplate\":\"x=%{x}<br>y=%{y}<extra></extra>\",\"legendgroup\":\"\",\"marker\":{\"color\":\"#636efa\",\"pattern\":{\"shape\":\"\"}},\"name\":\"\",\"offsetgroup\":\"\",\"orientation\":\"v\",\"showlegend\":false,\"textposition\":\"auto\",\"x\":[\"SINGAPORE\",\"MALAYSIA\",\"THAILAND\",\"CHINA\",\"AUSTRALIA\",\"INDONESIA\",\"UNITED STATES\",\"PHILIPPINES\",\"HONG KONG\",\"INDIA\",\"JAPAN\",\"VIET NAM\",\"KOREA, REPUBLIC OF\",\"UNITED KINGDOM\",\"TAIWAN, PROVINCE OF CHINA\",\"MYANMAR\",\"BRUNEI DARUSSALAM\",\"NEW ZEALAND\",\"CANADA\",\"CAMBODIA\",\"FRANCE\",\"GERMANY\",\"ITALY\",\"NETHERLANDS\",\"SPAIN\",\"UNITED ARAB EMIRATES\",\"SWITZERLAND\",\"SRI LANKA\",\"NORWAY\",\"SOUTH AFRICA\",\"LAO PEOPLE'S DEMOCRATIC REPUBLIC\",\"IRELAND\",\"NEPAL\",\"ICELAND\",\"GREECE\",\"MACAO\",\"DENMARK\",\"AUSTRIA\",\"BANGLADESH\",\"FINLAND\",\"PORTUGAL\",\"PERU\",\"TURKEY\",\"RUSSIAN FEDERATION\",\"CZECH REPUBLIC\",\"SWEDEN\",\"SAUDI ARABIA\",\"CROATIA\",\"ISRAEL\",\"BELGIUM\",\"MONGOLIA\",\"BRAZIL\",\"POLAND\",\"MEXICO\",\"PAKISTAN\",\"MALDIVES\",\"HUNGARY\",\"ROMANIA\",\"ARGENTINA\",\"EGYPT\",\"KENYA\",\"TANZANIA, UNITED REPUBLIC OF\",\"OMAN\",\"QATAR\",\"JORDAN\",\"CYPRUS\",\"KAZAKHSTAN\",\"MOROCCO\",\"GEORGIA\",\"COLOMBIA\",\"FIJI\",\"BAHRAIN\",\"BULGARIA\",\"CHILE\",\"MAURITIUS\",\"PAPUA NEW GUINEA\",\"MALTA\",\"UZBEKISTAN\",\"SLOVENIA\",\"UKRAINE\",\"BOLIVIA\",\"GUAM\",\"LUXEMBOURG\",\"ESTONIA\",\"AZERBAIJAN\",\"KUWAIT\",\"COSTA RICA\",\"ECUADOR\",\"SERBIA\",\"TUNISIA\",\"KYRGYZSTAN\",\"ETHIOPIA\",\"VENEZUELA\",\"LITHUANIA\",\"VANUATU\",\"LEBANON\",\"GHANA\",\"NAMIBIA\",\"PANAMA\",\"UGANDA\",\"TRINIDAD AND TOBAGO\",\"GUINEA\",\"BHUTAN\",\"LATVIA\",\"BERMUDA\",\"ZAMBIA\",\"FAROE ISLANDS\",\"ZIMBABWE\",\"BELARUS\",\"IRAN, ISLAMIC REPUBLIC OF\",\"JAMAICA\",\"PUERTO RICO\",\"MACEDONIA, THE FORMER YUGOSLAV REPUBLIC OF\",\"GUYANA\",\"TURKMENISTAN\",\"MALI\",\"CAYMAN ISLANDS\",\"FRENCH POLYNESIA\",\"REUNION\",\"NORTHERN MARIANA ISLANDS\",\"ANGOLA\",\"REPUBLIC OF MONTENEGRO\",\"TURKS AND CAICOS ISLANDS\",\"SENEGAL\",\"SOLOMON ISLANDS\",\"TIBET\",\"CAMEROON\",\"RWANDA\",\"GUATEMALA\",\"LIBYAN ARAB JAMAHIRIYA\",\"GUINEA-BISSAU\",\"GUADELOUPE\",\"ALBANIA\",\"VIRGIN ISLANDS, U.S.\",\"BARBADOS\",\"BENIN\",\"URUGUAY\",\"NEW CALEDONIA\",\"KOREA, DEMOCRATIC PEOPLE'S REPUBLIC OF\",\"ARMENIA\",\"SIERRA LEONE\",\"TAJIKISTAN\",\"MOLDOVA, REPUBLIC OF\",\"BOTSWANA\",\"SEYCHELLES\",\"SAMOA\",\"NIGERIA\",\"DOMINICAN REPUBLIC\",\"BOSNIA AND HERZEGOVINA\"],\"xaxis\":\"x\",\"y\":[13255,5930,5894,4796,3694,3452,2530,2490,2411,2251,2061,1669,1479,1309,1090,806,780,537,528,493,483,456,455,375,337,286,283,256,164,162,149,123,120,117,110,110,105,102,101,96,96,92,80,80,69,64,62,56,48,46,44,37,34,33,29,25,23,23,22,21,21,21,18,17,16,15,15,15,15,15,13,13,12,12,11,11,11,10,10,10,10,9,9,9,8,8,7,7,7,7,6,6,5,5,5,5,5,5,4,4,4,4,4,3,3,3,3,3,3,3,3,3,3,2,2,2,2,2,2,2,1,1,1,1,1,1,1,1,1,1,1,1,1,1,1,1,1,1,1,1,1,1,1,1,1,1,1,1,1],\"yaxis\":\"y\",\"type\":\"bar\"}],                        {\"template\":{\"data\":{\"histogram2dcontour\":[{\"type\":\"histogram2dcontour\",\"colorbar\":{\"outlinewidth\":0,\"ticks\":\"\"},\"colorscale\":[[0.0,\"#0d0887\"],[0.1111111111111111,\"#46039f\"],[0.2222222222222222,\"#7201a8\"],[0.3333333333333333,\"#9c179e\"],[0.4444444444444444,\"#bd3786\"],[0.5555555555555556,\"#d8576b\"],[0.6666666666666666,\"#ed7953\"],[0.7777777777777778,\"#fb9f3a\"],[0.8888888888888888,\"#fdca26\"],[1.0,\"#f0f921\"]]}],\"choropleth\":[{\"type\":\"choropleth\",\"colorbar\":{\"outlinewidth\":0,\"ticks\":\"\"}}],\"histogram2d\":[{\"type\":\"histogram2d\",\"colorbar\":{\"outlinewidth\":0,\"ticks\":\"\"},\"colorscale\":[[0.0,\"#0d0887\"],[0.1111111111111111,\"#46039f\"],[0.2222222222222222,\"#7201a8\"],[0.3333333333333333,\"#9c179e\"],[0.4444444444444444,\"#bd3786\"],[0.5555555555555556,\"#d8576b\"],[0.6666666666666666,\"#ed7953\"],[0.7777777777777778,\"#fb9f3a\"],[0.8888888888888888,\"#fdca26\"],[1.0,\"#f0f921\"]]}],\"heatmap\":[{\"type\":\"heatmap\",\"colorbar\":{\"outlinewidth\":0,\"ticks\":\"\"},\"colorscale\":[[0.0,\"#0d0887\"],[0.1111111111111111,\"#46039f\"],[0.2222222222222222,\"#7201a8\"],[0.3333333333333333,\"#9c179e\"],[0.4444444444444444,\"#bd3786\"],[0.5555555555555556,\"#d8576b\"],[0.6666666666666666,\"#ed7953\"],[0.7777777777777778,\"#fb9f3a\"],[0.8888888888888888,\"#fdca26\"],[1.0,\"#f0f921\"]]}],\"heatmapgl\":[{\"type\":\"heatmapgl\",\"colorbar\":{\"outlinewidth\":0,\"ticks\":\"\"},\"colorscale\":[[0.0,\"#0d0887\"],[0.1111111111111111,\"#46039f\"],[0.2222222222222222,\"#7201a8\"],[0.3333333333333333,\"#9c179e\"],[0.4444444444444444,\"#bd3786\"],[0.5555555555555556,\"#d8576b\"],[0.6666666666666666,\"#ed7953\"],[0.7777777777777778,\"#fb9f3a\"],[0.8888888888888888,\"#fdca26\"],[1.0,\"#f0f921\"]]}],\"contourcarpet\":[{\"type\":\"contourcarpet\",\"colorbar\":{\"outlinewidth\":0,\"ticks\":\"\"}}],\"contour\":[{\"type\":\"contour\",\"colorbar\":{\"outlinewidth\":0,\"ticks\":\"\"},\"colorscale\":[[0.0,\"#0d0887\"],[0.1111111111111111,\"#46039f\"],[0.2222222222222222,\"#7201a8\"],[0.3333333333333333,\"#9c179e\"],[0.4444444444444444,\"#bd3786\"],[0.5555555555555556,\"#d8576b\"],[0.6666666666666666,\"#ed7953\"],[0.7777777777777778,\"#fb9f3a\"],[0.8888888888888888,\"#fdca26\"],[1.0,\"#f0f921\"]]}],\"surface\":[{\"type\":\"surface\",\"colorbar\":{\"outlinewidth\":0,\"ticks\":\"\"},\"colorscale\":[[0.0,\"#0d0887\"],[0.1111111111111111,\"#46039f\"],[0.2222222222222222,\"#7201a8\"],[0.3333333333333333,\"#9c179e\"],[0.4444444444444444,\"#bd3786\"],[0.5555555555555556,\"#d8576b\"],[0.6666666666666666,\"#ed7953\"],[0.7777777777777778,\"#fb9f3a\"],[0.8888888888888888,\"#fdca26\"],[1.0,\"#f0f921\"]]}],\"mesh3d\":[{\"type\":\"mesh3d\",\"colorbar\":{\"outlinewidth\":0,\"ticks\":\"\"}}],\"scatter\":[{\"fillpattern\":{\"fillmode\":\"overlay\",\"size\":10,\"solidity\":0.2},\"type\":\"scatter\"}],\"parcoords\":[{\"type\":\"parcoords\",\"line\":{\"colorbar\":{\"outlinewidth\":0,\"ticks\":\"\"}}}],\"scatterpolargl\":[{\"type\":\"scatterpolargl\",\"marker\":{\"colorbar\":{\"outlinewidth\":0,\"ticks\":\"\"}}}],\"bar\":[{\"error_x\":{\"color\":\"#2a3f5f\"},\"error_y\":{\"color\":\"#2a3f5f\"},\"marker\":{\"line\":{\"color\":\"#E5ECF6\",\"width\":0.5},\"pattern\":{\"fillmode\":\"overlay\",\"size\":10,\"solidity\":0.2}},\"type\":\"bar\"}],\"scattergeo\":[{\"type\":\"scattergeo\",\"marker\":{\"colorbar\":{\"outlinewidth\":0,\"ticks\":\"\"}}}],\"scatterpolar\":[{\"type\":\"scatterpolar\",\"marker\":{\"colorbar\":{\"outlinewidth\":0,\"ticks\":\"\"}}}],\"histogram\":[{\"marker\":{\"pattern\":{\"fillmode\":\"overlay\",\"size\":10,\"solidity\":0.2}},\"type\":\"histogram\"}],\"scattergl\":[{\"type\":\"scattergl\",\"marker\":{\"colorbar\":{\"outlinewidth\":0,\"ticks\":\"\"}}}],\"scatter3d\":[{\"type\":\"scatter3d\",\"line\":{\"colorbar\":{\"outlinewidth\":0,\"ticks\":\"\"}},\"marker\":{\"colorbar\":{\"outlinewidth\":0,\"ticks\":\"\"}}}],\"scattermapbox\":[{\"type\":\"scattermapbox\",\"marker\":{\"colorbar\":{\"outlinewidth\":0,\"ticks\":\"\"}}}],\"scatterternary\":[{\"type\":\"scatterternary\",\"marker\":{\"colorbar\":{\"outlinewidth\":0,\"ticks\":\"\"}}}],\"scattercarpet\":[{\"type\":\"scattercarpet\",\"marker\":{\"colorbar\":{\"outlinewidth\":0,\"ticks\":\"\"}}}],\"carpet\":[{\"aaxis\":{\"endlinecolor\":\"#2a3f5f\",\"gridcolor\":\"white\",\"linecolor\":\"white\",\"minorgridcolor\":\"white\",\"startlinecolor\":\"#2a3f5f\"},\"baxis\":{\"endlinecolor\":\"#2a3f5f\",\"gridcolor\":\"white\",\"linecolor\":\"white\",\"minorgridcolor\":\"white\",\"startlinecolor\":\"#2a3f5f\"},\"type\":\"carpet\"}],\"table\":[{\"cells\":{\"fill\":{\"color\":\"#EBF0F8\"},\"line\":{\"color\":\"white\"}},\"header\":{\"fill\":{\"color\":\"#C8D4E3\"},\"line\":{\"color\":\"white\"}},\"type\":\"table\"}],\"barpolar\":[{\"marker\":{\"line\":{\"color\":\"#E5ECF6\",\"width\":0.5},\"pattern\":{\"fillmode\":\"overlay\",\"size\":10,\"solidity\":0.2}},\"type\":\"barpolar\"}],\"pie\":[{\"automargin\":true,\"type\":\"pie\"}]},\"layout\":{\"autotypenumbers\":\"strict\",\"colorway\":[\"#636efa\",\"#EF553B\",\"#00cc96\",\"#ab63fa\",\"#FFA15A\",\"#19d3f3\",\"#FF6692\",\"#B6E880\",\"#FF97FF\",\"#FECB52\"],\"font\":{\"color\":\"#2a3f5f\"},\"hovermode\":\"closest\",\"hoverlabel\":{\"align\":\"left\"},\"paper_bgcolor\":\"white\",\"plot_bgcolor\":\"#E5ECF6\",\"polar\":{\"bgcolor\":\"#E5ECF6\",\"angularaxis\":{\"gridcolor\":\"white\",\"linecolor\":\"white\",\"ticks\":\"\"},\"radialaxis\":{\"gridcolor\":\"white\",\"linecolor\":\"white\",\"ticks\":\"\"}},\"ternary\":{\"bgcolor\":\"#E5ECF6\",\"aaxis\":{\"gridcolor\":\"white\",\"linecolor\":\"white\",\"ticks\":\"\"},\"baxis\":{\"gridcolor\":\"white\",\"linecolor\":\"white\",\"ticks\":\"\"},\"caxis\":{\"gridcolor\":\"white\",\"linecolor\":\"white\",\"ticks\":\"\"}},\"coloraxis\":{\"colorbar\":{\"outlinewidth\":0,\"ticks\":\"\"}},\"colorscale\":{\"sequential\":[[0.0,\"#0d0887\"],[0.1111111111111111,\"#46039f\"],[0.2222222222222222,\"#7201a8\"],[0.3333333333333333,\"#9c179e\"],[0.4444444444444444,\"#bd3786\"],[0.5555555555555556,\"#d8576b\"],[0.6666666666666666,\"#ed7953\"],[0.7777777777777778,\"#fb9f3a\"],[0.8888888888888888,\"#fdca26\"],[1.0,\"#f0f921\"]],\"sequentialminus\":[[0.0,\"#0d0887\"],[0.1111111111111111,\"#46039f\"],[0.2222222222222222,\"#7201a8\"],[0.3333333333333333,\"#9c179e\"],[0.4444444444444444,\"#bd3786\"],[0.5555555555555556,\"#d8576b\"],[0.6666666666666666,\"#ed7953\"],[0.7777777777777778,\"#fb9f3a\"],[0.8888888888888888,\"#fdca26\"],[1.0,\"#f0f921\"]],\"diverging\":[[0,\"#8e0152\"],[0.1,\"#c51b7d\"],[0.2,\"#de77ae\"],[0.3,\"#f1b6da\"],[0.4,\"#fde0ef\"],[0.5,\"#f7f7f7\"],[0.6,\"#e6f5d0\"],[0.7,\"#b8e186\"],[0.8,\"#7fbc41\"],[0.9,\"#4d9221\"],[1,\"#276419\"]]},\"xaxis\":{\"gridcolor\":\"white\",\"linecolor\":\"white\",\"ticks\":\"\",\"title\":{\"standoff\":15},\"zerolinecolor\":\"white\",\"automargin\":true,\"zerolinewidth\":2},\"yaxis\":{\"gridcolor\":\"white\",\"linecolor\":\"white\",\"ticks\":\"\",\"title\":{\"standoff\":15},\"zerolinecolor\":\"white\",\"automargin\":true,\"zerolinewidth\":2},\"scene\":{\"xaxis\":{\"backgroundcolor\":\"#E5ECF6\",\"gridcolor\":\"white\",\"linecolor\":\"white\",\"showbackground\":true,\"ticks\":\"\",\"zerolinecolor\":\"white\",\"gridwidth\":2},\"yaxis\":{\"backgroundcolor\":\"#E5ECF6\",\"gridcolor\":\"white\",\"linecolor\":\"white\",\"showbackground\":true,\"ticks\":\"\",\"zerolinecolor\":\"white\",\"gridwidth\":2},\"zaxis\":{\"backgroundcolor\":\"#E5ECF6\",\"gridcolor\":\"white\",\"linecolor\":\"white\",\"showbackground\":true,\"ticks\":\"\",\"zerolinecolor\":\"white\",\"gridwidth\":2}},\"shapedefaults\":{\"line\":{\"color\":\"#2a3f5f\"}},\"annotationdefaults\":{\"arrowcolor\":\"#2a3f5f\",\"arrowhead\":0,\"arrowwidth\":1},\"geo\":{\"bgcolor\":\"white\",\"landcolor\":\"#E5ECF6\",\"subunitcolor\":\"white\",\"showland\":true,\"showlakes\":true,\"lakecolor\":\"white\"},\"title\":{\"x\":0.05},\"mapbox\":{\"style\":\"light\"}}},\"xaxis\":{\"anchor\":\"y\",\"domain\":[0.0,1.0],\"title\":{\"text\":\"x\"}},\"yaxis\":{\"anchor\":\"x\",\"domain\":[0.0,1.0],\"title\":{\"text\":\"y\"}},\"legend\":{\"tracegroupgap\":0},\"margin\":{\"t\":60},\"barmode\":\"relative\"},                        {\"responsive\": true}                    ).then(function(){\n",
              "                            \n",
              "var gd = document.getElementById('840423a2-4c79-4661-9b0c-c25e9b0cd116');\n",
              "var x = new MutationObserver(function (mutations, observer) {{\n",
              "        var display = window.getComputedStyle(gd).display;\n",
              "        if (!display || display === 'none') {{\n",
              "            console.log([gd, 'removed!']);\n",
              "            Plotly.purge(gd);\n",
              "            observer.disconnect();\n",
              "        }}\n",
              "}});\n",
              "\n",
              "// Listen for the removal of the full notebook cells\n",
              "var notebookContainer = gd.closest('#notebook-container');\n",
              "if (notebookContainer) {{\n",
              "    x.observe(notebookContainer, {childList: true});\n",
              "}}\n",
              "\n",
              "// Listen for the clearing of the current output cell\n",
              "var outputEl = gd.closest('.output');\n",
              "if (outputEl) {{\n",
              "    x.observe(outputEl, {childList: true});\n",
              "}}\n",
              "\n",
              "                        })                };                            </script>        </div>\n",
              "</body>\n",
              "</html>"
            ]
          },
          "metadata": {}
        }
      ]
    }
  ],
  "metadata": {
    "colab": {
      "name": "scratchpad",
      "provenance": []
    },
    "kernelspec": {
      "display_name": "Python 3",
      "name": "python3"
    }
  },
  "nbformat": 4,
  "nbformat_minor": 0
}