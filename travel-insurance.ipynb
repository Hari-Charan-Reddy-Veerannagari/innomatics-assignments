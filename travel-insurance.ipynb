{
  "cells": [
    {
      "cell_type": "markdown",
      "source": [
        "Travel Insurance"
      ],
      "metadata": {
        "id": "lIYdn1woOS1n"
      }
    }
  ],
  "metadata": {
    "colab": {
      "name": "scratchpad",
      "provenance": []
    },
    "kernelspec": {
      "display_name": "Python 3",
      "name": "python3"
    }
  },
  "nbformat": 4,
  "nbformat_minor": 0
}